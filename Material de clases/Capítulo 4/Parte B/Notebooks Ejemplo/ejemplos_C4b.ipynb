{
 "cells": [
  {
   "cell_type": "markdown",
   "metadata": {},
   "source": [
    "## Ejemplos C4a\n",
    "\n",
    "Considere la base de datos contenida en el archivo `data.db`, formada por las tablas `Flights`, `Aircraft`, `Employees` y `Certified`, que fueron creadas utilizando las siguientes sentencias en SQL:\n",
    "* `CREATE TABLE Flights(flno INTEGER PRIMARY KEY, origin TEXT, destination TEXT, distance INTEGER, departs DATE, arrives DATE, price REAL)`\n",
    "* `CREATE TABLE Aircraft(aid INTEGER PRIMARY KEY, aname TEXT, cruisingrange INTEGER)`\n",
    "* `CREATE TABLE Employees(eid INTEGER PRIMARY KEY, ename TEXT, salary REAL)`\n",
    "* `CREATE TABLE Certified(eid INTEGER, aid INTEGER, PRIMARY KEY(eid,aid), FOREIGN KEY(eid) REFERENCES employees, FOREIGN KEY(aid) REFERENCES aircraft)`\n",
    "\n",
    "\n",
    "Considere que la tabla `Employees` describe tanto a pilotos como a otro tipo de trabajador, que cada piloto está certificado para volar al menos un avión, y que solo los pilotos están certificados para volar.\n",
    "\n",
    "En base a esto, y asumiendo que las tablas ya están correctamente pobladas, escriba las consultas SQL para responder a las preguntas que se indican a continuación. Considere que cada pregunta debe ser respondida utilizando una única consulta en SQL.\n",
    "\n",
    "- Encuentre los nombres de los pilotos certificados para volar algún avión Boeing.\n",
    "- Encuentre los nombres de los pilotos que están certificados para volar aviones con autonomía de más de 1000 millas.\n",
    "- Por cada piloto que está certificado para volar más de tres aviones, encuentre el _id_ y la autonomía del avión con máxima autonomía para el que está certificado.\n",
    "- Encuentre los _id_ de los aviones que pueden ser usados en rutas de Los Ángeles a Chicago.\n",
    "- Encuentre los nombres de los pilotos cuyo sueldo es menor que el precio del vuelo más barato de Los Ángeles a Honolulu.\n",
    "- Encuentre los nombres de los aviones cuyos pilotos certificados tienen todos sueldos mayores a US$ 80.000."
   ]
  },
  {
   "cell_type": "markdown",
   "metadata": {},
   "source": [
    "### Exploración de los datos\n",
    "Antes de comenzar a escribir las consultas, revisaremos el contenido de cada tabla:"
   ]
  },
  {
   "cell_type": "code",
   "execution_count": 5,
   "metadata": {},
   "outputs": [],
   "source": [
    "import sqlite3"
   ]
  },
  {
   "cell_type": "code",
   "execution_count": 6,
   "metadata": {},
   "outputs": [],
   "source": [
    "connection = sqlite3.connect('data.db') \n",
    "cursor = connection.cursor()"
   ]
  },
  {
   "cell_type": "code",
   "execution_count": 7,
   "metadata": {},
   "outputs": [
    {
     "name": "stdout",
     "output_type": "stream",
     "text": [
      "(2, 'Los Angeles', 'Tokyo', 5478, '2005/04/12 12:30', '2005/04/13 15:55', 780.99)\n",
      "(7, 'Los Angeles', 'Sydney', 7487, '2005/04/12 22:30', '2005/04/14 6:10', 1278.56)\n",
      "(13, 'Los Angeles', 'Chicago', 1749, '2005/04/12 08:45', '2005/04/12 20:45', 220.98)\n",
      "(33, 'Los Angeles', 'Honolulu', 2551, '2005/04/12 09:15', '2005/04/12 11:15', 375.23)\n",
      "(34, 'Los Angeles', 'Honolulu', 2551, '2005/04/12 12:45', '2005/04/12 15:18', 425.98)\n",
      "(68, 'Chicago', 'New York', 802, '2005/04/12 09:00', '2005/04/12 12:02', 202.45)\n",
      "(76, 'Chicago', 'Los Angeles', 1749, '2005/04/12 08:32', '2005/04/12 10:03', 220.98)\n",
      "(99, 'Los Angeles', 'Washington D.C.', 2308, '2005/04/12 09:30', '2005/04/12 21:40', 235.98)\n",
      "(149, 'Pittsburgh', 'New York', 303, '2005/04/12 09:42', '2005/04/12 12:09', 116.5)\n",
      "(304, 'Minneapolis', 'New York', 991, '2005/04/12 10:00', '2005/04/12 1:39', 101.56)\n",
      "(346, 'Los Angeles', 'Dallas', 1251, '2005/04/12 11:50', '2005/04/12 19:05', 225.43)\n",
      "(387, 'Los Angeles', 'Boston', 2606, '2005/04/12 07:03', '2005/04/12 17:03', 261.56)\n",
      "(701, 'Detroit', 'New York', 470, '2005/04/12 08:55', '2005/04/12 10:26', 180.56)\n",
      "(702, 'Madison', 'New York', 789, '2005/04/12 07:05', '2005/04/12 10:12', 202.34)\n",
      "(2223, 'Madison', 'Pittsburgh', 517, '2005/04/12 08:02', '2005/04/12 10:01', 189.98)\n",
      "(4884, 'Madison', 'Chicago', 84, '2005/04/12 22:12', '2005/04/12 23:02', 112.45)\n",
      "(5694, 'Madison', 'Minneapolis', 247, '2005/04/12 08:32', '2005/04/12 09:33', 120.11)\n",
      "(7789, 'Madison', 'Detroit', 319, '2005/04/12 06:15', '2005/04/12 08:19', 120.33)\n"
     ]
    }
   ],
   "source": [
    "sql = \"SELECT * FROM Flights\"\n",
    "cursor.execute(sql)\n",
    "for r in cursor:\n",
    "    print(r)"
   ]
  },
  {
   "cell_type": "code",
   "execution_count": 8,
   "metadata": {},
   "outputs": [
    {
     "name": "stdout",
     "output_type": "stream",
     "text": [
      "(1, 'Boeing 747-400', 8430)\n",
      "(2, 'Boeing 737-800', 3383)\n",
      "(3, 'Airbus A340-300', 7120)\n",
      "(4, 'British Aerospace Jetstream 41', 1502)\n",
      "(5, 'Embraer ERJ-145', 1530)\n",
      "(6, 'SAAB 340', 2128)\n",
      "(7, 'Piper Archer III', 520)\n",
      "(8, 'Tupolev 154', 4103)\n",
      "(9, 'Lockheed L1011', 6900)\n",
      "(10, 'Boeing 757-300', 4010)\n",
      "(11, 'Boeing 777-300', 6441)\n",
      "(12, 'Boeing 767-400ER', 6475)\n",
      "(13, 'Airbus A320', 2605)\n",
      "(14, 'Airbus A319', 1805)\n",
      "(15, 'Boeing 727', 1504)\n",
      "(16, 'Schwitzer 2-33', 30)\n"
     ]
    }
   ],
   "source": [
    "sql = \"SELECT * FROM Aircraft\"\n",
    "cursor.execute(sql)\n",
    "for r in cursor:\n",
    "    print(r)"
   ]
  },
  {
   "cell_type": "code",
   "execution_count": 9,
   "metadata": {},
   "outputs": [
    {
     "name": "stdout",
     "output_type": "stream",
     "text": [
      "(11564812, 'John Williams', 153972.0)\n",
      "(15645489, 'Donald King', 18050.0)\n",
      "(90873519, 'Elizabeth Taylor', 32021.0)\n",
      "(141582651, 'Mary Johnson', 178345.0)\n",
      "(142519864, 'Betty Adams', 227489.0)\n",
      "(159542516, 'William Moore', 48250.0)\n",
      "(242518965, 'James Smith', 120433.0)\n",
      "(248965255, 'Barbara Wilson', 43723.0)\n",
      "(254099823, 'Patricia Jones', 24450.0)\n",
      "(269734834, 'George Wright', 289950.0)\n",
      "(274878974, 'Michael Miller', 99890.0)\n",
      "(287321212, 'Michael Miller', 48090.0)\n",
      "(310454876, 'Joseph Thompson', 212156.0)\n",
      "(310454877, 'Chad Stewart', 33546.0)\n",
      "(348121549, 'Haywood Kelly', 32899.0)\n",
      "(355548984, 'Angela Martinez', 212156.0)\n",
      "(356187925, 'Robert Brown', 44740.0)\n",
      "(390487451, 'Lawrence Sperry', 212156.0)\n",
      "(486512566, 'David Anderson', 743001.0)\n",
      "(489221823, 'Richard Jackson', 23980.0)\n",
      "(489456522, 'Linda Davis', 127984.0)\n",
      "(548977562, 'William Ward', 84476.0)\n",
      "(550156548, 'Karen Scott', 205187.0)\n",
      "(552455318, 'Larry West', 101745.0)\n",
      "(552455348, 'Dorthy Lewis', 92013.0)\n",
      "(556784565, 'Mark Young', 205187.0)\n",
      "(567354612, 'Lisa Walker', 256481.0)\n",
      "(573284895, 'Eric Cooper', 114323.0)\n",
      "(574489456, 'William Jones', 105743.0)\n",
      "(574489457, 'Milo Brooks', 20.0)\n",
      "(619023588, 'Jennifer Thomas', 54921.0)\n"
     ]
    }
   ],
   "source": [
    "sql = \"SELECT * FROM Employees\"\n",
    "cursor.execute(sql)\n",
    "for r in cursor:\n",
    "    print(r)"
   ]
  },
  {
   "cell_type": "code",
   "execution_count": 10,
   "metadata": {},
   "outputs": [
    {
     "name": "stdout",
     "output_type": "stream",
     "text": [
      "(567354612, 1)\n",
      "(567354612, 2)\n",
      "(567354612, 10)\n",
      "(567354612, 11)\n",
      "(567354612, 12)\n",
      "(567354612, 15)\n",
      "(567354612, 7)\n",
      "(567354612, 9)\n",
      "(567354612, 3)\n",
      "(567354612, 4)\n",
      "(567354612, 5)\n",
      "(552455318, 2)\n",
      "(552455318, 14)\n",
      "(550156548, 1)\n",
      "(550156548, 12)\n",
      "(390487451, 3)\n",
      "(390487451, 13)\n",
      "(390487451, 14)\n",
      "(274878974, 10)\n",
      "(274878974, 12)\n",
      "(355548984, 8)\n",
      "(355548984, 9)\n",
      "(310454876, 8)\n",
      "(310454876, 9)\n",
      "(548977562, 7)\n",
      "(142519864, 1)\n",
      "(142519864, 11)\n",
      "(142519864, 12)\n",
      "(142519864, 10)\n",
      "(142519864, 3)\n",
      "(142519864, 2)\n",
      "(142519864, 13)\n",
      "(142519864, 7)\n",
      "(269734834, 1)\n",
      "(269734834, 2)\n",
      "(269734834, 3)\n",
      "(269734834, 4)\n",
      "(269734834, 5)\n",
      "(269734834, 6)\n",
      "(269734834, 7)\n",
      "(269734834, 8)\n",
      "(269734834, 9)\n",
      "(269734834, 10)\n",
      "(269734834, 11)\n",
      "(269734834, 12)\n",
      "(269734834, 13)\n",
      "(269734834, 14)\n",
      "(269734834, 15)\n",
      "(552455318, 7)\n",
      "(556784565, 5)\n",
      "(556784565, 2)\n",
      "(556784565, 3)\n",
      "(573284895, 3)\n",
      "(573284895, 4)\n",
      "(573284895, 5)\n",
      "(574489456, 8)\n",
      "(574489456, 6)\n",
      "(574489457, 7)\n",
      "(242518965, 2)\n",
      "(242518965, 10)\n",
      "(141582651, 2)\n",
      "(141582651, 10)\n",
      "(141582651, 12)\n",
      "(11564812, 2)\n",
      "(11564812, 10)\n",
      "(356187925, 6)\n",
      "(159542516, 5)\n",
      "(159542516, 7)\n",
      "(90873519, 6)\n"
     ]
    }
   ],
   "source": [
    "sql = \"SELECT * FROM Certified\"\n",
    "cursor.execute(sql)\n",
    "for r in cursor:\n",
    "    print(r)"
   ]
  },
  {
   "cell_type": "code",
   "execution_count": 11,
   "metadata": {},
   "outputs": [],
   "source": [
    "connection.close()"
   ]
  },
  {
   "cell_type": "markdown",
   "metadata": {},
   "source": [
    "### Consultas"
   ]
  },
  {
   "cell_type": "code",
   "execution_count": 12,
   "metadata": {},
   "outputs": [
    {
     "name": "stdout",
     "output_type": "stream",
     "text": [
      "Lisa Walker\n",
      "Larry West\n",
      "Karen Scott\n",
      "Michael Miller\n",
      "Betty Adams\n",
      "George Wright\n",
      "Mark Young\n",
      "James Smith\n",
      "Mary Johnson\n",
      "John Williams\n"
     ]
    }
   ],
   "source": [
    "# Encuentre los nombres de los pilotos certificados para volar algún avión Boeing.\n",
    "\n",
    "connection = sqlite3.connect('data.db') \n",
    "cursor = connection.cursor()\n",
    "cursor.execute(\"SELECT DISTINCT E.ename \\\n",
    "                FROM Employees E, Certified C, Aircraft A \\\n",
    "                WHERE E.eid = C.eid AND C.aid = A.aid AND A.aname LIKE '%Boeing%'\")\n",
    "for r in cursor:\n",
    "    print(r[0])\n",
    "connection.close()"
   ]
  },
  {
   "cell_type": "code",
   "execution_count": 13,
   "metadata": {},
   "outputs": [
    {
     "name": "stdout",
     "output_type": "stream",
     "text": [
      "Lisa Walker\n",
      "Larry West\n",
      "Karen Scott\n",
      "Lawrence Sperry\n",
      "Michael Miller\n",
      "Angela Martinez\n",
      "Joseph Thompson\n",
      "Betty Adams\n",
      "George Wright\n",
      "Mark Young\n",
      "Eric Cooper\n",
      "William Jones\n",
      "James Smith\n",
      "Mary Johnson\n",
      "John Williams\n",
      "Robert Brown\n",
      "William Moore\n",
      "Elizabeth Taylor\n"
     ]
    }
   ],
   "source": [
    "# Encuentre los nombres de los pilotos que están certificados para volar aviones con autonomía de más de 1000 millas.\n",
    "\n",
    "connection = sqlite3.connect('data.db') \n",
    "cursor = connection.cursor()\n",
    "cursor.execute('SELECT DISTINCT E.ename \\\n",
    "                FROM Employees E, Certified C, Aircraft A \\\n",
    "                WHERE C.aid = A.aid AND E.eid = C.eid AND A.cruisingrange > 1000')\n",
    "for r in cursor:\n",
    "    print(r[0])\n",
    "connection.close()"
   ]
  },
  {
   "cell_type": "code",
   "execution_count": 14,
   "metadata": {},
   "outputs": [
    {
     "name": "stdout",
     "output_type": "stream",
     "text": [
      "John Williams\n",
      "Elizabeth Taylor\n",
      "Mary Johnson\n",
      "James Smith\n",
      "Michael Miller\n",
      "Joseph Thompson\n",
      "Angela Martinez\n",
      "Robert Brown\n",
      "Lawrence Sperry\n",
      "Karen Scott\n",
      "Mark Young\n",
      "Eric Cooper\n",
      "William Jones\n"
     ]
    }
   ],
   "source": [
    "# Encuentre los nombres de los pilotos que están certificados para volar SOLO aviones con autonomía de más de 1000 millas.\n",
    "\n",
    "connection = sqlite3.connect('data.db') \n",
    "cursor = connection.cursor()\n",
    "cursor.execute('SELECT E.ename \\\n",
    "                FROM Employees E, Certified C, Aircraft A \\\n",
    "                WHERE C.aid = A.aid AND E.eid = C.eid \\\n",
    "                GROUP BY E.eid, E.ename \\\n",
    "                HAVING MIN(A.cruisingrange) > 1000')\n",
    "for r in cursor:\n",
    "    print(r[0])\n",
    "connection.close()"
   ]
  },
  {
   "cell_type": "code",
   "execution_count": 15,
   "metadata": {},
   "outputs": [
    {
     "name": "stdout",
     "output_type": "stream",
     "text": [
      "142519864 Betty Adams 8430\n",
      "269734834 George Wright 8430\n",
      "567354612 Lisa Walker 8430\n"
     ]
    }
   ],
   "source": [
    "# Por cada piloto que está certificado para volar más de tres aviones, encuentre el id y nombre del piloto, junto con la autonomía del avión \n",
    "# con máxima autonomía para el que está certificado.\n",
    "\n",
    "connection = sqlite3.connect('data.db') \n",
    "cursor = connection.cursor()\n",
    "cursor.execute('SELECT E.eid, E.ename, MAX (A.cruisingrange) \\\n",
    "                FROM Employees E, Certified C, Aircraft A \\\n",
    "                WHERE C.aid = A.aid AND E.eid = C.eid\\\n",
    "                GROUP BY C.eid \\\n",
    "                HAVING COUNT (*) > 3')\n",
    "for r in cursor:\n",
    "    print(r[0], r[1], r[2])\n",
    "connection.close()"
   ]
  },
  {
   "cell_type": "code",
   "execution_count": 16,
   "metadata": {},
   "outputs": [
    {
     "name": "stdout",
     "output_type": "stream",
     "text": [
      "1 Boeing 747-400\n",
      "2 Boeing 737-800\n",
      "3 Airbus A340-300\n",
      "6 SAAB 340\n",
      "8 Tupolev 154\n",
      "9 Lockheed L1011\n",
      "10 Boeing 757-300\n",
      "11 Boeing 777-300\n",
      "12 Boeing 767-400ER\n",
      "13 Airbus A320\n",
      "14 Airbus A319\n"
     ]
    }
   ],
   "source": [
    "# Encuentre los id y nombres de los aviones que pueden ser usados en rutas de Los Ángeles a Chicago.\n",
    "\n",
    "connection = sqlite3.connect('data.db') \n",
    "cursor = connection.cursor()\n",
    "cursor.execute(\"SELECT A.aid, A.aname \\\n",
    "                FROM Aircraft A \\\n",
    "                WHERE A.cruisingrange > (SELECT MIN (F.distance) \\\n",
    "                                         FROM Flights F \\\n",
    "                                         WHERE F.origin = 'Los Angeles' AND F.destination = 'Chicago')\")\n",
    "for r in cursor:\n",
    "    print(r[0], r[1])\n",
    "connection.close()"
   ]
  },
  {
   "cell_type": "code",
   "execution_count": 17,
   "metadata": {},
   "outputs": [
    {
     "name": "stdout",
     "output_type": "stream",
     "text": [
      "Milo Brooks\n"
     ]
    }
   ],
   "source": [
    "# Encuentre los nombres de los pilotos cuyo sueldo es menor que el precio del vuelo más barato de Los Ángeles a Honolulu.\n",
    "\n",
    "connection = sqlite3.connect('data.db') \n",
    "cursor = connection.cursor()\n",
    "cursor.execute(\"SELECT DISTINCT E.ename \\\n",
    "                FROM Employees E \\\n",
    "                WHERE E.salary < (SELECT MIN (F.price) \\\n",
    "                                  FROM Flights F \\\n",
    "                                  WHERE F.origin = 'Los Angeles' AND F.destination = 'Honolulu')\")\n",
    "for r in cursor:\n",
    "    print(r[0])\n",
    "connection.close()\n"
   ]
  },
  {
   "cell_type": "code",
   "execution_count": 18,
   "metadata": {},
   "outputs": [
    {
     "name": "stdout",
     "output_type": "stream",
     "text": [
      "Boeing 747-400\n",
      "Boeing 737-800\n",
      "Airbus A340-300\n",
      "British Aerospace Jetstream 41\n",
      "Embraer ERJ-145\n",
      "SAAB 340\n",
      "Piper Archer III\n",
      "Tupolev 154\n",
      "Lockheed L1011\n",
      "Boeing 757-300\n",
      "Boeing 777-300\n",
      "Boeing 767-400ER\n",
      "Airbus A320\n",
      "Airbus A319\n",
      "Boeing 727\n"
     ]
    }
   ],
   "source": [
    "# Encuentre los nombres de los aviones cuyos pilotos certificados tienen todos sueldos mayores a US$ 80.000.\n",
    "\n",
    "connection = sqlite3.connect('data.db') \n",
    "cursor = connection.cursor()\n",
    "cursor.execute(\"SELECT DISTINCT A.aname \\\n",
    "                FROM Aircraft A \\\n",
    "                WHERE A.Aid IN (SELECT C.aid \\\n",
    "                                FROM Certified C, Employees E \\\n",
    "                                WHERE C.eid = E.eid AND NOT EXISTS (SELECT * \\\n",
    "                                                                    FROM Employees E1 \\\n",
    "                                                                    WHERE E1.eid = E.eid AND E1.salary < 80000))\")\n",
    "for r in cursor:\n",
    "    print(r[0])\n",
    "connection.close()"
   ]
  }
 ],
 "metadata": {
  "kernelspec": {
   "display_name": "Python 3.10.6 ('iic2115')",
   "language": "python",
   "name": "python3"
  },
  "language_info": {
   "codemirror_mode": {
    "name": "ipython",
    "version": 3
   },
   "file_extension": ".py",
   "mimetype": "text/x-python",
   "name": "python",
   "nbconvert_exporter": "python",
   "pygments_lexer": "ipython3",
   "version": "3.10.6"
  },
  "vscode": {
   "interpreter": {
    "hash": "c351642c1ff32041210c09392ed7c7736f797ffa83d23e3a89bc83a72472dbd9"
   }
  }
 },
 "nbformat": 4,
 "nbformat_minor": 2
}
