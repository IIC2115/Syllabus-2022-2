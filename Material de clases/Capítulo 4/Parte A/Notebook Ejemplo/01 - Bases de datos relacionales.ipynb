{
 "cells": [
  {
   "cell_type": "markdown",
   "metadata": {},
   "source": [
    "<p>\n",
    "<font size='5' face='Georgia, Arial'>IIC2115 - Programación como herramienta para la ingeniería</font><br>\n",
    "</p>"
   ]
  },
  {
   "cell_type": "markdown",
   "metadata": {},
   "source": [
    "# Bases de datos relacionales\n",
    "\n",
    "La cantidad de información disponible en la actualidad crece de manera exponencial, y el valor de los datos como un activo en las distintas organizaciones es ampliamente reconocido. Para sacar el máximo provecho de esto, los usuarios necesitan herramientas que simplifiquen las tareas de administración de los datos y extraigan información útil de manera oportuna. De lo contrario, los datos pueden convertirse en un pasivo, con el costo de adquirirlos y gestionarlos excediendo con mucho el valor derivado de la información que se puede extraer de ellos.\n",
    "\n",
    "Una base de datos es una colección de datos que típicamente describe las actividades de una o más organizaciones relacionadas. Por ejemplo, una base de datos universitaria puede contener información sobre lo siguiente:\n",
    "\n",
    "* Entidades como estudiantes, profesores, cursos y salas.\n",
    "* Relaciones entre entidades, tales como la matrícula de los estudiantes en los cursos, los cursos de la facultad y el uso de las salas para los cursos.\n",
    "\n",
    "Un sistema de gestión de bases de datos, o DBMS (Data Base Management System), es un software diseñado para ayudar a mantener y utilizar grandes volúmenes de datos. La necesidad de tales sistemas, así como su uso, está absolutamente establecido en gran parte de las organizaciones. La alternativa al uso de un DBMS es almacenar los datos en archivos y escribir código específico para cada aplicación que los gestionará.\n",
    "\n",
    "Un modelo de datos es una colección de constructos de descripción de datos de alto nivel, que ocultan muchos detalles de almacenamiento de bajo nivel. Una de las principales ventajas de un DBMS es, justamente, que permite al usuario definir los datos almacenados en términos de un modelo de datos. La mayoría de los DBMS se basan en el modelo de datos relacional, descrito a continuación."
   ]
  },
  {
   "cell_type": "markdown",
   "metadata": {},
   "source": [
    "## El modelo relacional\n",
    "\n",
    "El modelo relacional es muy simple y elegante: una base de datos es una colección de una o más relaciones, donde cada relación es una tabla con filas y columnas. Esta simple representación tabular permite comprender fácilmente el contenido de una base de datos y permite el uso de lenguajes simples de alto nivel para consultar los datos. \n",
    "\n",
    "El constructo principal para representar datos en el modelo relacional es una **relación**. Una relación consiste en un **esquema** de la relación (*relation schema*) y una instancia de esta. La **instancia** es una **tabla** y el esquema de la relación especifica el nombre de la relación, el nombre de cada campo (o columna, o atributo) y el dominio (tipo de dato) de cada uno. Consideremos como ejemplo la siguiente relación, que define a un estudiante en el contexto de una base de datos universitaria:\n",
    "\n",
    "**Estudiantes(id: STRING, nombre: STRING, login: STRING, edad: INTEGER, promedio: REAL)**\n",
    "\n",
    "Esta descripción indica, por ejemplo, que el campo llamado **id** tiene un dominio llamado **STRING**, que como se espera, comprende el conjunto de todas las cadenas de carácteres.\n",
    "\n",
    "Centrémonos ahora en las instancias de una relación. Una instancia es un conjunto de tuplas, también llamadas registros, en las que cada tupla tiene el mismo número de campos que el esquema de la relación. Una instancia de la relación se puede considerar como una tabla, en la que cada tupla es una fila, y todas las filas tienen el mismo número de campos (columnas). A pesar de que el modelo relacional no permite que dos filas coincidan en el valor de todos sus campos, en la práctica, los DBMS permiten que las tablas tengan filas duplicadas.\n",
    "\n",
    "Como se mencionó anteriormente, un esquema de relación especifica el dominio de cada columna en la instancia. Estas restricciones de dominio en el esquema especifican una condición importante que queremos que cada instancia de la relación satisfaga: los valores que aparecen en una columna deben extraerse del dominio asociado a esa columna. Por lo tanto, el dominio de un campo es esencialmente el tipo de dato de ese campo, en términos de lenguaje de programación, y restringe los valores que pueden aparecer en él.\n",
    "\n",
    "Una base de datos relacional es una colección de relaciones con nombres distintos. El esquema de base de datos relacional (_database schema_) es la colección de esquemas para las relaciones en la base de datos. Por ejemplo, una base de datos universitaria podría estar compuesta por las siguiente relaciones:\n",
    "\n",
    "* Estudiantes(id: STRING, nombre: STRING, login: STRING, edad: INTEGER, promedio: REAL)\n",
    "* Estudiantes_Postgrado(id: STRING, nombre: STRING)\n",
    "* Facultad(id: STRING, nombre: STRING)\n",
    "* Curso(id: STRING, nombre: STRING, creditos: INTEGER)\n",
    "* Sala(codigo: STRING, ubicacion: STRING, capacidad: INTEGER)\n",
    "* Inscrito(id_estudiante: STRING, id_curso: STRING, nota: REAL)\n",
    "* Ofrece(id_facultad: STRING, id_curso: STRING)\n",
    "* Se_Dicta_En(id_curso: STRING, codigo_sala: STRING, modulo: INTEGER)\n",
    "\n",
    "Una instancia de una base de datos relacional es entonces una colección de instancias de relación, una por esquema de relación, donde cada instancia debe satisfacer las restricciones de dominio de su esquema."
   ]
  },
  {
   "cell_type": "markdown",
   "metadata": {},
   "source": [
    "## Restricciones de integridad\n",
    "\n",
    "Una base de datos es sólo tan buena como la información almacenada en ella, y un DBMS debe por lo tanto ayudar a prevenir el ingreso de información incorrecta. Una restricción de integridad es una condición especificada en el esquema de la base de datos, que restringe los datos que se pueden almacenar en una instancia de la base de datos. Si una instancia satisface todas las restricciones de integridad especificadas en el esquema, es una instancia válida. Un DBMS hace cumplir las restricciones de integridad, ya que sólo permite que las instancias válidas sean almacenenadas.\n",
    "\n",
    "Las restricciones de integridad se especifican y se aplican en diferentes momentos:\n",
    "1. La especificación ocurre cuando el administrador o el usuario final define un esquema de base de datos. En ese momento, especifica las restricciones que deben conservarse en cualquier instancia de esta base de datos.\n",
    "2. La aplicación ocurre cuando se ejecuta una aplicación que utiliza la de base de datos. El DBMS verifica la existencia de violaciones de restricciones y no permite cambios en los datos que las violan (en algunas situaciones, en lugar de rechazar el cambio, el DBMS podría hacer algunos cambios compensatorios a los datos para garantizar que la instancia de la base de datos satisface todas las restricciones). En cualquier caso, no está permitido que los cambios en la base de datos creen una instancia que viole cualquier restricción de integridad.\n",
    "\n",
    "Se pueden especificar muchos tipos de restricciones de integridad en el modelo relacional. Ya hemos visto un ejemplo de una restricción de integridad en las restricciones de dominio asociadas a un esquema de relación. En general, también se pueden especificar otros tipos de restricciones, por ejemplo, que no haya dos estudiantes que tengan el mismo valor en **id**. A continuación, discutiremos restricciones de integridad distintas de las de dominio.\n",
    "\n",
    "\n",
    "### Restricciones de llave\n",
    "\n",
    "Consideremos la relación **Estudiantes** y la restricción de que dos estudiantes no pueden tener el mismo identificador (**id**). Esta restricción es un ejemplo de una restricción de llave. Una restricción de llave es una afirmación sobre que un cierto subconjunto mínimo de los campos de una relación es un identificador único para la tupla. Un conjunto de campos que identifica de forma única una tupla, de acuerdo con una restricción de llave, se denomina llave candidata para la relación (a menudo esto se denomina sólo como llave). En el caso de la relación **Estudiantes**, el campo que contiene el identificador del estudiante (**id**) es una llave candidata. \n",
    "\n",
    "Revisemos a continuación con mayor detalle la definición de una llave (candidata). Hay dos partes en la definición:\n",
    "1. Dos tuplas distintas en una instancia válida, no pueden tener valores idénticos en todos los campos de una llave.\n",
    "2. Ningún subconjunto del conjunto de campos en una llave es un identificador único para una tupla.\n",
    "\n",
    "La primera parte de la definición indica que, en cualquier instancia válida, los valores en los campos que forman una llave, identifican de forma única una tupla en la instancia. Cuando se especifica una restricción de llave, se debe estar seguro de que esta restricción no impedirá almacenar un conjunto de tuplas **correcto**. La noción de correctitud depende de la naturaleza de los datos almacenados. Por ejemplo, varios estudiantes pueden tener el mismo nombre, aunque cada estudiante tiene un identificador de estudiante único. Si el campo nombre es declarado como llave, el DBMS no permitirá que la relación **Estudiantes** contenga dos tuplas que describen a diferentes estudiantes con el mismo nombre. \n",
    "\n",
    "La segunda parte de la definición especifica que, por ejemplo, el conjunto de campos {**id**, **nombre**} no es una llave para la relación **Estudiantes**, ya que este conjunto ya contiene a una llave candidata (**id**). El conjunto {**id**, **nombre**} es un ejemplo de una superllave, que es un conjunto de campos que contiene una llave.\n",
    "\n",
    "Un resultado de esto es que siempre está garantizado que una relación tenga una llave. Dado que una relación es un conjunto de tuplas, el conjunto de todos los campos es siempre una superllave. Si existen otras restricciones de integridad, algunos subconjuntos de los campos pueden formar una llave, pero si no, el conjunto de todos los campos es una llave. \n",
    "\n",
    "Una relación puede tener varias llaves candidatas. Por ejemplo, los campos de **nombre** y **edad** de la relación **Estudiantes** podrían potencialmente, en conjunto, también identificar a los estudiantes de manera única. Es decir, {**nombre**, **edad**} es también una llave. \n",
    "\n",
    "De entre todas las llaves candidatas disponibles, se puede identificar una **llave primaria**. Intuitivamente, se puede hacer referencia a una tupla desde otra parte de la base de datos, almacenando los valores de sus campos de llave primaria. Por ejemplo, podemos referirnos a una tupla de la tabla **Estudiantes**, almacenando su valor **id** (ver relación **Inscrito**). En principio, podemos usar cualquier llave para esto, no sólo la primaria. Sin embargo, es preferible usar la llave primaria porque es lo que el DBMS espera con el fin de optimizar el acceso a las tablas\n",
    "\n",
    "\n",
    "### Restricciones de llave foránea\n",
    "\n",
    "A veces, la información almacenada en una relación está vinculada a la información almacenada en otra relación. Si se modifica una de las relaciones, la otra debe ser verificada, y tal vez modificada, para mantener los datos coherentes. Se debe especificar entonces una restricción de integridad que involucre a ambas relaciones si un DBMS debe hacer tales chequeos. La restricción de integridad más común que implica dos relaciones es una restricción de llave foránea. \n",
    "\n",
    "Consideremos la relación **Inscrito(id_estudiante: STRING, id_curso: STRING, nota: REAL)**. Para asegurar que sólo los estudiantes válidos puedan inscribirse en los cursos, cualquier valor que aparezca en el campo **id_estudiante** de una instancia de la relación **Inscrito**, también debería aparecer en el campo **id** de alguna tupla en la relación **Estudiantes**. El campo **id_estudiante** de Inscrito se denomina llave foránea y se refiere a **Estudiantes**. La clave foránea en la relación analizada (Inscrito), debe coincidir con la llave primaria de la relación referenciada (**Estudiantes**), es decir, debe coincidir en el número de columnas y tipos de dato, aunque los nombres de las columnas puedan ser diferentes\n",
    "\n",
    "Finalmente, una clave foránea puede referirse a la misma relación. Por ejemplo, podríamos extender la relación **Estudiantes** con una columna llamada **compañero** y declarar esta columna como una clave foránea de **Estudiantes**. Intuitivamente, cada estudiante podría tener un compañero, y este campo podría contener el identificador del compañero. Sin embargo, es posible preguntarse, qué pasa si un estudiante no tiene (aún) un compañero. Esta situación se maneja en usando un valor especial llamado nulo (*null*). El uso de *null* en un campo de una tupla implica que el valor en ese campo es desconocido o no es aplicable (por ejemplo, no conocemos al compañero todavía o no hay ninguno). La existencia de un *null* en un campo de llave foránea no viola la restricción de llave foránea. Sin embargo, los valores *null* no pueden aparecer en un campo de la llave principal, ya que estos se utilizan para identificar una tupla de forma única.\n",
    "\n",
    "\n",
    "### Restricciones generales\n",
    "\n",
    "Las restricciones de dominio, llave primaria y llave foránea se consideran una parte fundamental del modelo de datos relacional y se les da una atención especial en la mayoría de los DBMS. Sin embargo, muchas veces es necesario especificar restricciones más generales. Por ejemplo, podemos requerir que las edades de los estudiantes estén dentro de un cierto rango de valores; dada dicha especificación de restricción de integridad, el DBMS rechazará inserciones y actualizaciones que la violen. Esto es muy útil para evitar errores en la introducción de datos. \n",
    "\n",
    "La restricción de integridad que los estudiantes deben ser mayores de cierta edad, puede ser pensada como una restricción de dominio extendida, ya que estamos esencialmente definiendo el conjunto de valores de edad permisible más estrictamente de lo que es posible simplemente usando un dominio estándar de *INTEGER*. En general, sin embargo, se pueden especificar restricciones que van más allá de restricciones de dominios, llaves o llaves foráneas. Por ejemplo, podríamos requerir que cada estudiante cuya edad sea mayor que 18 debe tener un promedio mayor que 4. Los sistemas actuales de bases de datos relacionales apoyan tales restricciones generales en forma de restricciones y aserciones de tabla. Las restricciones de tablas se asocian con una sola tabla y se comprueban cada vez que se modifica dicha tabla. En contraste, las aserciones implican varias tablas y se comprueban cuando se modifica cualquiera de estas tablas."
   ]
  },
  {
   "cell_type": "markdown",
   "metadata": {},
   "source": [
    "# Structured Query Language (SQL)\n",
    "\n",
    "SQL es el lenguaje de bases de datos relacionales más ampliamente utilizado, tanto en la academia con en la industria. Aunque no todos los DBMS soportan el último estándar SQL completo (SQL1999), la mayoría de los productos soportan versiones muy cercanas en cuanto a los elementos discutidos en este curso.\n",
    "\n",
    "SQL tiene varios aspectos relevantes, pero en este curso nos centraremos en los dos principales:\n",
    "* Lenguage de definición de datos (DDL)\n",
    "* Lenguaje de manipulación de datos (DML) \n",
    "\n",
    "En esta parte de la materia cubriremos el DDl de SQL, mientras que en la segunda nos centraremos en el DML."
   ]
  },
  {
   "cell_type": "markdown",
   "metadata": {},
   "source": [
    "## Lenguaje de definición de datos (DDL)\n",
    "\n",
    "Este subconjunto de SQL soporta la creación, eliminación y modificación de definiciones de tablas. Las restricciones de integridad se pueden definir en tablas, ya sea cuando se crea la tabla o posteriormente.\n",
    "\n",
    "\n",
    "### Creación y modificación de relaciones\n",
    "\n",
    "El lenguaje SQL utiliza la palabra clave *table* para denotar una relación. Por simplicidad, sólo consideramos dominios que están incorporados en tipos de datos nativos, como INTEGER o STRING. La sentencia **CREATE TABLE** se utiliza para definir una nueva tabla. Para crear la relación Estudiantes, podemos usar la siguiente declaración:\n",
    "\n",
    "> CREATE TABLE Estudiantes (id CHAR(30), nombre VARCHAR(20), login CHAR(20), edad INTEGER, promedio REAL)\n",
    "\n",
    "Las tuplas pueden insertarse utilizando el comando **INSERT**. Por ejemplo, para insertar una única tupla en la relación Estudiantes, podemos realizar la siguiente declaración:\n",
    "\n",
    "> INSERT INTO Estudiantes (id, nombre, login, edad, promedio) VALUES (53688, 'Hernán Valdivieso', 'Hfvaldivieso', 20, 5.5)\n",
    "\n",
    "Opcionalmente, podemos omitir los nombres de columnas en la declaración, pero se considera buena práctica el incluirlos de manera explícita.\n",
    "\n",
    "Adicionalmente, podemos borrar tuplas utilizando el comando **DELETE**:\n",
    "\n",
    "> DELETE FROM Estudiantes E WHERE E.nombre = 'Hernán'\n",
    "\n",
    "Para modificar el valor de las columnas de una tupla existente, usamos el comando **UPDATE**:\n",
    "\n",
    "> UPDATE Estudiantes E SET E.edad = E.edad + 1, E.promedio = E.promedio - 1 WHERE E.id = 53688\n",
    "\n",
    "Este ejemplo ilustra algunos puntos importantes. Se aplica la cláusula WHERE primero y determina qué filas se van a modificar. La cláusula SET determina cómo se van a modificar estas filas. Si la columna que se está modificando es también utilizada para determinar el nuevo valor, el valor utilizado en la expresión en el lado derecho del igual (=) es el valor antiguo, es decir, antes de la modificación. \n",
    "\n",
    "Finalmente, si se busca modificar la estructura de una tabla, es posible hacerlo mediante el comando **ALTER**:\n",
    "\n",
    "> ALTER TABLE Estudiantes ADD COLUMN carrera VARCHAR(30)\n",
    "\n",
    "En el caso anterior, se agregó una nueva columna a la tabla Estudiantes, mientras que si se desea eliminar una columna ya existente, se debe intercambiar **ADD** por **DROP**, y eliminar la descripción del tipo de dato (VARCHAR(30) en este caso). Cabe destacar que en ambos casos, la aparición de la palabra clave **COLUMN** es opcional.\n",
    "\n",
    "Finalmente, si lo que se busca es eliminar una tabla completa, se debe utilizar el comando **DROP TABLE** seguido del nombre de la tabla.\n",
    "\n",
    "\n",
    "### Restricciones de llave primaria\n",
    "\n",
    "En SQL, podemos declarar que un subconjunto de las columnas de una tabla constituyen una llave, utilizando la restricción **UNIQUE**. A lo sumo, una de estas llaves candidatas puede ser declarada como primaria, utilizando la restricción **PRIMARY KEY**. Revisemos nuestra definición de la table Estudiantes, especificando ahora la restricción de llave:\n",
    "\n",
    "> CREATE TABLE Estudiantes(id CHAR(20), nombre VARCHAR(30), login CHAR(20), edad INTEGER, promedio REAL,<br> \n",
    "> &emsp;&emsp;&emsp;&emsp;&emsp;&emsp;&emsp;&emsp;&emsp;&emsp;&emsp;&emsp;&emsp;&nbsp;UNIQUE(nombre, edad), CONSTRAINT LlaveEstudiante PRIMARY KEY(id))\n",
    "\n",
    "Esta definición indica que **id** es la llave primaria y la combinación de nombre y edad es también una llave. La definición de la llave primaria también ilustra cómo podemos nombrar una restricción precediéndola con **CONSTRAINT**, lo que permite que, si se viola la restricción, se devuelve el nombre de la restricción y se puede utilizar para identificar el error más fácilmente.\n",
    "\n",
    "\n",
    "### Restricciones de llave foránea\n",
    "\n",
    "Definamos nuevamente la relación **Inscrito(id_estudiante: STRING, id_curso: STRING, nota: REAL)**:\n",
    "\n",
    "> CREATE TABLE Inscrito(id_estudiante CHAR(20), id_curso CHAR(20),nota REAL,<br> \n",
    "> &emsp;&emsp;&emsp;&emsp;&emsp;&emsp;&emsp;&emsp;&emsp;&emsp;&emsp;&nbsp;PRIMARY KEY (id_estudiante, id_curso), FOREIGN KEY (id_estudiante) REFERENCES Estudiantes)\n",
    "\n",
    "La restricción de llave foránea indica que cada valor de **id_estudiante** en **Inscrito**, también deb aparecer en **Estudiantes**, es decir es una clave foránea que hace referencia a **Estudiantes**. Específicamente, cada valor de **id_estudiante** en **Inscrito** debe aparecer como el valor en\n",
    "el campo clave principal, **id**, de **Estudiantes**. Cabe notar además que la restricción de llave primaria para **Inscrito** indica que un estudiante tiene exactamente una nota para cada curso. Si queremos grabar más de una nota por alumno, deberíamos cambiar la restricción de llave primaria. Además de esto, es relevante notar que no hemos incluido restricciones de llave foránea para `id_curso`. Queda como ejercicio propuesto crear la tabla **Curso** y actualizar la definición de la tabla **Inscrito**."
   ]
  },
  {
   "cell_type": "markdown",
   "metadata": {},
   "source": [
    "# Acceso a bases de datos relacionales con Python\n",
    "\n",
    "A pesar de que existe una gran variedad de sistemas administradores de bases de datos (SySQL, SQL Server, PostgreSQL), estos son en general programas pesados, con muchas funcionalidades, principalmente pensadas en aplicaciones grandes y no con fines académicos.\n",
    "\n",
    "Para nuestro caso, dado que no necesitamos tanto, utilizaremos SQLite, un administrador altamente compacto y funcional, compatible con SQL, y que está disponible para Windows, Linux y Mac."
   ]
  },
  {
   "cell_type": "markdown",
   "metadata": {},
   "source": [
    "## Conexión y definición de datos\n",
    "\n",
    "SQLite puede ser accedido de manera directa y transparente a través de Pythom utilizando el modulo **sqlite3**. El siguiente ejemplo muestra como crear una nueva base de datos y ejecutar una serie de consultas en SQL sobre ella."
   ]
  },
  {
   "cell_type": "code",
   "execution_count": null,
   "metadata": {},
   "outputs": [],
   "source": [
    "import sqlite3  # importamos el módulo de sqlite\n",
    "\n",
    "# Creamos o abrimos (si ya existe) la base de datos example. \n",
    "# En SQLite, las bases de datos, independiente de la cantidad de\n",
    "# tablas que tengan, son almacenadas en un archivo.\n",
    "connection = sqlite3.connect('example.db') \n",
    "            \n",
    "# Generamos un cursor al contenido de la base de datos, lo que nos permite \n",
    "# acceder al contenido de las tablas y a realizar consultas sobre ellas.   \n",
    "cursor = connection.cursor()                    \n",
    "\n",
    "# El método execute permite introducir directamente comandos en SQL. \n",
    "# En las siguientes tres llamadas al método, creamos una tabla y luego la poblamos con dos filas    \n",
    "cursor.execute(\"CREATE TABLE countries(name TEXT, continent TEXT, population INTEGER, language TEXT)\")\n",
    "cursor.execute(\"INSERT INTO countries VALUES ('Andorra','Europe',77281, 'Catalan')\")\n",
    "cursor.execute(\"INSERT INTO countries VALUES ('China','Asia', 1403500365, 'Mandarin')\")\n",
    "\n",
    "# En general, en las bases de datos, los cambios no son incorporados de manera inmediata, \n",
    "# con el fin de asegurar la consistencia al acceso de todos los usuarios. Por este motivo, \n",
    "# es necesario indicar de manera explicita, usando el método commit, el momento en que \n",
    "# se desea agregar o actualizar datos.\n",
    "connection.commit() "
   ]
  },
  {
   "cell_type": "markdown",
   "metadata": {},
   "source": [
    "Muchas veces, deberemos insertar más de un valor simultaneamente en la base de datos. Con el fin de evitar el llamado repetido al método **execute** (o el uso del inseguro método **executescript**, la interfaz de SQLite para Python provee el método **executemany**, que permite ejecutar múltiples consultas de manera simultánea, seteando parámetros individualmente para cada una de ellas:"
   ]
  },
  {
   "cell_type": "code",
   "execution_count": null,
   "metadata": {},
   "outputs": [],
   "source": [
    "more_countries = [('Jamaica', 'America', 2881355, 'English'),\n",
    "                  ('Chile', 'America', 18006407, 'Spanish'),\n",
    "                  ('Australia', 'Oceania', 24680100, 'English'),\n",
    "                 ]\n",
    "cursor.executemany('INSERT INTO countries VALUES (?,?,?,?)', more_countries)\n",
    "connection.commit() "
   ]
  },
  {
   "cell_type": "markdown",
   "metadata": {},
   "source": [
    "Podemos verificar la creación de las tablas utilizando el siguiente comando:"
   ]
  },
  {
   "cell_type": "code",
   "execution_count": null,
   "metadata": {},
   "outputs": [],
   "source": [
    "cursor.execute('PRAGMA table_info([countries])')\n",
    "print(cursor.fetchall())\n",
    "\n",
    "# Una vez que hemos realizado todos los llamados requeridos, debemos cerrar la conexión con la base de datos.\n",
    "# Es importante recordar que muchos de los cambios no se hacen efectivos en la base de datos a menos que se \n",
    "# haga commit. Sin embarto, dado que en este caso el comando que ejecutamos no modifica los datos, no es necesario\n",
    "# hacer un llamado a commit.\n",
    "connection.close()"
   ]
  },
  {
   "cell_type": "markdown",
   "metadata": {},
   "source": [
    "Como se puede ver, el comando anterior nos entrega información relevante, como tipo de dato y posición, para cada una de las columnas de la tabla. Es importante notar que en este momento, no existe una conexión activa con la base de datos, ya que esta fue cerrada con el comando **connection.close()**."
   ]
  },
  {
   "cell_type": "code",
   "execution_count": null,
   "metadata": {},
   "outputs": [],
   "source": [
    "# este llamado a execute falla, debido a que no existe una conexión abierta con la base de datos.\n",
    "cursor.execute('PRAGMA table_info([stocks])')\n",
    "print(cursor.fetchall())"
   ]
  },
  {
   "cell_type": "markdown",
   "metadata": {},
   "source": [
    "De esta manera, antes de realizar una llamado a la base de datos, es necesario abrir nuevamente una conexión, la que a diferencia del caso anterior, no creará un nuevo archivo *example.db*, ya que este fue creado anteriormente. Es importante notar que no es necesario cerrar siempre la conexión con la base de datos, solo cuando no se espera interactuar con ella en el plazo inmediato."
   ]
  },
  {
   "cell_type": "markdown",
   "metadata": {},
   "source": [
    "Finalmente, podemos revisar los contenidos de la base de datos, utilizando una herramienta especializada para esto. Dentro de la gran variedad existente, una opción simple y liviana es [SQLiteStudio](sqlitestudio.pl), que también es multiplataforma (Windows, Linux, Mac)."
   ]
  },
  {
   "cell_type": "markdown",
   "metadata": {},
   "source": [
    "# Creación de bases de datos desde archivos\n",
    "\n",
    "Con el fin practicar estos contenidos, a continuación crearemos una base de datos a partir de la información almacenada en un archivo. En particular, este archivo contiene la base de datos _Movies_, que consiste en información básica de películas estadounidenses extraída de Wikipedia. A partir de estos datos, crearemos tablas que modelen las entidades presentes en los datos, y las relaciones entre estas entidades. Finalmente, cargaremos los elementos del conjunto de datos en las tablas creadas."
   ]
  },
  {
   "cell_type": "markdown",
   "metadata": {},
   "source": [
    "## Carga del archivo\n",
    "\n",
    "Los datos se encuentran en un archivo en formato _json_, que puede ser abierto y manipulado utilizando la librería `json` de Python. Para extraer la información del archivo, utilizaremos las siguientes líneas de código:"
   ]
  },
  {
   "cell_type": "code",
   "execution_count": null,
   "metadata": {},
   "outputs": [],
   "source": [
    "import json\n",
    "with open('movies.json', encoding = 'utf8') as movies_file:\n",
    "    movies = json.load(movies_file)"
   ]
  },
  {
   "cell_type": "markdown",
   "metadata": {},
   "source": [
    "Si imprimimos el contenido del archivo, podemos estudiar la estructura de los datos almacenados en este:"
   ]
  },
  {
   "cell_type": "code",
   "execution_count": null,
   "metadata": {},
   "outputs": [],
   "source": [
    "movies"
   ]
  },
  {
   "cell_type": "markdown",
   "metadata": {},
   "source": [
    "Notamos que la estructura de los datos corresponde a una lista de diccionarios, donde cada diccionario tiene el título de la película, año de estreno, elenco (en forma de lista de `string`) y géneros cinematográficos (en forma de lista de `string`)."
   ]
  },
  {
   "cell_type": "markdown",
   "metadata": {},
   "source": [
    "## Modelación de entidades\n",
    "En base a la exploración anterior, podemos identificar 3 entidades principales: películas, actores y géneros. Similar a como ocurre con las clases en la programación orientada a objetos, estas entidades tendrán atributos propios que las definen. Sin embargo, a diferencia de las clases, dado que debemos modelar en un contexto de bases de datos relacionales, debemos considerar las relaciones entre estas entidades a través de llaves primarias y foráneas, y restricciones de integridad. De esta manera, las 3 entidades principales se asociarán a las siguientes 3 tablas: \n",
    "- `Movies`: tendrá un id, el título y año de la película.\n",
    "- `Actors`: tendrá un id y nombre del actor/actriz.\n",
    "- `Genres`: tendrá un id y nombre del género.\n",
    "\n",
    "Para crear estas tables, inicializamos una nuevo archivo de base de datos, `movies.db`, a través de una conexión mediante la librería `sqlite3`. A continuación, creamos un cursos para ejecutar los comandos:"
   ]
  },
  {
   "cell_type": "code",
   "execution_count": null,
   "metadata": {},
   "outputs": [],
   "source": [
    "import sqlite3\n",
    "\n",
    "connection = sqlite3.connect('movies.db')\n",
    "cursor = connection.cursor()"
   ]
  },
  {
   "cell_type": "code",
   "execution_count": null,
   "metadata": {},
   "outputs": [],
   "source": [
    "cursor.execute(\"CREATE TABLE Movies(mid INTEGER PRIMARY KEY, title TEXT, year INTEGER)\")\n",
    "cursor.execute(\"CREATE TABLE Actors(aid INTEGER PRIMARY KEY, name TEXT)\")\n",
    "cursor.execute(\"CREATE TABLE Genres(gid INTEGER PRIMARY KEY, genre TEXT)\")"
   ]
  },
  {
   "cell_type": "markdown",
   "metadata": {},
   "source": [
    "A continuación, modelamos las relaciones entre entidades (actores por película, géneros de cada película) mediante tablas de relación, que incluyen restricciones de integridad para las llaves foráneas correspondientes:"
   ]
  },
  {
   "cell_type": "code",
   "execution_count": null,
   "metadata": {},
   "outputs": [],
   "source": [
    "cursor.execute(\"CREATE TABLE ActorsMovies(actor_id INTEGER, movie_id INTEGER, FOREIGN KEY (actor_id) REFERENCES Actors, FOREIGN KEY (movie_id) REFERENCES Movies)\")\n",
    "cursor.execute(\"CREATE TABLE GenresMovies(genre_id INTEGER, movie_id INTEGER, FOREIGN KEY (genre_id) REFERENCES Genres, FOREIGN KEY (movie_id) REFERENCES Movies)\")"
   ]
  },
  {
   "cell_type": "markdown",
   "metadata": {},
   "source": [
    "Finalmente, hacemos `commit` de los cambios realizados en la base de datos, con el fin de hacerlos persistentes, y luego cerramos la conexión con esta:"
   ]
  },
  {
   "cell_type": "code",
   "execution_count": null,
   "metadata": {},
   "outputs": [],
   "source": [
    "connection.commit()\n",
    "connection.close()"
   ]
  },
  {
   "cell_type": "markdown",
   "metadata": {},
   "source": [
    "Para asegurarnos que la creación de las tablas se haya realizado adecuadamente, abrimos una nueva conexión y verificamos la existencia de las tablas y sus campos:"
   ]
  },
  {
   "cell_type": "code",
   "execution_count": null,
   "metadata": {},
   "outputs": [],
   "source": [
    "connection = sqlite3.connect('movies.db')\n",
    "cursor = connection.cursor()\n",
    "\n",
    "cursor.execute(\"SELECT name FROM sqlite_master WHERE type='table';\")\n",
    "print(\"Tablas:\\n\")\n",
    "for table in cursor.fetchall():\n",
    "    print(table[0])\n",
    "    cursor.execute(f'PRAGMA table_info([{table[0]}])')\n",
    "    print(cursor.fetchall())\n",
    "    print()\n",
    "connection.close()"
   ]
  },
  {
   "cell_type": "markdown",
   "metadata": {},
   "source": [
    "# Carga de tablas\n",
    "\n",
    "Finalmente, completamos el ejemplo cargando los datos en las tablas respectivas. Para eso iteraremos por cada uno de los registros del archivo `movies.json`, respetando las restricciones de integridad. Es interesante, e importante, notar que cuando asignamos un INTEGER PRIMARY KEY a una columna de una tabla, si al insertar datos a la tabla no se indica un valor para esta columna, entonces `sqlite` automáticamente generará un _id_ por defecto para esa columna:"
   ]
  },
  {
   "cell_type": "code",
   "execution_count": null,
   "metadata": {},
   "outputs": [],
   "source": [
    "connection = sqlite3.connect('movies.db')\n",
    "cursor = connection.cursor()\n",
    "\n",
    "mid = 1\n",
    "aid = 1\n",
    "gid = 1\n",
    "genres = {}\n",
    "actors = {}\n",
    "\n",
    "for movie in movies:\n",
    "\n",
    "    title = movie[\"title\"]\n",
    "    year = movie[\"year\"]\n",
    "\n",
    "    cursor.execute(\"INSERT INTO Movies(title,year) VALUES (?,?)\", (title,year))\n",
    "\n",
    "    for genre in movie[\"genres\"]:\n",
    "        if genre not in genres:\n",
    "            genres[genre] = gid\n",
    "            cursor.execute(\"INSERT INTO Genres(genre) VALUES (?)\", (genre,))\n",
    "            gid += 1\n",
    "        cursor.execute(\"INSERT INTO GenresMovies VALUES (?,?)\", (genres[genre],mid))\n",
    "\n",
    "    for actor in movie[\"cast\"]:\n",
    "        if actor not in actors:\n",
    "            actors[actor] = aid\n",
    "            cursor.execute(\"INSERT INTO Actors(name) VALUES (?)\", (actor,))\n",
    "            aid += 1\n",
    "        cursor.execute(\"INSERT INTO ActorsMovies VALUES (?,?)\", (actors[actor],mid))\n",
    "\n",
    "    mid += 1\n",
    "\n",
    "connection.commit()\n",
    "connection.close()"
   ]
  }
 ],
 "metadata": {
  "kernelspec": {
   "display_name": "Python 3.10.6 ('iic2115')",
   "language": "python",
   "name": "python3"
  },
  "language_info": {
   "codemirror_mode": {
    "name": "ipython",
    "version": 3
   },
   "file_extension": ".py",
   "mimetype": "text/x-python",
   "name": "python",
   "nbconvert_exporter": "python",
   "pygments_lexer": "ipython3",
   "version": "3.10.6"
  },
  "vscode": {
   "interpreter": {
    "hash": "c351642c1ff32041210c09392ed7c7736f797ffa83d23e3a89bc83a72472dbd9"
   }
  }
 },
 "nbformat": 4,
 "nbformat_minor": 2
}
