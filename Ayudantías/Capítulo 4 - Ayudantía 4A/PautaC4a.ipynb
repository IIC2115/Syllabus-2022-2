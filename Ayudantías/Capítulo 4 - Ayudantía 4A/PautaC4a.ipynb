{
  "nbformat": 4,
  "nbformat_minor": 0,
  "metadata": {
    "colab": {
      "provenance": []
    },
    "kernelspec": {
      "name": "python3",
      "display_name": "Python 3"
    },
    "language_info": {
      "name": "python"
    }
  },
  "cells": [
    {
      "cell_type": "markdown",
      "source": [
        "## **Pauta C4a**"
      ],
      "metadata": {
        "id": "Awa5V_htfR9A"
      }
    },
    {
      "cell_type": "markdown",
      "source": [
        "Cargamos los datos"
      ],
      "metadata": {
        "id": "k-xP8YJ-pxXm"
      }
    },
    {
      "cell_type": "code",
      "source": [
        "from google.colab import files\n",
        "data = files.upload()"
      ],
      "metadata": {
        "colab": {
          "base_uri": "https://localhost:8080/",
          "height": 74
        },
        "id": "GtJFh9mcny_y",
        "outputId": "42bab23c-b248-4f63-f03a-ee82133c3910"
      },
      "execution_count": null,
      "outputs": [
        {
          "output_type": "display_data",
          "data": {
            "text/plain": [
              "<IPython.core.display.HTML object>"
            ],
            "text/html": [
              "\n",
              "     <input type=\"file\" id=\"files-15087813-af97-46ac-adea-b8e342f42521\" name=\"files[]\" multiple disabled\n",
              "        style=\"border:none\" />\n",
              "     <output id=\"result-15087813-af97-46ac-adea-b8e342f42521\">\n",
              "      Upload widget is only available when the cell has been executed in the\n",
              "      current browser session. Please rerun this cell to enable.\n",
              "      </output>\n",
              "      <script>// Copyright 2017 Google LLC\n",
              "//\n",
              "// Licensed under the Apache License, Version 2.0 (the \"License\");\n",
              "// you may not use this file except in compliance with the License.\n",
              "// You may obtain a copy of the License at\n",
              "//\n",
              "//      http://www.apache.org/licenses/LICENSE-2.0\n",
              "//\n",
              "// Unless required by applicable law or agreed to in writing, software\n",
              "// distributed under the License is distributed on an \"AS IS\" BASIS,\n",
              "// WITHOUT WARRANTIES OR CONDITIONS OF ANY KIND, either express or implied.\n",
              "// See the License for the specific language governing permissions and\n",
              "// limitations under the License.\n",
              "\n",
              "/**\n",
              " * @fileoverview Helpers for google.colab Python module.\n",
              " */\n",
              "(function(scope) {\n",
              "function span(text, styleAttributes = {}) {\n",
              "  const element = document.createElement('span');\n",
              "  element.textContent = text;\n",
              "  for (const key of Object.keys(styleAttributes)) {\n",
              "    element.style[key] = styleAttributes[key];\n",
              "  }\n",
              "  return element;\n",
              "}\n",
              "\n",
              "// Max number of bytes which will be uploaded at a time.\n",
              "const MAX_PAYLOAD_SIZE = 100 * 1024;\n",
              "\n",
              "function _uploadFiles(inputId, outputId) {\n",
              "  const steps = uploadFilesStep(inputId, outputId);\n",
              "  const outputElement = document.getElementById(outputId);\n",
              "  // Cache steps on the outputElement to make it available for the next call\n",
              "  // to uploadFilesContinue from Python.\n",
              "  outputElement.steps = steps;\n",
              "\n",
              "  return _uploadFilesContinue(outputId);\n",
              "}\n",
              "\n",
              "// This is roughly an async generator (not supported in the browser yet),\n",
              "// where there are multiple asynchronous steps and the Python side is going\n",
              "// to poll for completion of each step.\n",
              "// This uses a Promise to block the python side on completion of each step,\n",
              "// then passes the result of the previous step as the input to the next step.\n",
              "function _uploadFilesContinue(outputId) {\n",
              "  const outputElement = document.getElementById(outputId);\n",
              "  const steps = outputElement.steps;\n",
              "\n",
              "  const next = steps.next(outputElement.lastPromiseValue);\n",
              "  return Promise.resolve(next.value.promise).then((value) => {\n",
              "    // Cache the last promise value to make it available to the next\n",
              "    // step of the generator.\n",
              "    outputElement.lastPromiseValue = value;\n",
              "    return next.value.response;\n",
              "  });\n",
              "}\n",
              "\n",
              "/**\n",
              " * Generator function which is called between each async step of the upload\n",
              " * process.\n",
              " * @param {string} inputId Element ID of the input file picker element.\n",
              " * @param {string} outputId Element ID of the output display.\n",
              " * @return {!Iterable<!Object>} Iterable of next steps.\n",
              " */\n",
              "function* uploadFilesStep(inputId, outputId) {\n",
              "  const inputElement = document.getElementById(inputId);\n",
              "  inputElement.disabled = false;\n",
              "\n",
              "  const outputElement = document.getElementById(outputId);\n",
              "  outputElement.innerHTML = '';\n",
              "\n",
              "  const pickedPromise = new Promise((resolve) => {\n",
              "    inputElement.addEventListener('change', (e) => {\n",
              "      resolve(e.target.files);\n",
              "    });\n",
              "  });\n",
              "\n",
              "  const cancel = document.createElement('button');\n",
              "  inputElement.parentElement.appendChild(cancel);\n",
              "  cancel.textContent = 'Cancel upload';\n",
              "  const cancelPromise = new Promise((resolve) => {\n",
              "    cancel.onclick = () => {\n",
              "      resolve(null);\n",
              "    };\n",
              "  });\n",
              "\n",
              "  // Wait for the user to pick the files.\n",
              "  const files = yield {\n",
              "    promise: Promise.race([pickedPromise, cancelPromise]),\n",
              "    response: {\n",
              "      action: 'starting',\n",
              "    }\n",
              "  };\n",
              "\n",
              "  cancel.remove();\n",
              "\n",
              "  // Disable the input element since further picks are not allowed.\n",
              "  inputElement.disabled = true;\n",
              "\n",
              "  if (!files) {\n",
              "    return {\n",
              "      response: {\n",
              "        action: 'complete',\n",
              "      }\n",
              "    };\n",
              "  }\n",
              "\n",
              "  for (const file of files) {\n",
              "    const li = document.createElement('li');\n",
              "    li.append(span(file.name, {fontWeight: 'bold'}));\n",
              "    li.append(span(\n",
              "        `(${file.type || 'n/a'}) - ${file.size} bytes, ` +\n",
              "        `last modified: ${\n",
              "            file.lastModifiedDate ? file.lastModifiedDate.toLocaleDateString() :\n",
              "                                    'n/a'} - `));\n",
              "    const percent = span('0% done');\n",
              "    li.appendChild(percent);\n",
              "\n",
              "    outputElement.appendChild(li);\n",
              "\n",
              "    const fileDataPromise = new Promise((resolve) => {\n",
              "      const reader = new FileReader();\n",
              "      reader.onload = (e) => {\n",
              "        resolve(e.target.result);\n",
              "      };\n",
              "      reader.readAsArrayBuffer(file);\n",
              "    });\n",
              "    // Wait for the data to be ready.\n",
              "    let fileData = yield {\n",
              "      promise: fileDataPromise,\n",
              "      response: {\n",
              "        action: 'continue',\n",
              "      }\n",
              "    };\n",
              "\n",
              "    // Use a chunked sending to avoid message size limits. See b/62115660.\n",
              "    let position = 0;\n",
              "    do {\n",
              "      const length = Math.min(fileData.byteLength - position, MAX_PAYLOAD_SIZE);\n",
              "      const chunk = new Uint8Array(fileData, position, length);\n",
              "      position += length;\n",
              "\n",
              "      const base64 = btoa(String.fromCharCode.apply(null, chunk));\n",
              "      yield {\n",
              "        response: {\n",
              "          action: 'append',\n",
              "          file: file.name,\n",
              "          data: base64,\n",
              "        },\n",
              "      };\n",
              "\n",
              "      let percentDone = fileData.byteLength === 0 ?\n",
              "          100 :\n",
              "          Math.round((position / fileData.byteLength) * 100);\n",
              "      percent.textContent = `${percentDone}% done`;\n",
              "\n",
              "    } while (position < fileData.byteLength);\n",
              "  }\n",
              "\n",
              "  // All done.\n",
              "  yield {\n",
              "    response: {\n",
              "      action: 'complete',\n",
              "    }\n",
              "  };\n",
              "}\n",
              "\n",
              "scope.google = scope.google || {};\n",
              "scope.google.colab = scope.google.colab || {};\n",
              "scope.google.colab._files = {\n",
              "  _uploadFiles,\n",
              "  _uploadFilesContinue,\n",
              "};\n",
              "})(self);\n",
              "</script> "
            ]
          },
          "metadata": {}
        },
        {
          "output_type": "stream",
          "name": "stdout",
          "text": [
            "Saving data.zip to data (3).zip\n"
          ]
        }
      ]
    },
    {
      "cell_type": "code",
      "source": [
        "!unzip data"
      ],
      "metadata": {
        "colab": {
          "base_uri": "https://localhost:8080/"
        },
        "id": "5tjqJGnNoq5u",
        "outputId": "93df94d7-2629-497d-a255-20e6667c6ed3"
      },
      "execution_count": null,
      "outputs": [
        {
          "output_type": "stream",
          "name": "stdout",
          "text": [
            "Archive:  data.zip\n",
            "replace data/Answer.csv? [y]es, [n]o, [A]ll, [N]one, [r]ename: A\n",
            "  inflating: data/Answer.csv         \n",
            "  inflating: data/Question.csv       \n",
            "  inflating: data/salud_mental_tech.db  \n"
          ]
        }
      ]
    },
    {
      "cell_type": "markdown",
      "source": [
        "# Misión 1"
      ],
      "metadata": {
        "id": "cEDdlsvFqVH1"
      }
    },
    {
      "cell_type": "code",
      "source": [
        "import csv\n",
        "import sqlite3\n",
        "import pandas as pd"
      ],
      "metadata": {
        "id": "tu-ZQ_1spC7l"
      },
      "execution_count": null,
      "outputs": []
    },
    {
      "cell_type": "code",
      "source": [
        "connection = sqlite3.connect('/content/data/salud_mental_tech.db')\n",
        "cursor = connection.cursor()"
      ],
      "metadata": {
        "id": "pFbSB5jopQXJ"
      },
      "execution_count": null,
      "outputs": []
    },
    {
      "cell_type": "code",
      "source": [
        "def list_tables(cursor):\n",
        "  sql_query = \"SELECT name FROM sqlite_master WHERE type='table';\"\n",
        "  cursor.execute(sql_query)\n",
        "  tables = cursor.fetchall()\n",
        "\n",
        "  for t in tables:\n",
        "    t_name = t[0]\n",
        "    sql_query = f\"SELECT * FROM {t_name};\"\n",
        "    cursor.execute(sql_query)\n",
        "    c_names = [description[0] for description in cursor.description]\n",
        "    print(t_name)\n",
        "    print(c_names, type(c_names[0]))\n",
        "    print(\"\\n=========\\n\")"
      ],
      "metadata": {
        "id": "XKQxkAf9pQ_H"
      },
      "execution_count": null,
      "outputs": []
    },
    {
      "cell_type": "code",
      "source": [
        "list_tables(cursor)"
      ],
      "metadata": {
        "colab": {
          "base_uri": "https://localhost:8080/"
        },
        "id": "fs0eEmsjphZW",
        "outputId": "bd67d164-50af-47ea-ec4d-5a8bffad54aa"
      },
      "execution_count": null,
      "outputs": [
        {
          "output_type": "stream",
          "name": "stdout",
          "text": [
            "Survey\n",
            "['SurveyID', 'Description'] <class 'str'>\n",
            "\n",
            "=========\n",
            "\n"
          ]
        }
      ]
    },
    {
      "cell_type": "markdown",
      "source": [
        "La función imprime las tablas de la base de datos. Para esto, realiza una consulta sql que entrega el nombre de cada tabla. Luego, se crea una lista con los nombres para iterar sobre esta y se ejecuta otra consulta sql que devuelve las columnas (atributos) de cada tabla, para finalmente imprimirlos."
      ],
      "metadata": {
        "id": "EuYddDqOqm71"
      }
    },
    {
      "cell_type": "code",
      "source": [
        "def get_table_contents(cursor, t_name, limit=0):\n",
        "  if limit:\n",
        "    sql_query = f\"SELECT * FROM {t_name} LIMIT {limit};\"\n",
        "  else:\n",
        "    sql_query = f\"SELECT * FROM {t_name}\"\n",
        "\n",
        "  print(t_name)\n",
        "  cursor.execute(sql_query)\n",
        "  c_names = [description[0] for description in cursor.description]\n",
        "  print(c_names)\n",
        "\n",
        "  for r in cursor.fetchall():\n",
        "    print(r)\n",
        "  print(\"\\n=========\\n\")"
      ],
      "metadata": {
        "id": "spLjEsUtpb7n"
      },
      "execution_count": null,
      "outputs": []
    },
    {
      "cell_type": "code",
      "source": [
        "get_table_contents(cursor, \"Survey\", limit=2)"
      ],
      "metadata": {
        "colab": {
          "base_uri": "https://localhost:8080/"
        },
        "id": "1HpuqPWKpkqO",
        "outputId": "c211190d-9d7a-40a7-ca75-826535c5fff5"
      },
      "execution_count": null,
      "outputs": [
        {
          "output_type": "stream",
          "name": "stdout",
          "text": [
            "Survey\n",
            "['SurveyID', 'Description']\n",
            "(2014, 'mental health survey for 2014')\n",
            "(2016, 'mental health survey for 2016')\n",
            "\n",
            "=========\n",
            "\n"
          ]
        }
      ]
    },
    {
      "cell_type": "markdown",
      "source": [
        "Esta función recibe un cursor, el nombre de la tabla, y un límite, e imprime los datos de todas las columnas de la tabla. Si no se especifica un límite, imprime todas las filas, de lo contrario, imprime la cantidad de filas determinada (si el límite es mayor a la cantidad de filas, solo imprime las filas existentes). Para realizar esto, se define una consulta SQL (dependiendo de si tiene o no un argumento limit), y luego imprime el nombre de la tabla, el nombre de sus atributos, y las filas correspondientes."
      ],
      "metadata": {
        "id": "MMm-fLnQu1f5"
      }
    },
    {
      "cell_type": "markdown",
      "source": [
        "# Misión 2"
      ],
      "metadata": {
        "id": "moHKtWN_wXUP"
      }
    },
    {
      "cell_type": "markdown",
      "source": [
        "Con Pandas"
      ],
      "metadata": {
        "id": "SuE6QyO_CoXh"
      }
    },
    {
      "cell_type": "code",
      "source": [
        "question = pd.read_csv(\"/content/data/Question.csv\")\n",
        "question.head()"
      ],
      "metadata": {
        "colab": {
          "base_uri": "https://localhost:8080/",
          "height": 206
        },
        "id": "b7sIwwErxDtx",
        "outputId": "76fbce5a-e71a-4e84-ef37-f680f3a6191a"
      },
      "execution_count": null,
      "outputs": [
        {
          "output_type": "execute_result",
          "data": {
            "text/plain": [
              "                                        questiontext  questionid\n",
              "0                                  What is your age?           1\n",
              "1                               What is your gender?           2\n",
              "2                       What country do you live in?           3\n",
              "3  If you live in the United States, which state ...           4\n",
              "4                             Are you self-employed?           5"
            ],
            "text/html": [
              "\n",
              "  <div id=\"df-f09ee482-c3dd-47a7-a0d5-1802fef374cf\">\n",
              "    <div class=\"colab-df-container\">\n",
              "      <div>\n",
              "<style scoped>\n",
              "    .dataframe tbody tr th:only-of-type {\n",
              "        vertical-align: middle;\n",
              "    }\n",
              "\n",
              "    .dataframe tbody tr th {\n",
              "        vertical-align: top;\n",
              "    }\n",
              "\n",
              "    .dataframe thead th {\n",
              "        text-align: right;\n",
              "    }\n",
              "</style>\n",
              "<table border=\"1\" class=\"dataframe\">\n",
              "  <thead>\n",
              "    <tr style=\"text-align: right;\">\n",
              "      <th></th>\n",
              "      <th>questiontext</th>\n",
              "      <th>questionid</th>\n",
              "    </tr>\n",
              "  </thead>\n",
              "  <tbody>\n",
              "    <tr>\n",
              "      <th>0</th>\n",
              "      <td>What is your age?</td>\n",
              "      <td>1</td>\n",
              "    </tr>\n",
              "    <tr>\n",
              "      <th>1</th>\n",
              "      <td>What is your gender?</td>\n",
              "      <td>2</td>\n",
              "    </tr>\n",
              "    <tr>\n",
              "      <th>2</th>\n",
              "      <td>What country do you live in?</td>\n",
              "      <td>3</td>\n",
              "    </tr>\n",
              "    <tr>\n",
              "      <th>3</th>\n",
              "      <td>If you live in the United States, which state ...</td>\n",
              "      <td>4</td>\n",
              "    </tr>\n",
              "    <tr>\n",
              "      <th>4</th>\n",
              "      <td>Are you self-employed?</td>\n",
              "      <td>5</td>\n",
              "    </tr>\n",
              "  </tbody>\n",
              "</table>\n",
              "</div>\n",
              "      <button class=\"colab-df-convert\" onclick=\"convertToInteractive('df-f09ee482-c3dd-47a7-a0d5-1802fef374cf')\"\n",
              "              title=\"Convert this dataframe to an interactive table.\"\n",
              "              style=\"display:none;\">\n",
              "        \n",
              "  <svg xmlns=\"http://www.w3.org/2000/svg\" height=\"24px\"viewBox=\"0 0 24 24\"\n",
              "       width=\"24px\">\n",
              "    <path d=\"M0 0h24v24H0V0z\" fill=\"none\"/>\n",
              "    <path d=\"M18.56 5.44l.94 2.06.94-2.06 2.06-.94-2.06-.94-.94-2.06-.94 2.06-2.06.94zm-11 1L8.5 8.5l.94-2.06 2.06-.94-2.06-.94L8.5 2.5l-.94 2.06-2.06.94zm10 10l.94 2.06.94-2.06 2.06-.94-2.06-.94-.94-2.06-.94 2.06-2.06.94z\"/><path d=\"M17.41 7.96l-1.37-1.37c-.4-.4-.92-.59-1.43-.59-.52 0-1.04.2-1.43.59L10.3 9.45l-7.72 7.72c-.78.78-.78 2.05 0 2.83L4 21.41c.39.39.9.59 1.41.59.51 0 1.02-.2 1.41-.59l7.78-7.78 2.81-2.81c.8-.78.8-2.07 0-2.86zM5.41 20L4 18.59l7.72-7.72 1.47 1.35L5.41 20z\"/>\n",
              "  </svg>\n",
              "      </button>\n",
              "      \n",
              "  <style>\n",
              "    .colab-df-container {\n",
              "      display:flex;\n",
              "      flex-wrap:wrap;\n",
              "      gap: 12px;\n",
              "    }\n",
              "\n",
              "    .colab-df-convert {\n",
              "      background-color: #E8F0FE;\n",
              "      border: none;\n",
              "      border-radius: 50%;\n",
              "      cursor: pointer;\n",
              "      display: none;\n",
              "      fill: #1967D2;\n",
              "      height: 32px;\n",
              "      padding: 0 0 0 0;\n",
              "      width: 32px;\n",
              "    }\n",
              "\n",
              "    .colab-df-convert:hover {\n",
              "      background-color: #E2EBFA;\n",
              "      box-shadow: 0px 1px 2px rgba(60, 64, 67, 0.3), 0px 1px 3px 1px rgba(60, 64, 67, 0.15);\n",
              "      fill: #174EA6;\n",
              "    }\n",
              "\n",
              "    [theme=dark] .colab-df-convert {\n",
              "      background-color: #3B4455;\n",
              "      fill: #D2E3FC;\n",
              "    }\n",
              "\n",
              "    [theme=dark] .colab-df-convert:hover {\n",
              "      background-color: #434B5C;\n",
              "      box-shadow: 0px 1px 3px 1px rgba(0, 0, 0, 0.15);\n",
              "      filter: drop-shadow(0px 1px 2px rgba(0, 0, 0, 0.3));\n",
              "      fill: #FFFFFF;\n",
              "    }\n",
              "  </style>\n",
              "\n",
              "      <script>\n",
              "        const buttonEl =\n",
              "          document.querySelector('#df-f09ee482-c3dd-47a7-a0d5-1802fef374cf button.colab-df-convert');\n",
              "        buttonEl.style.display =\n",
              "          google.colab.kernel.accessAllowed ? 'block' : 'none';\n",
              "\n",
              "        async function convertToInteractive(key) {\n",
              "          const element = document.querySelector('#df-f09ee482-c3dd-47a7-a0d5-1802fef374cf');\n",
              "          const dataTable =\n",
              "            await google.colab.kernel.invokeFunction('convertToInteractive',\n",
              "                                                     [key], {});\n",
              "          if (!dataTable) return;\n",
              "\n",
              "          const docLinkHtml = 'Like what you see? Visit the ' +\n",
              "            '<a target=\"_blank\" href=https://colab.research.google.com/notebooks/data_table.ipynb>data table notebook</a>'\n",
              "            + ' to learn more about interactive tables.';\n",
              "          element.innerHTML = '';\n",
              "          dataTable['output_type'] = 'display_data';\n",
              "          await google.colab.output.renderOutput(dataTable, element);\n",
              "          const docLink = document.createElement('div');\n",
              "          docLink.innerHTML = docLinkHtml;\n",
              "          element.appendChild(docLink);\n",
              "        }\n",
              "      </script>\n",
              "    </div>\n",
              "  </div>\n",
              "  "
            ]
          },
          "metadata": {},
          "execution_count": 143
        }
      ]
    },
    {
      "cell_type": "markdown",
      "source": [
        "Creando la tabla en la base de datos."
      ],
      "metadata": {
        "id": "HWVOC0zEx58H"
      }
    },
    {
      "cell_type": "code",
      "source": [
        "sql_query = \"CREATE TABLE Question(questionid INTEGER, questiontext TEXT, PRIMARY KEY(questionid))\"\n",
        "cursor.execute(sql_query)\n",
        "list_tables(cursor)"
      ],
      "metadata": {
        "colab": {
          "base_uri": "https://localhost:8080/"
        },
        "id": "Drn2vZ6hx2Af",
        "outputId": "b3328b39-ffde-4e85-aaac-e321ff412012"
      },
      "execution_count": null,
      "outputs": [
        {
          "output_type": "stream",
          "name": "stdout",
          "text": [
            "Survey\n",
            "['SurveyID', 'Description'] <class 'str'>\n",
            "\n",
            "=========\n",
            "\n",
            "Question\n",
            "['questionid', 'questiontext'] <class 'str'>\n",
            "\n",
            "=========\n",
            "\n"
          ]
        }
      ]
    },
    {
      "cell_type": "markdown",
      "source": [
        "Insertando los datos."
      ],
      "metadata": {
        "id": "pjCk34qTzAe3"
      }
    },
    {
      "cell_type": "code",
      "source": [
        "filas = len(question)\n",
        "for i in range(filas):\n",
        "  questionid = int(question.loc[i][\"questionid\"])\n",
        "  questiontext = question.loc[i][\"questiontext\"]\n",
        "  cursor.execute(\"INSERT INTO Question(questionid, questiontext) VALUES (?,?)\", (questionid, questiontext))"
      ],
      "metadata": {
        "id": "RWqMJiJS-prq"
      },
      "execution_count": null,
      "outputs": []
    },
    {
      "cell_type": "code",
      "source": [
        "get_table_contents(cursor, \"Question\", limit=5)"
      ],
      "metadata": {
        "colab": {
          "base_uri": "https://localhost:8080/"
        },
        "id": "DQ4gdB52y3Gm",
        "outputId": "6376adbe-e80f-4f89-9f65-ff1ee9d15dd8"
      },
      "execution_count": null,
      "outputs": [
        {
          "output_type": "stream",
          "name": "stdout",
          "text": [
            "Question\n",
            "['questionid', 'questiontext']\n",
            "(1, 'What is your age?')\n",
            "(2, 'What is your gender?')\n",
            "(3, 'What country do you live in?')\n",
            "(4, 'If you live in the United States, which state or territory do you live in?')\n",
            "(5, 'Are you self-employed?')\n",
            "\n",
            "=========\n",
            "\n"
          ]
        }
      ]
    },
    {
      "cell_type": "markdown",
      "source": [
        "Usando la librería csv"
      ],
      "metadata": {
        "id": "_LSXKHa_Cr4f"
      }
    },
    {
      "cell_type": "code",
      "source": [
        "def import_from_csv(connection, cursor, t_name, csv_path):\n",
        "  data = []\n",
        "  \n",
        "  with open(csv_path, 'r') as f:\n",
        "    dr = csv.DictReader(f)\n",
        "    # to_db = [(i['col1'], i['col2']) for i in dr]\n",
        "    columns = tuple(dr.fieldnames)\n",
        "    print(columns)\n",
        "    data = [tuple([row[i] for i in columns]) for row in dr]\n",
        "\n",
        "    cursor.executemany(f\"INSERT INTO {t_name} {columns} VALUES (?, ?);\", data)\n",
        "    connection.commit()"
      ],
      "metadata": {
        "id": "4u0kPgFyCrYP"
      },
      "execution_count": null,
      "outputs": []
    },
    {
      "cell_type": "code",
      "source": [
        "cursor.execute(\"DROP TABLE Question\")\n",
        "cursor.execute(\"CREATE TABLE Question(questionid INTEGER, questiontext TEXT, PRIMARY KEY(questionid))\")"
      ],
      "metadata": {
        "colab": {
          "base_uri": "https://localhost:8080/"
        },
        "id": "_czyp-SVC5BV",
        "outputId": "86e5ae51-d32c-4ac6-a99e-9f285997fe21"
      },
      "execution_count": null,
      "outputs": [
        {
          "output_type": "execute_result",
          "data": {
            "text/plain": [
              "<sqlite3.Cursor at 0x7fc8e9511650>"
            ]
          },
          "metadata": {},
          "execution_count": 155
        }
      ]
    },
    {
      "cell_type": "code",
      "source": [
        "import_from_csv(connection, cursor, \"Question\", \"/content/data/Question.csv\")"
      ],
      "metadata": {
        "colab": {
          "base_uri": "https://localhost:8080/"
        },
        "id": "fcvPVuW8C2FC",
        "outputId": "7b7b5395-7645-4de4-bec8-a799581af18e"
      },
      "execution_count": null,
      "outputs": [
        {
          "output_type": "stream",
          "name": "stdout",
          "text": [
            "('questiontext', 'questionid')\n"
          ]
        }
      ]
    },
    {
      "cell_type": "code",
      "source": [
        "get_table_contents(cursor, \"Question\", limit=5)"
      ],
      "metadata": {
        "colab": {
          "base_uri": "https://localhost:8080/"
        },
        "id": "-HHqCM8TBa67",
        "outputId": "423b182a-5e14-4049-edc1-fc0d6465163a"
      },
      "execution_count": null,
      "outputs": [
        {
          "output_type": "stream",
          "name": "stdout",
          "text": [
            "Question\n",
            "['questionid', 'questiontext']\n",
            "(1, 'What is your age?')\n",
            "(2, 'What is your gender?')\n",
            "(3, 'What country do you live in?')\n",
            "(4, 'If you live in the United States, which state or territory do you live in?')\n",
            "(5, 'Are you self-employed?')\n",
            "\n",
            "=========\n",
            "\n"
          ]
        }
      ]
    },
    {
      "cell_type": "markdown",
      "source": [
        "# Misión 3"
      ],
      "metadata": {
        "id": "WZ-oTS4OD9-m"
      }
    },
    {
      "cell_type": "markdown",
      "source": [
        "Con pandas"
      ],
      "metadata": {
        "id": "yqOP9mzqEeIn"
      }
    },
    {
      "cell_type": "code",
      "source": [
        "answer = pd.read_csv(\"/content/data/Answer.csv\")\n",
        "answer.head()"
      ],
      "metadata": {
        "colab": {
          "base_uri": "https://localhost:8080/",
          "height": 206
        },
        "id": "YE3ASfhcDsJP",
        "outputId": "c04e7e4b-9c89-4d71-d732-b55f9b27e84c"
      },
      "execution_count": null,
      "outputs": [
        {
          "output_type": "execute_result",
          "data": {
            "text/plain": [
              "  AnswerText  SurveyID  UserID  QuestionID\n",
              "0         37      2014       1           1\n",
              "1         44      2014       2           1\n",
              "2         32      2014       3           1\n",
              "3         31      2014       4           1\n",
              "4         31      2014       5           1"
            ],
            "text/html": [
              "\n",
              "  <div id=\"df-2a506c63-7f14-475d-8b40-8957a1197829\">\n",
              "    <div class=\"colab-df-container\">\n",
              "      <div>\n",
              "<style scoped>\n",
              "    .dataframe tbody tr th:only-of-type {\n",
              "        vertical-align: middle;\n",
              "    }\n",
              "\n",
              "    .dataframe tbody tr th {\n",
              "        vertical-align: top;\n",
              "    }\n",
              "\n",
              "    .dataframe thead th {\n",
              "        text-align: right;\n",
              "    }\n",
              "</style>\n",
              "<table border=\"1\" class=\"dataframe\">\n",
              "  <thead>\n",
              "    <tr style=\"text-align: right;\">\n",
              "      <th></th>\n",
              "      <th>AnswerText</th>\n",
              "      <th>SurveyID</th>\n",
              "      <th>UserID</th>\n",
              "      <th>QuestionID</th>\n",
              "    </tr>\n",
              "  </thead>\n",
              "  <tbody>\n",
              "    <tr>\n",
              "      <th>0</th>\n",
              "      <td>37</td>\n",
              "      <td>2014</td>\n",
              "      <td>1</td>\n",
              "      <td>1</td>\n",
              "    </tr>\n",
              "    <tr>\n",
              "      <th>1</th>\n",
              "      <td>44</td>\n",
              "      <td>2014</td>\n",
              "      <td>2</td>\n",
              "      <td>1</td>\n",
              "    </tr>\n",
              "    <tr>\n",
              "      <th>2</th>\n",
              "      <td>32</td>\n",
              "      <td>2014</td>\n",
              "      <td>3</td>\n",
              "      <td>1</td>\n",
              "    </tr>\n",
              "    <tr>\n",
              "      <th>3</th>\n",
              "      <td>31</td>\n",
              "      <td>2014</td>\n",
              "      <td>4</td>\n",
              "      <td>1</td>\n",
              "    </tr>\n",
              "    <tr>\n",
              "      <th>4</th>\n",
              "      <td>31</td>\n",
              "      <td>2014</td>\n",
              "      <td>5</td>\n",
              "      <td>1</td>\n",
              "    </tr>\n",
              "  </tbody>\n",
              "</table>\n",
              "</div>\n",
              "      <button class=\"colab-df-convert\" onclick=\"convertToInteractive('df-2a506c63-7f14-475d-8b40-8957a1197829')\"\n",
              "              title=\"Convert this dataframe to an interactive table.\"\n",
              "              style=\"display:none;\">\n",
              "        \n",
              "  <svg xmlns=\"http://www.w3.org/2000/svg\" height=\"24px\"viewBox=\"0 0 24 24\"\n",
              "       width=\"24px\">\n",
              "    <path d=\"M0 0h24v24H0V0z\" fill=\"none\"/>\n",
              "    <path d=\"M18.56 5.44l.94 2.06.94-2.06 2.06-.94-2.06-.94-.94-2.06-.94 2.06-2.06.94zm-11 1L8.5 8.5l.94-2.06 2.06-.94-2.06-.94L8.5 2.5l-.94 2.06-2.06.94zm10 10l.94 2.06.94-2.06 2.06-.94-2.06-.94-.94-2.06-.94 2.06-2.06.94z\"/><path d=\"M17.41 7.96l-1.37-1.37c-.4-.4-.92-.59-1.43-.59-.52 0-1.04.2-1.43.59L10.3 9.45l-7.72 7.72c-.78.78-.78 2.05 0 2.83L4 21.41c.39.39.9.59 1.41.59.51 0 1.02-.2 1.41-.59l7.78-7.78 2.81-2.81c.8-.78.8-2.07 0-2.86zM5.41 20L4 18.59l7.72-7.72 1.47 1.35L5.41 20z\"/>\n",
              "  </svg>\n",
              "      </button>\n",
              "      \n",
              "  <style>\n",
              "    .colab-df-container {\n",
              "      display:flex;\n",
              "      flex-wrap:wrap;\n",
              "      gap: 12px;\n",
              "    }\n",
              "\n",
              "    .colab-df-convert {\n",
              "      background-color: #E8F0FE;\n",
              "      border: none;\n",
              "      border-radius: 50%;\n",
              "      cursor: pointer;\n",
              "      display: none;\n",
              "      fill: #1967D2;\n",
              "      height: 32px;\n",
              "      padding: 0 0 0 0;\n",
              "      width: 32px;\n",
              "    }\n",
              "\n",
              "    .colab-df-convert:hover {\n",
              "      background-color: #E2EBFA;\n",
              "      box-shadow: 0px 1px 2px rgba(60, 64, 67, 0.3), 0px 1px 3px 1px rgba(60, 64, 67, 0.15);\n",
              "      fill: #174EA6;\n",
              "    }\n",
              "\n",
              "    [theme=dark] .colab-df-convert {\n",
              "      background-color: #3B4455;\n",
              "      fill: #D2E3FC;\n",
              "    }\n",
              "\n",
              "    [theme=dark] .colab-df-convert:hover {\n",
              "      background-color: #434B5C;\n",
              "      box-shadow: 0px 1px 3px 1px rgba(0, 0, 0, 0.15);\n",
              "      filter: drop-shadow(0px 1px 2px rgba(0, 0, 0, 0.3));\n",
              "      fill: #FFFFFF;\n",
              "    }\n",
              "  </style>\n",
              "\n",
              "      <script>\n",
              "        const buttonEl =\n",
              "          document.querySelector('#df-2a506c63-7f14-475d-8b40-8957a1197829 button.colab-df-convert');\n",
              "        buttonEl.style.display =\n",
              "          google.colab.kernel.accessAllowed ? 'block' : 'none';\n",
              "\n",
              "        async function convertToInteractive(key) {\n",
              "          const element = document.querySelector('#df-2a506c63-7f14-475d-8b40-8957a1197829');\n",
              "          const dataTable =\n",
              "            await google.colab.kernel.invokeFunction('convertToInteractive',\n",
              "                                                     [key], {});\n",
              "          if (!dataTable) return;\n",
              "\n",
              "          const docLinkHtml = 'Like what you see? Visit the ' +\n",
              "            '<a target=\"_blank\" href=https://colab.research.google.com/notebooks/data_table.ipynb>data table notebook</a>'\n",
              "            + ' to learn more about interactive tables.';\n",
              "          element.innerHTML = '';\n",
              "          dataTable['output_type'] = 'display_data';\n",
              "          await google.colab.output.renderOutput(dataTable, element);\n",
              "          const docLink = document.createElement('div');\n",
              "          docLink.innerHTML = docLinkHtml;\n",
              "          element.appendChild(docLink);\n",
              "        }\n",
              "      </script>\n",
              "    </div>\n",
              "  </div>\n",
              "  "
            ]
          },
          "metadata": {},
          "execution_count": 157
        }
      ]
    },
    {
      "cell_type": "code",
      "source": [
        "sql_query = '''CREATE TABLE Answer\n",
        "               (SurveyID INTEGER,\n",
        "                QuestionID INTEGER,\n",
        "                UserID INTEGER,\n",
        "                AnswerText TEXT,\n",
        "                FOREIGN KEY(SurveyID) REFERENCES Survey(SurveyID),\n",
        "                FOREIGN KEY(QuestionID) REFERENCES Question(questionid)\n",
        "                PRIMARY KEY(SurveyID, QuestionID, UserID))'''\n",
        "cursor.execute(sql_query)\n",
        "list_tables(cursor)"
      ],
      "metadata": {
        "colab": {
          "base_uri": "https://localhost:8080/"
        },
        "id": "iXtXCRojEr9b",
        "outputId": "393743bb-b54c-4afb-8d24-6c4c405f67a9"
      },
      "execution_count": null,
      "outputs": [
        {
          "output_type": "stream",
          "name": "stdout",
          "text": [
            "Survey\n",
            "['SurveyID', 'Description'] <class 'str'>\n",
            "\n",
            "=========\n",
            "\n",
            "Question\n",
            "['questionid', 'questiontext'] <class 'str'>\n",
            "\n",
            "=========\n",
            "\n",
            "Answer\n",
            "['SurveyID', 'QuestionID', 'UserID', 'AnswerText'] <class 'str'>\n",
            "\n",
            "=========\n",
            "\n"
          ]
        }
      ]
    },
    {
      "cell_type": "code",
      "source": [
        "filas = len(answer)\n",
        "for i in range(filas):\n",
        "  surveyid = int(answer.loc[i][\"SurveyID\"])\n",
        "  questionid = int(answer.loc[i][\"QuestionID\"])\n",
        "  userid = int(answer.loc[i][\"UserID\"])\n",
        "  answertext = answer.loc[i][\"AnswerText\"]\n",
        "  cursor.execute(\"INSERT INTO Answer(SurveyID, QuestionID, UserID, AnswerText) VALUES (?,?,?,?)\", (surveyid, questionid, userid, answertext))"
      ],
      "metadata": {
        "id": "Vd0mql_YIGOw"
      },
      "execution_count": null,
      "outputs": []
    },
    {
      "cell_type": "code",
      "source": [
        "get_table_contents(cursor, \"Answer\", limit=5)"
      ],
      "metadata": {
        "colab": {
          "base_uri": "https://localhost:8080/"
        },
        "id": "sl-ARNRZXHB5",
        "outputId": "2ca8d8dc-d613-4c55-db8a-04e4ef82a821"
      },
      "execution_count": null,
      "outputs": [
        {
          "output_type": "stream",
          "name": "stdout",
          "text": [
            "Answer\n",
            "['SurveyID', 'QuestionID', 'UserID', 'AnswerText']\n",
            "(2014, 1, 1, '37')\n",
            "(2014, 1, 2, '44')\n",
            "(2014, 1, 3, '32')\n",
            "(2014, 1, 4, '31')\n",
            "(2014, 1, 5, '31')\n",
            "\n",
            "=========\n",
            "\n"
          ]
        }
      ]
    },
    {
      "cell_type": "markdown",
      "source": [
        "Usando la libreria csv"
      ],
      "metadata": {
        "id": "dwolaCgJRtUj"
      }
    },
    {
      "cell_type": "code",
      "source": [
        "cursor.execute(\"DROP TABLE Answer\")\n",
        "sql_query = '''CREATE TABLE Answer\n",
        "               (SurveyID INTEGER,\n",
        "                QuestionID INTEGER,\n",
        "                UserID INTEGER,\n",
        "                AnswerText TEXT,\n",
        "                FOREIGN KEY(SurveyID) REFERENCES Survey(SurveyID),\n",
        "                FOREIGN KEY(QuestionID) REFERENCES Question(questionid)\n",
        "                PRIMARY KEY(SurveyID, QuestionID, UserID, AnswerText))'''\n",
        "cursor.execute(sql_query)"
      ],
      "metadata": {
        "colab": {
          "base_uri": "https://localhost:8080/"
        },
        "id": "KCQwhUwrJc4k",
        "outputId": "0a05bcb7-8058-4096-cd70-48aabd63f226"
      },
      "execution_count": null,
      "outputs": [
        {
          "output_type": "execute_result",
          "data": {
            "text/plain": [
              "<sqlite3.Cursor at 0x7fc8e9511650>"
            ]
          },
          "metadata": {},
          "execution_count": 166
        }
      ]
    },
    {
      "cell_type": "code",
      "source": [
        "def import_from_csv(connection, cursor, t_name, csv_path):\n",
        "  data = []\n",
        "  \n",
        "  with open(csv_path, 'r') as f:\n",
        "    dr = csv.DictReader(f)\n",
        "    # to_db = [(i['col1'], i['col2']) for i in dr]\n",
        "    columns = tuple(dr.fieldnames)\n",
        "    print(columns)\n",
        "    data = [tuple([row[i] for i in columns]) for row in dr]\n",
        "\n",
        "    cursor.executemany(f\"INSERT INTO {t_name} {columns} VALUES (?, ?, ?, ?);\", data)\n",
        "    connection.commit()"
      ],
      "metadata": {
        "id": "WnVQfSQzU3SE"
      },
      "execution_count": null,
      "outputs": []
    },
    {
      "cell_type": "code",
      "source": [
        "import_from_csv(connection, cursor, \"Answer\", \"/content/data/Answer.csv\")"
      ],
      "metadata": {
        "colab": {
          "base_uri": "https://localhost:8080/"
        },
        "id": "m-qDClI-K1w1",
        "outputId": "e056d4bc-27e7-4c00-f3c5-37a1ac40dbc7"
      },
      "execution_count": null,
      "outputs": [
        {
          "output_type": "stream",
          "name": "stdout",
          "text": [
            "('AnswerText', 'SurveyID', 'UserID', 'QuestionID')\n"
          ]
        }
      ]
    },
    {
      "cell_type": "code",
      "source": [
        "get_table_contents(cursor, \"Answer\", limit=5)"
      ],
      "metadata": {
        "colab": {
          "base_uri": "https://localhost:8080/"
        },
        "id": "7vJ63HktUkqp",
        "outputId": "417eabbb-66f5-4e56-b3c5-0da18874d486"
      },
      "execution_count": null,
      "outputs": [
        {
          "output_type": "stream",
          "name": "stdout",
          "text": [
            "Answer\n",
            "['SurveyID', 'QuestionID', 'UserID', 'AnswerText']\n",
            "(2014, 1, 1, '37')\n",
            "(2014, 1, 2, '44')\n",
            "(2014, 1, 3, '32')\n",
            "(2014, 1, 4, '31')\n",
            "(2014, 1, 5, '31')\n",
            "\n",
            "=========\n",
            "\n"
          ]
        }
      ]
    },
    {
      "cell_type": "code",
      "source": [
        "list_tables(cursor)"
      ],
      "metadata": {
        "id": "HCeFK5SYVLR-",
        "colab": {
          "base_uri": "https://localhost:8080/"
        },
        "outputId": "047daa5d-b29e-471d-eba2-a3ce6bfc2555"
      },
      "execution_count": null,
      "outputs": [
        {
          "output_type": "stream",
          "name": "stdout",
          "text": [
            "Survey\n",
            "['SurveyID', 'Description'] <class 'str'>\n",
            "\n",
            "=========\n",
            "\n",
            "Question\n",
            "['questionid', 'questiontext'] <class 'str'>\n",
            "\n",
            "=========\n",
            "\n",
            "Answer\n",
            "['SurveyID', 'QuestionID', 'UserID', 'AnswerText'] <class 'str'>\n",
            "\n",
            "=========\n",
            "\n"
          ]
        }
      ]
    },
    {
      "cell_type": "code",
      "source": [],
      "metadata": {
        "id": "ktrGv5gz73Fb"
      },
      "execution_count": null,
      "outputs": []
    }
  ]
}