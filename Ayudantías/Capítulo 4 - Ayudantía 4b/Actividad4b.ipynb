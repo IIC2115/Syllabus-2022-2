{
 "cells": [
  {
   "cell_type": "markdown",
   "metadata": {
    "id": "-juJSMIryiEn"
   },
   "source": [
    "# Pasos previos"
   ]
  },
  {
   "cell_type": "markdown",
   "metadata": {
    "id": "m5irUlRzy9_m"
   },
   "source": [
    "Primero importanmos la librería con la cual trabajaremos, nos conectamos a la base de datos y creamos una función que nos será de útilidad más adelante"
   ]
  },
  {
   "cell_type": "code",
   "execution_count": 27,
   "metadata": {
    "id": "MFBJtSXbzKS1"
   },
   "outputs": [],
   "source": [
    "import sqlite3\n",
    "from random import randint"
   ]
  },
  {
   "cell_type": "code",
   "execution_count": 28,
   "metadata": {
    "id": "zGzU-tB-zM_t"
   },
   "outputs": [],
   "source": [
    "connection = sqlite3.connect('mental_health.sqlite')   \n",
    "cursor = connection.cursor()  "
   ]
  },
  {
   "cell_type": "code",
   "execution_count": 3,
   "metadata": {
    "id": "3_1bTo-_zZm2"
   },
   "outputs": [],
   "source": [
    "def execute_query(cursor, query):\n",
    "  cursor.execute(query)\n",
    "  response = cursor.fetchall()\n",
    "  for row in response:\n",
    "    text = \"\"\n",
    "    for element in row:\n",
    "        text += str(element)\n",
    "        text += \" | \"\n",
    "    print(text)"
   ]
  },
  {
   "cell_type": "markdown",
   "metadata": {
    "id": "GRJJWYwAyujl"
   },
   "source": [
    "# Misión 1"
   ]
  },
  {
   "cell_type": "markdown",
   "metadata": {
    "id": "11pzBlCQ06OW"
   },
   "source": [
    "#### Elija un ID de pregunta cualquiera. Obtenga el texto de la pregunta del ID seleccionado desde la tabla de preguntas."
   ]
  },
  {
   "cell_type": "markdown",
   "metadata": {
    "id": "xSx6f3hz1Eld"
   },
   "source": [
    "| SELECT | FROM | WHERE |\n",
    "| :-: | :-: | :-: |\n",
    "| Texto de la pregunta | Tabla Preguntas | ID elegido |\n",
    "| QuestionText | Question | ID |"
   ]
  },
  {
   "cell_type": "code",
   "execution_count": 4,
   "metadata": {},
   "outputs": [
    {
     "name": "stdout",
     "output_type": "stream",
     "text": [
      "105 | \n"
     ]
    }
   ],
   "source": [
    "execute_query(cursor, \"SELECT COUNT(*) FROM Question\")"
   ]
  },
  {
   "cell_type": "code",
   "execution_count": 5,
   "metadata": {
    "colab": {
     "base_uri": "https://localhost:8080/",
     "height": 201
    },
    "id": "fT0UhVcM05YE",
    "outputId": "4eef6cc5-c68a-44bb-b484-f0114c48f035"
   },
   "outputs": [
    {
     "name": "stdout",
     "output_type": "stream",
     "text": [
      "Have your observations of how another individual who discussed a mental health disorder made you less likely to reveal a mental health issue yourself in your current workplace? | \n"
     ]
    }
   ],
   "source": [
    "id = randint(1,105)\n",
    "query = f\"SELECT Q.QuestionText FROM Question Q WHERE Q.Questionid={id}\"\n",
    "execute_query(cursor, query)"
   ]
  },
  {
   "cell_type": "markdown",
   "metadata": {},
   "source": [
    "#### Elija un ID de pregunta cualquiera. Cuente cuántas respuestas tiene la pregunta del ID seleccionado"
   ]
  },
  {
   "cell_type": "markdown",
   "metadata": {},
   "source": [
    "| SELECT | FROM | WHERE |\n",
    "| :-: | :-: | :-: |\n",
    "| Contar Respuestas | Tabla Respuestas | ID Question |\n",
    "| Count(*) | Answer| QuestionId = ID |"
   ]
  },
  {
   "cell_type": "code",
   "execution_count": 6,
   "metadata": {},
   "outputs": [
    {
     "name": "stdout",
     "output_type": "stream",
     "text": [
      "2958 | \n"
     ]
    }
   ],
   "source": [
    "q_id = randint(1,105)\n",
    "query = f\"SELECT Count(*) FROM Answer A WHERE A.QuestionId={q_id}\"\n",
    "execute_query(cursor, query)"
   ]
  },
  {
   "cell_type": "markdown",
   "metadata": {},
   "source": [
    "#### En la tabla d respuestas, encuentre el ID de la pregunta con la mayor cantidad de respuestas"
   ]
  },
  {
   "cell_type": "markdown",
   "metadata": {},
   "source": [
    "| SELECT | FROM | GROUP BY | ORDER BY | LIMIT |\n",
    "| :-: | :-: | :-: | :-: | :-: |\n",
    "| Id Pregunta | Tabla Respuestas | Agrupar por id respuesta | ORDERNAR DESENDENTEMENTE | queremos 1 respuesta |\n",
    "| QuestionId | Answer| QuestionId | count(*) DESC | 1 |"
   ]
  },
  {
   "cell_type": "code",
   "execution_count": 30,
   "metadata": {},
   "outputs": [
    {
     "name": "stdout",
     "output_type": "stream",
     "text": [
      "92 | \n"
     ]
    }
   ],
   "source": [
    "query = \"SELECT A.QuestionId FROM Answer A GROUP BY A.QuestionId ORDER BY count(*) DES LIMIT 1\"\n",
    "execute_query(cursor, query)"
   ]
  },
  {
   "cell_type": "markdown",
   "metadata": {
    "id": "H-QrPMhey06l"
   },
   "source": [
    "# Misión 2"
   ]
  },
  {
   "cell_type": "markdown",
   "metadata": {},
   "source": [
    "#### Liste para cada respuesta, la descripción de la Encuesta en la que se hizo. Limite su respuesta a 10 elementos."
   ]
  },
  {
   "cell_type": "markdown",
   "metadata": {},
   "source": [
    "Para los joins recomiendo ir por parte, primero unamos ambas tablas"
   ]
  },
  {
   "cell_type": "code",
   "execution_count": 8,
   "metadata": {
    "scrolled": true
   },
   "outputs": [
    {
     "name": "stdout",
     "output_type": "stream",
     "text": [
      "37 | 2014 | 1 | 1 | 2014 | mental health survey for 2014 | \n",
      "37 | 2014 | 1 | 1 | 2016 | mental health survey for 2016 | \n",
      "37 | 2014 | 1 | 1 | 2017 | mental health survey for 2017 | \n",
      "37 | 2014 | 1 | 1 | 2018 | mental health survey for 2018 | \n",
      "37 | 2014 | 1 | 1 | 2019 | mental health survey for 2019 | \n",
      "44 | 2014 | 2 | 1 | 2014 | mental health survey for 2014 | \n",
      "44 | 2014 | 2 | 1 | 2016 | mental health survey for 2016 | \n",
      "44 | 2014 | 2 | 1 | 2017 | mental health survey for 2017 | \n",
      "44 | 2014 | 2 | 1 | 2018 | mental health survey for 2018 | \n",
      "44 | 2014 | 2 | 1 | 2019 | mental health survey for 2019 | \n",
      "32 | 2014 | 3 | 1 | 2014 | mental health survey for 2014 | \n",
      "32 | 2014 | 3 | 1 | 2016 | mental health survey for 2016 | \n"
     ]
    }
   ],
   "source": [
    "query = \"SELECT * FROM Answer A, Survey S Limit 12\"\n",
    "execute_query(cursor, query)"
   ]
  },
  {
   "cell_type": "code",
   "execution_count": 9,
   "metadata": {
    "scrolled": true
   },
   "outputs": [
    {
     "name": "stdout",
     "output_type": "stream",
     "text": [
      "37 | 2014 | 1 | 1 | 2014 | mental health survey for 2014 | \n",
      "44 | 2014 | 2 | 1 | 2014 | mental health survey for 2014 | \n",
      "32 | 2014 | 3 | 1 | 2014 | mental health survey for 2014 | \n",
      "31 | 2014 | 4 | 1 | 2014 | mental health survey for 2014 | \n",
      "31 | 2014 | 5 | 1 | 2014 | mental health survey for 2014 | \n",
      "33 | 2014 | 6 | 1 | 2014 | mental health survey for 2014 | \n",
      "35 | 2014 | 7 | 1 | 2014 | mental health survey for 2014 | \n",
      "39 | 2014 | 8 | 1 | 2014 | mental health survey for 2014 | \n",
      "42 | 2014 | 9 | 1 | 2014 | mental health survey for 2014 | \n",
      "23 | 2014 | 10 | 1 | 2014 | mental health survey for 2014 | \n",
      "31 | 2014 | 11 | 1 | 2014 | mental health survey for 2014 | \n",
      "29 | 2014 | 12 | 1 | 2014 | mental health survey for 2014 | \n"
     ]
    }
   ],
   "source": [
    "query = \"SELECT * FROM Answer A, Survey S WHERE A.SurveyId = S.SurveyId Limit 12\"\n",
    "execute_query(cursor, query)"
   ]
  },
  {
   "cell_type": "code",
   "execution_count": 10,
   "metadata": {},
   "outputs": [
    {
     "name": "stdout",
     "output_type": "stream",
     "text": [
      "mental health survey for 2014 | \n",
      "mental health survey for 2014 | \n",
      "mental health survey for 2014 | \n",
      "mental health survey for 2014 | \n",
      "mental health survey for 2014 | \n",
      "mental health survey for 2014 | \n",
      "mental health survey for 2014 | \n",
      "mental health survey for 2014 | \n",
      "mental health survey for 2014 | \n",
      "mental health survey for 2014 | \n",
      "mental health survey for 2014 | \n",
      "mental health survey for 2014 | \n"
     ]
    }
   ],
   "source": [
    "query = \"SELECT S.Description FROM Answer A, Survey S WHERE A.SurveyId = S.SurveyId Limit 12\"\n",
    "execute_query(cursor, query)"
   ]
  },
  {
   "cell_type": "markdown",
   "metadata": {},
   "source": [
    "#### Muestre tanto el texto, como ID y cantidad de respuestas que obtuvo cada pregunta."
   ]
  },
  {
   "cell_type": "code",
   "execution_count": 11,
   "metadata": {},
   "outputs": [
    {
     "name": "stdout",
     "output_type": "stream",
     "text": [
      "37 | 2014 | 1 | 1 | What is your age? | 1 | \n",
      "37 | 2014 | 1 | 1 | What is your gender? | 2 | \n",
      "37 | 2014 | 1 | 1 | What country do you live in? | 3 | \n",
      "37 | 2014 | 1 | 1 | If you live in the United States, which state or territory do you live in? | 4 | \n",
      "37 | 2014 | 1 | 1 | Are you self-employed? | 5 | \n",
      "37 | 2014 | 1 | 1 | Do you have a family history of mental illness? | 6 | \n",
      "37 | 2014 | 1 | 1 | Have you ever sought treatment for a mental health disorder from a mental health professional? | 7 | \n",
      "37 | 2014 | 1 | 1 | How many employees does your company or organization have? | 8 | \n",
      "37 | 2014 | 1 | 1 | Is your employer primarily a tech company/organization? | 9 | \n",
      "37 | 2014 | 1 | 1 | Does your employer provide mental health benefits as part of healthcare coverage? | 10 | \n",
      "37 | 2014 | 1 | 1 | Is your anonymity protected if you choose to take advantage of mental health or substance abuse treatment resources provided by your employer? | 11 | \n",
      "37 | 2014 | 1 | 1 | Would you bring up a mental health issue with a potential employer in an interview? | 12 | \n",
      "37 | 2014 | 1 | 1 | Is your primary role within your company related to tech/IT? | 13 | \n",
      "37 | 2014 | 1 | 1 | Do you know the options for mental health care available under your employer-provided health coverage? | 14 | \n",
      "37 | 2014 | 1 | 1 | Has your employer ever formally discussed mental health (for example, as part of a wellness campaign or other official communication)? | 15 | \n",
      "37 | 2014 | 1 | 1 | Does your employer offer resources to learn more about mental health disorders and options for seeking help? | 16 | \n",
      "37 | 2014 | 1 | 1 | If a mental health issue prompted you to request a medical leave from work, how easy or difficult would it be to ask for that leave? | 17 | \n",
      "37 | 2014 | 1 | 1 | Would you feel comfortable discussing a mental health issue with your coworkers? | 18 | \n",
      "37 | 2014 | 1 | 1 | Would you feel comfortable discussing a mental health issue with your direct supervisor(s)? | 19 | \n",
      "37 | 2014 | 1 | 1 | Do you have medical coverage (private insurance or state-provided) that includes treatment of mental health disorders? | 20 | \n"
     ]
    }
   ],
   "source": [
    "query = \"SELECT * FROM Answer A, Question Q Limit 20\"\n",
    "execute_query(cursor, query)"
   ]
  },
  {
   "cell_type": "code",
   "execution_count": 12,
   "metadata": {},
   "outputs": [
    {
     "name": "stdout",
     "output_type": "stream",
     "text": [
      "37 | 2014 | 1 | 1 | What is your age? | 1 | \n",
      "44 | 2014 | 2 | 1 | What is your age? | 1 | \n",
      "32 | 2014 | 3 | 1 | What is your age? | 1 | \n",
      "31 | 2014 | 4 | 1 | What is your age? | 1 | \n",
      "31 | 2014 | 5 | 1 | What is your age? | 1 | \n",
      "33 | 2014 | 6 | 1 | What is your age? | 1 | \n",
      "35 | 2014 | 7 | 1 | What is your age? | 1 | \n",
      "39 | 2014 | 8 | 1 | What is your age? | 1 | \n",
      "42 | 2014 | 9 | 1 | What is your age? | 1 | \n",
      "23 | 2014 | 10 | 1 | What is your age? | 1 | \n",
      "31 | 2014 | 11 | 1 | What is your age? | 1 | \n",
      "29 | 2014 | 12 | 1 | What is your age? | 1 | \n",
      "42 | 2014 | 13 | 1 | What is your age? | 1 | \n",
      "36 | 2014 | 14 | 1 | What is your age? | 1 | \n",
      "27 | 2014 | 15 | 1 | What is your age? | 1 | \n",
      "29 | 2014 | 16 | 1 | What is your age? | 1 | \n",
      "23 | 2014 | 17 | 1 | What is your age? | 1 | \n",
      "32 | 2014 | 18 | 1 | What is your age? | 1 | \n",
      "46 | 2014 | 19 | 1 | What is your age? | 1 | \n",
      "36 | 2014 | 20 | 1 | What is your age? | 1 | \n"
     ]
    }
   ],
   "source": [
    "query = \"SELECT * FROM Answer A, Question Q WHERE A.QuestionId = Q.QuestionId Limit 20\"\n",
    "execute_query(cursor, query)"
   ]
  },
  {
   "cell_type": "code",
   "execution_count": 13,
   "metadata": {},
   "outputs": [
    {
     "name": "stdout",
     "output_type": "stream",
     "text": [
      "What is your age? | 1 | 4218 | \n",
      "What is your gender? | 2 | 4218 | \n",
      "What country do you live in? | 3 | 4218 | \n",
      "If you live in the United States, which state or territory do you live in? | 4 | 4218 | \n",
      "Are you self-employed? | 5 | 4218 | \n",
      "Do you have a family history of mental illness? | 6 | 4218 | \n",
      "Have you ever sought treatment for a mental health disorder from a mental health professional? | 7 | 4218 | \n",
      "How many employees does your company or organization have? | 8 | 4218 | \n",
      "Is your employer primarily a tech company/organization? | 9 | 4218 | \n",
      "Does your employer provide mental health benefits as part of healthcare coverage? | 10 | 4218 | \n",
      "Is your anonymity protected if you choose to take advantage of mental health or substance abuse treatment resources provided by your employer? | 11 | 4218 | \n",
      "Would you bring up a mental health issue with a potential employer in an interview? | 12 | 4218 | \n",
      "Is your primary role within your company related to tech/IT? | 13 | 2958 | \n",
      "Do you know the options for mental health care available under your employer-provided health coverage? | 14 | 2958 | \n",
      "Has your employer ever formally discussed mental health (for example, as part of a wellness campaign or other official communication)? | 15 | 2958 | \n",
      "Does your employer offer resources to learn more about mental health disorders and options for seeking help? | 16 | 2958 | \n",
      "If a mental health issue prompted you to request a medical leave from work, how easy or difficult would it be to ask for that leave? | 17 | 2958 | \n",
      "Would you feel comfortable discussing a mental health issue with your coworkers? | 18 | 2958 | \n",
      "Would you feel comfortable discussing a mental health issue with your direct supervisor(s)? | 19 | 2958 | \n",
      "Do you have medical coverage (private insurance or state-provided) that includes treatment of mental health disorders? | 20 | 2958 | \n",
      "Do you know local or online resources to seek help for a mental health issue? | 21 | 2958 | \n",
      "Do you have previous employers? | 22 | 2958 | \n",
      "Have your previous employers provided mental health benefits? | 23 | 2958 | \n",
      "Were you aware of the options for mental health care provided by your previous employers? | 24 | 2958 | \n",
      "Did your previous employers ever formally discuss mental health (as part of a wellness campaign or other official communication)? | 25 | 2958 | \n",
      "Did your previous employers provide resources to learn more about mental health disorders and how to seek help? | 26 | 2958 | \n",
      "Was your anonymity protected if you chose to take advantage of mental health or substance abuse treatment resources with previous employers? | 27 | 2958 | \n",
      "Would you have been willing to discuss your mental health with your direct supervisor(s)? | 28 | 2958 | \n",
      "Would you be willing to bring up a physical health issue with a potential employer in an interview? | 29 | 2958 | \n",
      "How willing would you be to share with friends and family that you have a mental illness? | 30 | 2958 | \n",
      "Have your observations of how another individual who discussed a mental health disorder made you less likely to reveal a mental health issue yourself in your current workplace? | 31 | 2958 | \n",
      "Have you had a mental health disorder in the past? | 32 | 2958 | \n",
      "Do you currently have a mental health disorder? | 33 | 2958 | \n",
      "Have you ever been diagnosed with a mental health disorder? | 34 | 2958 | \n",
      "If you have a mental health disorder, how often do you feel that it interferes with your work when being treated effectively? | 48 | 2958 | \n",
      "If you have a mental health disorder, how often do you feel that it interferes with your work when not being treated effectively (i.e., when you are experiencing symptoms)? | 49 | 2958 | \n",
      "What country do you work in? | 50 | 2958 | \n",
      "What US state or territory do you work in? | 51 | 2958 | \n",
      "If you have been diagnosed or treated for a mental health disorder, do you ever reveal this to clients or business contacts? | 52 | 2958 | \n",
      "If you have been diagnosed or treated for a mental health disorder, do you ever reveal this to coworkers or employees? | 53 | 2958 | \n",
      "Do you believe your productivity is ever affected by a mental health issue? | 54 | 2958 | \n",
      "If yes, what percentage of your work time (time performing primary or secondary job functions) is affected by a mental health issue? | 55 | 2958 | \n",
      "Have you observed or experienced an unsupportive or badly handled response to a mental health issue in your current or previous workplace? | 56 | 2958 | \n",
      "Would you feel more comfortable talking to your coworkers about your physical health or your mental health? | 57 | 1525 | \n",
      "Have you ever discussed your mental health with your employer? | 58 | 1525 | \n",
      "Describe the conversation you had with your employer about your mental health, including their reactions and what actions were taken to address your mental health issue/questions. | 59 | 1525 | \n",
      "Have you ever discussed your mental health with coworkers? | 60 | 1525 | \n",
      "Describe the conversation with coworkers you had about your mental health including their reactions. | 61 | 1525 | \n",
      "Have you ever had a coworker discuss their or another coworker's mental health with you? | 62 | 1525 | \n",
      "Describe the conversation your coworker had with you about their mental health (please do not use names). | 63 | 1525 | \n",
      "Overall, how much importance does your employer place on physical health? | 64 | 1525 | \n",
      "Overall, how much importance does your employer place on mental health? | 65 | 1525 | \n",
      "If you have revealed a mental health disorder to a client or business contact, how has this affected you or the relationship? | 66 | 1525 | \n",
      "If you have revealed a mental health disorder to a coworker or employee, how has this impacted you or the relationship? | 67 | 1525 | \n",
      "Was your employer primarily a tech company/organization? | 68 | 1525 | \n",
      "Would you have felt more comfortable talking to your previous employer about your physical health or your mental health? | 69 | 1525 | \n",
      "Did you ever discuss your mental health with your previous employer? | 70 | 1525 | \n",
      "Describe the conversation you had with your previous employer about your mental health, including their reactions and actions taken to address your mental health issue/questions. | 71 | 1525 | \n",
      "Did you ever discuss your mental health with a previous coworker(s)? | 72 | 1525 | \n",
      "Describe the conversation you had with your previous coworkers about your mental health including their reactions. | 73 | 1525 | \n",
      "Did you ever have a previous coworker discuss their or another coworker's mental health with you? | 74 | 1525 | \n",
      "Describe the conversation your coworker had with you about their mental health (please do not use names)..1 | 75 | 1525 | \n",
      "Overall, how much importance did your previous employer place on physical health? | 76 | 1525 | \n",
      "Overall, how much importance did your previous employer place on mental health? | 77 | 1525 | \n",
      "Are you openly identified at work as a person with a mental health issue? | 78 | 1525 | \n",
      "Has being identified as a person with a mental health issue affected your career? | 79 | 1525 | \n",
      "How has it affected your career? | 80 | 1525 | \n",
      "If they knew you suffered from a mental health disorder, how do you think that your team members/co-workers would react? | 81 | 1525 | \n",
      "Describe the circumstances of the badly handled or unsupportive response. | 82 | 1525 | \n",
      "Have you observed or experienced supportive or well handled response to a mental health issue in your current or previous workplace? | 83 | 1525 | \n",
      "Describe the circumstances of the supportive or well handled response. | 84 | 1525 | \n",
      "Overall, how well do you think the tech industry supports employees with mental health issues? | 85 | 1525 | \n",
      "Briefly describe what you think the industry as a whole and/or employers could do to improve mental health support for employees. | 86 | 1525 | \n",
      "If there is anything else you would like to tell us that has not been covered by the survey questions, please use this space to do so. | 87 | 1525 | \n",
      "Would you be willing to talk to one of us more extensively about your experiences with mental health issues in the tech industry? (Note that all interview responses would be used _anonymously_ and only with your permission.) | 88 | 1525 | \n",
      "What is your race? | 89 | 1525 | \n",
      "Do you think that discussing a physical health issue with your employer would have negative consequences? | 90 | 2693 | \n",
      "Do you feel that your employer takes mental health as seriously as physical health? | 91 | 2693 | \n",
      "If you have a mental health condition, do you feel that it interferes with your work? | 92 | 1260 | \n",
      "Do you work remotely (outside of an office) at least 50% of the time? | 93 | 1260 | \n",
      "Do you know the options for mental health care your employer provides? | 94 | 1260 | \n",
      "Has your employer ever discussed mental health as part of an employee wellness program? | 95 | 1260 | \n",
      "Does your employer provide resources to learn more about mental health issues and how to seek help? | 96 | 1260 | \n",
      "How easy is it for you to take medical leave for a mental health condition? | 97 | 1260 | \n",
      "Do you think that discussing a mental health issue with your employer would have negative consequences? | 98 | 1260 | \n",
      "Would you be willing to discuss a mental health issue with your coworkers? | 99 | 1260 | \n",
      "Would you be willing to discuss a mental health issue with your direct supervisor(s)? | 100 | 1260 | \n",
      "Would you bring up a physical health issue with a potential employer in an interview? | 101 | 1260 | \n",
      "Have you heard of or observed negative consequences for coworkers with mental health conditions in your workplace? | 102 | 1260 | \n",
      "Any additional notes or comments | 103 | 1260 | \n",
      "Do you think that discussing a mental health disorder with your employer would have negative consequences? | 104 | 1433 | \n",
      "Have you heard of or observed negative consequences for co-workers who have been open about mental health issues in your workplace? | 105 | 1433 | \n",
      "If you have revealed a mental health issue to a client or business contact, do you believe this has impacted you negatively? | 106 | 1433 | \n",
      "If you have revealed a mental health issue to a coworker or employee, do you believe this has impacted you negatively? | 107 | 1433 | \n",
      "Do you think that discussing a mental health disorder with previous employers would have negative consequences? | 108 | 1433 | \n",
      "Do you think that discussing a physical health issue with previous employers would have negative consequences? | 109 | 1433 | \n",
      "Would you have been willing to discuss a mental health issue with your previous co-workers? | 110 | 1433 | \n",
      "Did you feel that your previous employers took mental health as seriously as physical health? | 111 | 1433 | \n",
      "Did you hear of or observe negative consequences for co-workers with mental health issues in your previous workplaces? | 112 | 1433 | \n",
      "Do you feel that being identified as a person with a mental health issue would hurt your career? | 113 | 1433 | \n",
      "Do you think that team members/co-workers would view you more negatively if they knew you suffered from a mental health issue? | 114 | 1433 | \n",
      "If yes, what condition(s) have you been diagnosed with? | 115 | 2072 | \n",
      "If maybe, what condition(s) do you believe you have? | 116 | 1793 | \n",
      "Which of the following best describes your work position? | 117 | 2692 | \n",
      "Do you work remotely? | 118 | 1433 | \n"
     ]
    }
   ],
   "source": [
    "query = \"SELECT Q.QuestionText, Q.QuestionId, Count(*) FROM Answer A, Question Q WHERE A.QuestionId = Q.QuestionId GROUP BY A.QuestionID\"\n",
    "execute_query(cursor, query)"
   ]
  },
  {
   "cell_type": "markdown",
   "metadata": {
    "id": "CzOO-Uucy4x2"
   },
   "source": [
    "# Misión 3"
   ]
  },
  {
   "cell_type": "markdown",
   "metadata": {},
   "source": [
    "#### Para cada respuesta, obtenga la descripción de la encuesta, el texto de la pregunta, qué respuesta se dió y qué usuario fue."
   ]
  },
  {
   "cell_type": "markdown",
   "metadata": {},
   "source": [
    " Como estamos haciendo consultas anidadas, recomuendi primero hacer una consulta, ver que me retorne lo que deseo. Para luego hacer la consulta completa. "
   ]
  },
  {
   "cell_type": "code",
   "execution_count": 14,
   "metadata": {},
   "outputs": [],
   "source": [
    "sub_query = \"SELECT S.Description, A.AnswerText, A.UserId, A.QuestionId FROM Answer A, Survey S WHERE A.SurveyId = S.SurveyId\"\n",
    "#execute_query(cursor, sub_query)"
   ]
  },
  {
   "cell_type": "code",
   "execution_count": 15,
   "metadata": {},
   "outputs": [
    {
     "name": "stdout",
     "output_type": "stream",
     "text": [
      "mental health survey for 2014 | What is your age? | 37 | 1 | \n",
      "mental health survey for 2014 | What is your age? | 44 | 2 | \n",
      "mental health survey for 2014 | What is your age? | 32 | 3 | \n",
      "mental health survey for 2014 | What is your age? | 31 | 4 | \n",
      "mental health survey for 2014 | What is your age? | 31 | 5 | \n",
      "mental health survey for 2014 | What is your age? | 33 | 6 | \n",
      "mental health survey for 2014 | What is your age? | 35 | 7 | \n",
      "mental health survey for 2014 | What is your age? | 39 | 8 | \n",
      "mental health survey for 2014 | What is your age? | 42 | 9 | \n",
      "mental health survey for 2014 | What is your age? | 23 | 10 | \n",
      "mental health survey for 2014 | What is your age? | 31 | 11 | \n",
      "mental health survey for 2014 | What is your age? | 29 | 12 | \n",
      "mental health survey for 2014 | What is your age? | 42 | 13 | \n",
      "mental health survey for 2014 | What is your age? | 36 | 14 | \n",
      "mental health survey for 2014 | What is your age? | 27 | 15 | \n",
      "mental health survey for 2014 | What is your age? | 29 | 16 | \n",
      "mental health survey for 2014 | What is your age? | 23 | 17 | \n",
      "mental health survey for 2014 | What is your age? | 32 | 18 | \n",
      "mental health survey for 2014 | What is your age? | 46 | 19 | \n",
      "mental health survey for 2014 | What is your age? | 36 | 20 | \n",
      "mental health survey for 2014 | What is your age? | 29 | 21 | \n",
      "mental health survey for 2014 | What is your age? | 31 | 22 | \n",
      "mental health survey for 2014 | What is your age? | 46 | 23 | \n",
      "mental health survey for 2014 | What is your age? | 41 | 24 | \n",
      "mental health survey for 2014 | What is your age? | 33 | 25 | \n",
      "mental health survey for 2014 | What is your age? | 35 | 26 | \n",
      "mental health survey for 2014 | What is your age? | 33 | 27 | \n",
      "mental health survey for 2014 | What is your age? | 35 | 28 | \n",
      "mental health survey for 2014 | What is your age? | 34 | 29 | \n",
      "mental health survey for 2014 | What is your age? | 37 | 30 | \n",
      "mental health survey for 2014 | What is your age? | 32 | 31 | \n",
      "mental health survey for 2014 | What is your age? | 31 | 32 | \n",
      "mental health survey for 2014 | What is your age? | 30 | 33 | \n",
      "mental health survey for 2014 | What is your age? | 42 | 34 | \n",
      "mental health survey for 2014 | What is your age? | 40 | 35 | \n",
      "mental health survey for 2014 | What is your age? | 27 | 36 | \n",
      "mental health survey for 2014 | What is your age? | 29 | 37 | \n",
      "mental health survey for 2014 | What is your age? | 38 | 38 | \n",
      "mental health survey for 2014 | What is your age? | 50 | 39 | \n",
      "mental health survey for 2014 | What is your age? | 35 | 40 | \n",
      "mental health survey for 2014 | What is your age? | 24 | 41 | \n",
      "mental health survey for 2014 | What is your age? | 35 | 42 | \n",
      "mental health survey for 2014 | What is your age? | 27 | 43 | \n",
      "mental health survey for 2014 | What is your age? | 18 | 44 | \n",
      "mental health survey for 2014 | What is your age? | 30 | 45 | \n",
      "mental health survey for 2014 | What is your age? | 38 | 46 | \n",
      "mental health survey for 2014 | What is your age? | 28 | 47 | \n",
      "mental health survey for 2014 | What is your age? | 34 | 48 | \n",
      "mental health survey for 2014 | What is your age? | 26 | 49 | \n",
      "mental health survey for 2014 | What is your age? | 30 | 50 | \n"
     ]
    }
   ],
   "source": [
    "query = f\"SELECT SQ.Description, Q.QuestionText, SQ.AnswerText, SQ.UserId FROM Question Q, ({sub_query}) AS SQ WHERE Q.QuestionId = SQ.QuestionId Limit 50\"\n",
    "execute_query(cursor, query)"
   ]
  },
  {
   "cell_type": "markdown",
   "metadata": {},
   "source": [
    "Esta query en particular la podriamos haber hecho con un join triple"
   ]
  },
  {
   "cell_type": "code",
   "execution_count": 16,
   "metadata": {},
   "outputs": [
    {
     "name": "stdout",
     "output_type": "stream",
     "text": [
      "mental health survey for 2014 | What is your age? | 37 | 1 | \n",
      "mental health survey for 2014 | What is your age? | 44 | 2 | \n",
      "mental health survey for 2014 | What is your age? | 32 | 3 | \n",
      "mental health survey for 2014 | What is your age? | 31 | 4 | \n",
      "mental health survey for 2014 | What is your age? | 31 | 5 | \n",
      "mental health survey for 2014 | What is your age? | 33 | 6 | \n",
      "mental health survey for 2014 | What is your age? | 35 | 7 | \n",
      "mental health survey for 2014 | What is your age? | 39 | 8 | \n",
      "mental health survey for 2014 | What is your age? | 42 | 9 | \n",
      "mental health survey for 2014 | What is your age? | 23 | 10 | \n",
      "mental health survey for 2014 | What is your age? | 31 | 11 | \n",
      "mental health survey for 2014 | What is your age? | 29 | 12 | \n",
      "mental health survey for 2014 | What is your age? | 42 | 13 | \n",
      "mental health survey for 2014 | What is your age? | 36 | 14 | \n",
      "mental health survey for 2014 | What is your age? | 27 | 15 | \n",
      "mental health survey for 2014 | What is your age? | 29 | 16 | \n",
      "mental health survey for 2014 | What is your age? | 23 | 17 | \n",
      "mental health survey for 2014 | What is your age? | 32 | 18 | \n",
      "mental health survey for 2014 | What is your age? | 46 | 19 | \n",
      "mental health survey for 2014 | What is your age? | 36 | 20 | \n",
      "mental health survey for 2014 | What is your age? | 29 | 21 | \n",
      "mental health survey for 2014 | What is your age? | 31 | 22 | \n",
      "mental health survey for 2014 | What is your age? | 46 | 23 | \n",
      "mental health survey for 2014 | What is your age? | 41 | 24 | \n",
      "mental health survey for 2014 | What is your age? | 33 | 25 | \n",
      "mental health survey for 2014 | What is your age? | 35 | 26 | \n",
      "mental health survey for 2014 | What is your age? | 33 | 27 | \n",
      "mental health survey for 2014 | What is your age? | 35 | 28 | \n",
      "mental health survey for 2014 | What is your age? | 34 | 29 | \n",
      "mental health survey for 2014 | What is your age? | 37 | 30 | \n",
      "mental health survey for 2014 | What is your age? | 32 | 31 | \n",
      "mental health survey for 2014 | What is your age? | 31 | 32 | \n",
      "mental health survey for 2014 | What is your age? | 30 | 33 | \n",
      "mental health survey for 2014 | What is your age? | 42 | 34 | \n",
      "mental health survey for 2014 | What is your age? | 40 | 35 | \n",
      "mental health survey for 2014 | What is your age? | 27 | 36 | \n",
      "mental health survey for 2014 | What is your age? | 29 | 37 | \n",
      "mental health survey for 2014 | What is your age? | 38 | 38 | \n",
      "mental health survey for 2014 | What is your age? | 50 | 39 | \n",
      "mental health survey for 2014 | What is your age? | 35 | 40 | \n",
      "mental health survey for 2014 | What is your age? | 24 | 41 | \n",
      "mental health survey for 2014 | What is your age? | 35 | 42 | \n",
      "mental health survey for 2014 | What is your age? | 27 | 43 | \n",
      "mental health survey for 2014 | What is your age? | 18 | 44 | \n",
      "mental health survey for 2014 | What is your age? | 30 | 45 | \n",
      "mental health survey for 2014 | What is your age? | 38 | 46 | \n",
      "mental health survey for 2014 | What is your age? | 28 | 47 | \n",
      "mental health survey for 2014 | What is your age? | 34 | 48 | \n",
      "mental health survey for 2014 | What is your age? | 26 | 49 | \n",
      "mental health survey for 2014 | What is your age? | 30 | 50 | \n"
     ]
    }
   ],
   "source": [
    "query = f\"SELECT S.Description, Q.QuestionText, A.AnswerText, A.userId FROM Question Q, Answer A, Survey S WHERE S.SurveyId = A.SurveyId AND Q.QuestionId = A.QuestionId Limit 50\"\n",
    "execute_query(cursor, query)"
   ]
  },
  {
   "cell_type": "markdown",
   "metadata": {},
   "source": [
    "#### Para un ID de pregunta especifico, cuente la cantidad de respuestas que tiene cada respuesta diferente y muestre las 10 mayores. El resultado, debe mostrar la descripción de la encuesta, el texto de la pregunta, qué respuesta se dió, qué usuario fue y el conteo de respuestas diferentes."
   ]
  },
  {
   "cell_type": "code",
   "execution_count": 17,
   "metadata": {},
   "outputs": [],
   "source": [
    "q_id = randint(1, 105)\n",
    "sub_query = f\"SELECT A.QuestionId, A.SurveyId, A.AnswerText, count(*) AS count FROM Answer A WHERE A.QuestionId={q_id} GROUP BY A.AnswerText ORDER BY count(*) DESC LIMIT 10\"\n",
    "#execute_query(cursor, sub_query)"
   ]
  },
  {
   "cell_type": "code",
   "execution_count": 18,
   "metadata": {
    "scrolled": true
   },
   "outputs": [
    {
     "name": "stdout",
     "output_type": "stream",
     "text": [
      "mental health survey for 2014 | Does your employer provide mental health benefits as part of healthcare coverage? | Yes | 1744 | \n",
      "mental health survey for 2014 | Does your employer provide mental health benefits as part of healthcare coverage? | No | 756 | \n",
      "mental health survey for 2016 | Does your employer provide mental health benefits as part of healthcare coverage? | I don't know | 658 | \n",
      "mental health survey for 2016 | Does your employer provide mental health benefits as part of healthcare coverage? | -1 | 504 | \n",
      "mental health survey for 2014 | Does your employer provide mental health benefits as part of healthcare coverage? | Don't know | 408 | \n",
      "mental health survey for 2016 | Does your employer provide mental health benefits as part of healthcare coverage? | Not eligible for coverage / NA | 148 | \n"
     ]
    }
   ],
   "source": [
    "query = f\"SELECT S.Description, Q.QuestionText, SQ.AnswerText, SQ.count FROM Question Q, Survey S, ({sub_query}) SQ WHERE Q.QuestionId = SQ.QuestionId and S.SurveyId = SQ.SurveyId\"\n",
    "execute_query(cursor, query)"
   ]
  },
  {
   "cell_type": "markdown",
   "metadata": {},
   "source": [
    "# Bonus"
   ]
  },
  {
   "cell_type": "markdown",
   "metadata": {},
   "source": [
    "#### Para la id de pregunta 1, mueste el promedio de respuestas para cada Encuesta realizada. Muestre en su respuesta, el nombre de la encuesta en que fue realizada, el texto de la pregunta y el promedio de respuesta"
   ]
  },
  {
   "cell_type": "code",
   "execution_count": 19,
   "metadata": {},
   "outputs": [
    {
     "name": "stdout",
     "output_type": "stream",
     "text": [
      "mental health survey for 2014 | What is your age? | 32.13492063492063 | \n",
      "mental health survey for 2016 | What is your age? | 34.28611304954641 | \n",
      "mental health survey for 2017 | What is your age? | 34.892857142857146 | \n",
      "mental health survey for 2018 | What is your age? | 34.91606714628298 | \n",
      "mental health survey for 2019 | What is your age? | 35.49431818181818 | \n"
     ]
    }
   ],
   "source": [
    "query = \"SELECT S.Description, Q.QuestionText, AVG(A.AnswerText) FROM Answer A, Question Q, Survey S WHERE A.QuestionId=Q.QuestionId AND A.SurveyId=S.SurveyId AND Q.QuestionId=1 GROUP BY S.SurveyId\"\n",
    "execute_query(cursor, query)"
   ]
  },
  {
   "cell_type": "code",
   "execution_count": 20,
   "metadata": {
    "scrolled": true
   },
   "outputs": [
    {
     "name": "stdout",
     "output_type": "stream",
     "text": [
      "2014 | mental health survey for 2014 | What is your age? | 8 | \n",
      "2016 | mental health survey for 2016 | What is your age? | 99 | \n",
      "2017 | mental health survey for 2017 | What is your age? | 67 | \n",
      "2018 | mental health survey for 2018 | What is your age? | 67 | \n",
      "2019 | mental health survey for 2019 | What is your age? | 64 | \n"
     ]
    }
   ],
   "source": [
    "query = \"SELECT S.SurveyId, S.Description, Q.QuestionText, max(A.AnswerText) FROM Answer A, Question Q, Survey S WHERE A.QuestionId=Q.QuestionId AND A.SurveyId=S.SurveyId AND Q.QuestionId=1 GROUP BY S.SurveyId\"\n",
    "execute_query(cursor, query)"
   ]
  },
  {
   "cell_type": "code",
   "execution_count": 21,
   "metadata": {
    "scrolled": true
   },
   "outputs": [
    {
     "name": "stdout",
     "output_type": "stream",
     "text": [
      "2014 | mental health survey for 2014 | What is your age? | -1 | \n",
      "2016 | mental health survey for 2016 | What is your age? | 15 | \n",
      "2017 | mental health survey for 2017 | What is your age? | -1 | \n",
      "2018 | mental health survey for 2018 | What is your age? | 19 | \n",
      "2019 | mental health survey for 2019 | What is your age? | 0 | \n"
     ]
    }
   ],
   "source": [
    "query = \"SELECT S.SurveyId, S.Description, Q.QuestionText, min(A.AnswerText) FROM Answer A, Question Q, Survey S WHERE A.QuestionId=Q.QuestionId AND A.SurveyId=S.SurveyId AND Q.QuestionId=1 GROUP BY S.SurveyId\"\n",
    "execute_query(cursor, query)"
   ]
  },
  {
   "cell_type": "markdown",
   "metadata": {},
   "source": [
    "#### Para la respuesta 2, Indica que proporcion de personas se identificaron como hombres en la respuesta. La consulta debe mostrar, descripción de la encuesta, texto de la pregunta y el porcentaje."
   ]
  },
  {
   "cell_type": "code",
   "execution_count": 22,
   "metadata": {},
   "outputs": [
    {
     "name": "stdout",
     "output_type": "stream",
     "text": [
      "2014 | 2 | 991 | \n",
      "2016 | 2 | 1057 | \n",
      "2017 | 2 | 502 | \n",
      "2018 | 2 | 266 | \n",
      "2019 | 2 | 227 | \n"
     ]
    }
   ],
   "source": [
    "query_A = \"SELECT A.SurveyId, A.QuestionId, COUNT(*) AS Male FROM Answer A WHERE A.QuestionId=2 AND A.AnswerText LIKE 'Male' GROUP BY A.SurveyId\"\n",
    "execute_query(cursor, query_A)"
   ]
  },
  {
   "cell_type": "code",
   "execution_count": 23,
   "metadata": {},
   "outputs": [
    {
     "name": "stdout",
     "output_type": "stream",
     "text": [
      "2014 | 2 | 1260 | \n",
      "2016 | 2 | 1433 | \n",
      "2017 | 2 | 756 | \n",
      "2018 | 2 | 417 | \n",
      "2019 | 2 | 352 | \n"
     ]
    }
   ],
   "source": [
    "query_B = \"SELECT A.SurveyId, A.QuestionId, COUNT(*) as Everyone FROM Answer A WHERE A.QuestionId=2 GROUP BY A.SurveyId\"\n",
    "execute_query(cursor, query_B)"
   ]
  },
  {
   "cell_type": "code",
   "execution_count": 24,
   "metadata": {},
   "outputs": [
    {
     "name": "stdout",
     "output_type": "stream",
     "text": [
      "mental health survey for 2014 | What is your gender? | 0.7865079365079365 | \n",
      "mental health survey for 2016 | What is your gender? | 0.7376133984647593 | \n",
      "mental health survey for 2017 | What is your gender? | 0.6640211640211641 | \n",
      "mental health survey for 2018 | What is your gender? | 0.6378896882494005 | \n",
      "mental health survey for 2019 | What is your gender? | 0.6448863636363636 | \n"
     ]
    }
   ],
   "source": [
    "survey_restrictions = \"S.SurveyId=QA.SurveyId AND S.SurveyId=QB.SurveyId AND QA.SurveyId=QB.SurveyId\"\n",
    "question_restrictions = \"Q.QuestionId=QA.QuestionId AND Q.QuestionId=QB.QuestionId AND QA.QuestionId=QB.QuestionId\"\n",
    "query = f\"SELECT S.Description, Q.QuestionText, QA.Male * 1.0 /QB.Everyone FROM ({query_A}) QA, ({query_B}) QB, Question Q, Survey S WHERE {survey_restrictions} AND {question_restrictions}\"\n",
    "execute_query(cursor, query)"
   ]
  },
  {
   "cell_type": "markdown",
   "metadata": {
    "id": "PHJolkls0Brn"
   },
   "source": [
    "# Cerramos la conexión"
   ]
  },
  {
   "cell_type": "code",
   "execution_count": 25,
   "metadata": {
    "id": "4jtqGfYH0GLF"
   },
   "outputs": [],
   "source": [
    "connection.close()"
   ]
  }
 ],
 "metadata": {
  "colab": {
   "provenance": []
  },
  "kernelspec": {
   "display_name": "Python 3",
   "language": "python",
   "name": "python3"
  },
  "language_info": {
   "codemirror_mode": {
    "name": "ipython",
    "version": 3
   },
   "file_extension": ".py",
   "mimetype": "text/x-python",
   "name": "python",
   "nbconvert_exporter": "python",
   "pygments_lexer": "ipython3",
   "version": "3.9.1"
  }
 },
 "nbformat": 4,
 "nbformat_minor": 1
}
