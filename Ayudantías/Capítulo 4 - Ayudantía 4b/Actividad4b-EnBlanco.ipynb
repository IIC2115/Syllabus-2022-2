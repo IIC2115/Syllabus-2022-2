{
 "cells": [
  {
   "cell_type": "markdown",
   "metadata": {
    "id": "-juJSMIryiEn"
   },
   "source": [
    "# Pasos previos"
   ]
  },
  {
   "cell_type": "markdown",
   "metadata": {
    "id": "m5irUlRzy9_m"
   },
   "source": [
    "Primero importanmos la librería con la cual trabajaremos, nos conectamos a la base de datos y creamos una función que nos será de útilidad más adelante"
   ]
  },
  {
   "cell_type": "code",
   "execution_count": null,
   "metadata": {
    "id": "MFBJtSXbzKS1"
   },
   "outputs": [],
   "source": [
    "import sqlite3\n",
    "from random import randint"
   ]
  },
  {
   "cell_type": "code",
   "execution_count": null,
   "metadata": {
    "id": "zGzU-tB-zM_t"
   },
   "outputs": [],
   "source": [
    "connection = sqlite3.connect('mental_health.sqlite')   \n",
    "cursor = connection.cursor()  "
   ]
  },
  {
   "cell_type": "code",
   "execution_count": null,
   "metadata": {
    "id": "3_1bTo-_zZm2"
   },
   "outputs": [],
   "source": [
    "def execute_query(cursor, query):\n",
    "  cursor.execute(query)\n",
    "  response = cursor.fetchall()\n",
    "  for row in response:\n",
    "    text = \"\"\n",
    "    for element in row:\n",
    "        text += str(element)\n",
    "        text += \" | \"\n",
    "    print(text)"
   ]
  },
  {
   "cell_type": "markdown",
   "metadata": {
    "id": "GRJJWYwAyujl"
   },
   "source": [
    "# Misión 1"
   ]
  },
  {
   "cell_type": "markdown",
   "metadata": {
    "id": "11pzBlCQ06OW"
   },
   "source": [
    "#### Elija un ID de pregunta cualquiera. Obtenga el texto de la pregunta del ID seleccionado desde la tabla de preguntas."
   ]
  },
  {
   "cell_type": "markdown",
   "metadata": {
    "id": "xSx6f3hz1Eld"
   },
   "source": [
    "| SELECT | FROM | WHERE |\n",
    "| :-: | :-: | :-: |\n",
    "| Texto de la pregunta | Tabla Preguntas | ID elegido |\n",
    "| QuestionText | Question | ID |"
   ]
  },
  {
   "cell_type": "code",
   "execution_count": null,
   "metadata": {},
   "outputs": [],
   "source": [
    "execute_query(cursor, \"SELECT COUNT(*) FROM Question\")"
   ]
  },
  {
   "cell_type": "code",
   "execution_count": null,
   "metadata": {
    "colab": {
     "base_uri": "https://localhost:8080/",
     "height": 201
    },
    "id": "fT0UhVcM05YE",
    "outputId": "4eef6cc5-c68a-44bb-b484-f0114c48f035"
   },
   "outputs": [],
   "source": [
    "id = randint(1,105)\n"
   ]
  },
  {
   "cell_type": "markdown",
   "metadata": {},
   "source": [
    "#### Elija un ID de pregunta cualquiera. Cuente cuántas respuestas tiene la pregunta del ID seleccionado"
   ]
  },
  {
   "cell_type": "markdown",
   "metadata": {},
   "source": [
    "| SELECT | FROM | WHERE | GROUP BY |\n",
    "| :-: | :-: | :-: | :-: |\n",
    "| Contar Respuestas | Tabla Respuestas | ID Question | Agrupar por id |\n",
    "| Count(*) | Answer| QuestionId = ID | QuestionId |"
   ]
  },
  {
   "cell_type": "code",
   "execution_count": null,
   "metadata": {},
   "outputs": [],
   "source": [
    "q_id = randint(1,105)\n"
   ]
  },
  {
   "cell_type": "markdown",
   "metadata": {},
   "source": [
    "#### En la tabla d respuestas, encuentre el ID de la pregunta con la mayor cantidad de respuestas"
   ]
  },
  {
   "cell_type": "markdown",
   "metadata": {},
   "source": [
    "| SELECT | FROM | GROUP BY | ORDER BY | LIMIT |\n",
    "| :-: | :-: | :-: | :-: | :-: |\n",
    "| Id Pregunta | Tabla Respuestas | Agrupar por id respuesta | ORDERNAR DESENDENTEMENTE | queremos 1 respuesta |\n",
    "| QuestionId | Answer| QuestionId | DESC | 1 |"
   ]
  },
  {
   "cell_type": "code",
   "execution_count": null,
   "metadata": {},
   "outputs": [],
   "source": []
  },
  {
   "cell_type": "markdown",
   "metadata": {
    "id": "H-QrPMhey06l"
   },
   "source": [
    "# Misión 2"
   ]
  },
  {
   "cell_type": "markdown",
   "metadata": {},
   "source": [
    "#### Liste para cada respuesta, la descripción de la Encuesta en la que se hizo. Limite su respuesta a 10 elementos."
   ]
  },
  {
   "cell_type": "markdown",
   "metadata": {},
   "source": [
    "Para los joins recomiendo ir por parte, primero unamos ambas tablas"
   ]
  },
  {
   "cell_type": "code",
   "execution_count": null,
   "metadata": {
    "scrolled": true
   },
   "outputs": [],
   "source": []
  },
  {
   "cell_type": "code",
   "execution_count": null,
   "metadata": {
    "scrolled": true
   },
   "outputs": [],
   "source": []
  },
  {
   "cell_type": "code",
   "execution_count": null,
   "metadata": {},
   "outputs": [],
   "source": []
  },
  {
   "cell_type": "markdown",
   "metadata": {},
   "source": [
    "#### Muestre tanto el texto, como ID y cantidad de respuestas que obtuvo cada pregunta."
   ]
  },
  {
   "cell_type": "code",
   "execution_count": null,
   "metadata": {},
   "outputs": [],
   "source": []
  },
  {
   "cell_type": "code",
   "execution_count": null,
   "metadata": {},
   "outputs": [],
   "source": []
  },
  {
   "cell_type": "code",
   "execution_count": null,
   "metadata": {},
   "outputs": [],
   "source": []
  },
  {
   "cell_type": "markdown",
   "metadata": {
    "id": "CzOO-Uucy4x2"
   },
   "source": [
    "# Misión 3"
   ]
  },
  {
   "cell_type": "markdown",
   "metadata": {},
   "source": [
    "#### Para cada respuesta, obtenga la descripción de la encuesta, el texto de la pregunta, qué respuesta se dió y qué usuario fue."
   ]
  },
  {
   "cell_type": "markdown",
   "metadata": {},
   "source": [
    " Como estamos haciendo consultas anidadas, recomuendi primero hacer una consulta, ver que me retorne lo que deseo. Para luego hacer la consulta completa. "
   ]
  },
  {
   "cell_type": "code",
   "execution_count": null,
   "metadata": {},
   "outputs": [],
   "source": [
    "sub_query = \"SELECT S.Description, A.AnswerText, A.UserId, A.QuestionId FROM Answer A, Survey S WHERE A.SurveyId = S.SurveyId\"\n",
    "execute_query(cursor, sub_query)"
   ]
  },
  {
   "cell_type": "code",
   "execution_count": null,
   "metadata": {},
   "outputs": [],
   "source": []
  },
  {
   "cell_type": "markdown",
   "metadata": {},
   "source": [
    "Esta query en particular la podriamos haber hecho con un join triple"
   ]
  },
  {
   "cell_type": "code",
   "execution_count": null,
   "metadata": {},
   "outputs": [],
   "source": []
  },
  {
   "cell_type": "markdown",
   "metadata": {},
   "source": [
    "#### Para un ID de pregunta especifico, cuente la cantidad de respuestas que tiene cada respuesta diferente y muestre las 10 mayores. El resultado, debe mostrar la descripción de la encuesta, el texto de la pregunta, qué respuesta se dió, qué usuario fue y el conteo de respuestas diferentes."
   ]
  },
  {
   "cell_type": "code",
   "execution_count": null,
   "metadata": {},
   "outputs": [],
   "source": [
    "q_id = randint(1, 105)\n",
    "sub_query = f\"SELECT A.QuestionId, A.SurveyId, A.AnswerText, count(*) AS count FROM Answer A WHERE A.QuestionId={q_id} GROUP BY A.AnswerText ORDER BY count(*) DESC LIMIT 10\"\n",
    "execute_query(cursor, sub_query)"
   ]
  },
  {
   "cell_type": "code",
   "execution_count": null,
   "metadata": {
    "scrolled": true
   },
   "outputs": [],
   "source": []
  },
  {
   "cell_type": "markdown",
   "metadata": {},
   "source": [
    "# Bonus"
   ]
  },
  {
   "cell_type": "markdown",
   "metadata": {},
   "source": [
    "#### Para la id de pregunta 1, mueste el promedio de respuestas para cada Encuesta realizada. Muestre en su respuesta, el nombre de la encuesta en que fue realizada, el texto de la pregunta y el promedio de respuesta"
   ]
  },
  {
   "cell_type": "code",
   "execution_count": null,
   "metadata": {},
   "outputs": [],
   "source": []
  },
  {
   "cell_type": "code",
   "execution_count": null,
   "metadata": {
    "scrolled": true
   },
   "outputs": [],
   "source": []
  },
  {
   "cell_type": "code",
   "execution_count": null,
   "metadata": {
    "scrolled": true
   },
   "outputs": [],
   "source": []
  },
  {
   "cell_type": "markdown",
   "metadata": {},
   "source": [
    "#### Para la respuesta 2, Indica que proporcion de personas se identificaron como hombres en la respuesta. La consulta debe mostrar, descripción de la encuesta, texto de la pregunta y el porcentaje."
   ]
  },
  {
   "cell_type": "code",
   "execution_count": null,
   "metadata": {},
   "outputs": [],
   "source": []
  },
  {
   "cell_type": "code",
   "execution_count": null,
   "metadata": {},
   "outputs": [],
   "source": []
  },
  {
   "cell_type": "code",
   "execution_count": null,
   "metadata": {},
   "outputs": [],
   "source": []
  },
  {
   "cell_type": "markdown",
   "metadata": {
    "id": "PHJolkls0Brn"
   },
   "source": [
    "# Cerramos la conexión"
   ]
  },
  {
   "cell_type": "code",
   "execution_count": null,
   "metadata": {
    "id": "4jtqGfYH0GLF"
   },
   "outputs": [],
   "source": [
    "connection.close()"
   ]
  }
 ],
 "metadata": {
  "colab": {
   "provenance": []
  },
  "kernelspec": {
   "display_name": "Python 3",
   "language": "python",
   "name": "python3"
  },
  "language_info": {
   "codemirror_mode": {
    "name": "ipython",
    "version": 3
   },
   "file_extension": ".py",
   "mimetype": "text/x-python",
   "name": "python",
   "nbconvert_exporter": "python",
   "pygments_lexer": "ipython3",
   "version": "3.9.1"
  }
 },
 "nbformat": 4,
 "nbformat_minor": 1
}
