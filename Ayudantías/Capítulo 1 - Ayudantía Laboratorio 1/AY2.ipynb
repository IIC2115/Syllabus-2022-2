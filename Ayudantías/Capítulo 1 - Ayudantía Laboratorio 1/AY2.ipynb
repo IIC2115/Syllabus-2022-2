{
 "cells": [
  {
   "cell_type": "markdown",
   "id": "b9ab1d41",
   "metadata": {},
   "source": [
    "# Ayudantía 2\n",
    "\n",
    "**Ayudante:** Felipe Martinez Nakousi\n",
    "\n",
    "**Mail:** fimartinez2@uc.cl"
   ]
  },
  {
   "cell_type": "markdown",
   "id": "5e75c2b2",
   "metadata": {},
   "source": [
    "## 1. Crear una matríz a partir de un archivo\n",
    "\n",
    "- Primero se debe analizar el tipo de archivo con el que se va a tratar\n",
    "\n",
    "`ejemplo.txt`:\n",
    "\n",
    "```  \n",
    "    4\n",
    "    1,2,3,4\n",
    "    5,6,7,8\n",
    "    9,10,11,12\n",
    "    13,14,15,16\n",
    "```\n",
    "    \n",
    "- La primera línea indica el tamaño (N) de la matríz\n",
    "- Las siguientes N lineas representan las filas de la matríz"
   ]
  },
  {
   "cell_type": "markdown",
   "id": "9808889f",
   "metadata": {},
   "source": [
    "### Abrir archivo\n",
    "- Se crea la lista `archivo` y se agregan las líneas del archivo `ejemplo.txt` como elementos de la lista. "
   ]
  },
  {
   "cell_type": "code",
   "execution_count": 23,
   "id": "daf2306e",
   "metadata": {},
   "outputs": [
    {
     "name": "stdout",
     "output_type": "stream",
     "text": [
      "Archivo antes de ser limpiado: ['4\\n', '0,1,2,3\\n', '4,5,6,7\\n', '8,9,10,11\\n', '12,13,14,15']\n",
      "Archivo despues de ser limpiado: ['4', '0,1,2,3', '4,5,6,7', '8,9,10,11', '12,13,14,15']\n"
     ]
    }
   ],
   "source": [
    "archivo = [] # aquí se almacenarán las líneas del archivo\n",
    "with open('ejemplo.txt', 'r') as file:\n",
    "    lines = file.readlines() # Retorna una lista con cada lína del archivo\n",
    "    print('Archivo antes de ser limpiado:', lines)\n",
    "    for line in lines:\n",
    "        archivo.append(line.strip()) # Sacar los saltos de línea (\\n)\n",
    "    \n",
    "print('Archivo despues de ser limpiado:', archivo)"
   ]
  },
  {
   "cell_type": "markdown",
   "id": "036422be",
   "metadata": {},
   "source": [
    "### Crear Matríz"
   ]
  },
  {
   "cell_type": "code",
   "execution_count": 24,
   "id": "be64b745",
   "metadata": {},
   "outputs": [
    {
     "name": "stdout",
     "output_type": "stream",
     "text": [
      "['0', '1', '2', '3']\n",
      "['4', '5', '6', '7']\n",
      "['8', '9', '10', '11']\n",
      "['12', '13', '14', '15']\n"
     ]
    }
   ],
   "source": [
    "N = int(archivo.pop(0)) # obtener el tamaño de la matríz \n",
    "matriz = [] # en esta lista vamos a agregar cada fila de la matriz\n",
    "\n",
    "for i in range(N): # Por cada fila de la matriz\n",
    "    linea = archivo[i] \n",
    "    fila = linea.split(',') # Separa el string por comas\n",
    "    matriz.append(fila) # Agregamos fila a la matriz\n",
    "    \n",
    "for fila in matriz:\n",
    "    # Imprimir matriz\n",
    "    print(fila)"
   ]
  },
  {
   "cell_type": "markdown",
   "id": "4483e181",
   "metadata": {},
   "source": [
    "### Tips:\n",
    "- Si necesitas abrir muchos archivos, crea una funcion (o las que necesites) que reciba el path hacia el archivo y que realice el procesamiento, devolviendo solo lo que necesites.\n",
    "- Además de evitar repetición de código, las funciones hacen que tu código se vea más limpio y ordenado.\n",
    "\n",
    "Las funciones siguientes hacen lo mismo que el código de arriba:"
   ]
  },
  {
   "cell_type": "code",
   "execution_count": 33,
   "id": "d8d95af5",
   "metadata": {},
   "outputs": [],
   "source": [
    "def abrir_archivo(path):\n",
    "    '''\n",
    "    Funcion para abrir archivos\n",
    "    Recibe el path del archivo\n",
    "    Retorna una lista con las líneas del archivo\n",
    "    '''\n",
    "    archivo = [] \n",
    "    with open(path, 'r') as file:\n",
    "        for linea in file.readlines():\n",
    "            archivo.append(linea.strip())\n",
    "    return archivo\n",
    "        \n",
    "def archivo_a_matriz(archivo):\n",
    "    '''\n",
    "    Recibe una lista con líneas de mi archivo\n",
    "    Retorna la matríz correspondiente\n",
    "    '''\n",
    "    N = archivo.pop(0)\n",
    "    return [linea.split(',') for linea in archivo]\n",
    "\n",
    "def procesar_archivo(path):\n",
    "    '''\n",
    "    Junta las funciones anteriores\n",
    "    Recibe el path de un archivo\n",
    "    Retorna la matriz correspondiente\n",
    "    '''\n",
    "    archivo = abrir_archivo(path)\n",
    "    return archivo_a_matriz(archivo)\n",
    "\n",
    "def imprimir_matriz(matriz):\n",
    "    '''\n",
    "    Imprime matriz linea por linea\n",
    "    de forma 'bonita'\n",
    "    '''\n",
    "    print('\\n'.join(['\\t'.join([str(cell) for cell in row]) for row in matriz]))\n",
    "    "
   ]
  },
  {
   "cell_type": "markdown",
   "id": "f7d17a1d",
   "metadata": {},
   "source": [
    "- Ahora puedes reutilizar las funciones para cada archivo que requieras\n",
    "\n",
    "Ejemplo:\n"
   ]
  },
  {
   "cell_type": "code",
   "execution_count": 34,
   "id": "37b74fdf",
   "metadata": {},
   "outputs": [
    {
     "name": "stdout",
     "output_type": "stream",
     "text": [
      "\n",
      "Matriz del archivo ejemplo.txt\n",
      "1\t2\t3\t4\n",
      "5\t6\t7\t8\n",
      "9\t10\t11\t12\n",
      "13\t14\t15\t16\n",
      "\n",
      "Matriz del archivo ejemplo2.txt\n",
      "1\t2\t3\t4\t3\t5\n",
      "5\t6\t7\t8\t6\t2\n",
      "9\t10\t11\t12\t4\t7\n",
      "13\t14\t15\t16\t7\t6\n",
      "5\t6\t7\t8\t6\t2\n",
      "1\t1\t1\t1\t1\t1\n",
      "\n",
      "Matriz del archivo ejemplo3.txt\n",
      "1\t0\t1\t0\t1\t0\t1\t0\t1\t0\n",
      "0\t1\t0\t1\t0\t1\t0\t1\t0\t1\n",
      "1\t0\t1\t0\t1\t0\t1\t0\t1\t0\n",
      "0\t1\t0\t1\t0\t1\t0\t1\t0\t1\n",
      "1\t0\t1\t0\t1\t0\t1\t0\t1\t0\n",
      "0\t1\t0\t1\t0\t1\t0\t1\t0\t1\n",
      "1\t0\t1\t0\t1\t0\t1\t0\t1\t0\n",
      "0\t1\t0\t1\t0\t1\t0\t1\t0\t1\n",
      "1\t0\t1\t0\t1\t0\t1\t0\t1\t0\n",
      "0\t1\t0\t1\t0\t1\t0\t1\t0\t1\n"
     ]
    }
   ],
   "source": [
    "paths = ['ejemplo.txt', 'ejemplo2.txt', 'ejemplo3.txt'] # lista con paths\n",
    "\n",
    "for path in paths:\n",
    "    matriz = procesar_archivo(path) # Llamamos a la funcion creada anteriormente\n",
    "    print('\\nMatriz del archivo', path)\n",
    "    imprimir_matriz(matriz) # imprimimos matriz"
   ]
  }
 ],
 "metadata": {
  "kernelspec": {
   "display_name": "Python 3 (ipykernel)",
   "language": "python",
   "name": "python3"
  },
  "language_info": {
   "codemirror_mode": {
    "name": "ipython",
    "version": 3
   },
   "file_extension": ".py",
   "mimetype": "text/x-python",
   "name": "python",
   "nbconvert_exporter": "python",
   "pygments_lexer": "ipython3",
   "version": "3.9.13"
  }
 },
 "nbformat": 4,
 "nbformat_minor": 5
}
