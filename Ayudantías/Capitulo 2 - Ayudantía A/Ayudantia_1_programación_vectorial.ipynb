{
 "cells": [
  {
   "cell_type": "markdown",
   "metadata": {
    "colab_type": "text",
    "id": "8eGwz9WcTAc9"
   },
   "source": [
    "**Material obtenido del ramo IIC2413 - Bases de Datos, semestre 2018-2, profesor Adrián Soto**\n",
    "* **\\[2019-2\\]** Ampliado por Felipe Barrientos y Joaquín Eichholz para el ramo IIC2433 - Minería de datos\n",
    "* **\\[2020-2\\]** Ampliado por Sebastian Ricke y Federico Taladriz para el mismo curso."
   ]
  },
  {
   "cell_type": "markdown",
   "metadata": {
    "colab_type": "text",
    "id": "IgDsSG8RTAc-"
   },
   "source": [
    "# Introducción a Minería de Datos: Análisis de datos con Python"
   ]
  },
  {
   "cell_type": "markdown",
   "metadata": {},
   "source": [
    "En esta ayudantía veremos principalmente las siguientes librerías: \n",
    "- **`NumPy`**: Para cálculos numéricos y manejo de matrices. \n",
    "- **`Pandas`**: Principalmente manejo de `DataFrames` (tablas).\n",
    "- **`Matplotlib`**: Plotear y visualizar información. \n",
    "- **`SciPy`**: Manejo de funciones aleatorias y matemáticas complejas. "
   ]
  },
  {
   "cell_type": "markdown",
   "metadata": {
    "colab_type": "text",
    "id": "xmWXZUXoTAc_"
   },
   "source": [
    "### Outline\n",
    "\n",
    "- Introducción a la librería **`NumPy`**:\n",
    "    - Arrays multidimensionales: `ndarrays`. \n",
    "        - Operaciones numéricas\n",
    "- Introducción a la librería **`Pandas`**:\n",
    "    - `Series`\n",
    "        - Operaciones\n",
    "    - `DataFrames`\n",
    "        - Preprocesamiento, manejar nulos\n",
    "        - Selección\n",
    "        - Importación, exportación\n",
    "        - Ordenamiento\n",
    "        - Agregación\n",
    "        - Combinaciones\n",
    "        - Creación de `DataFrames``\n",
    "- Visualización con **`matplotlib`**.\n",
    "- **`Scipy`**:\n",
    "    - Muestreo\n",
    "- Otros ejemplos\n",
    "- Consejos de eficiencia \n",
    "\n",
    "### Requisitos\n",
    "\n",
    "Vamos a utilizar Python3 y algunas librerías externas. Las vamos a instalar utilizando `pip`:\n",
    "\n",
    "```\n",
    "pip3 install --upgrade jupyter matplotlib numpy pandas scipy scikit-learn time seaborn\n",
    "```"
   ]
  },
  {
   "cell_type": "markdown",
   "metadata": {
    "colab_type": "text",
    "id": "m5cPrRTuTAdA"
   },
   "source": [
    "# Numpy\n",
    "\n",
    "`NumPy` es una librería para hacer cómputos numéricos en Python. Es la base de muchas otras librerías científicas. Entre otras cosas, nos permite:\n",
    "\n",
    "- Utilizar arreglos multidimensionales.\n",
    "- Utilizar funciones matemáticas.\n",
    "- Utilizar herramientas de álgebra lineal.\n",
    "\n",
    "Necesitamos conocer esta librería (en concreto, el manejo de arreglos) para poder entender el funcionamiento de `pandas`. Para comenzar a trabajar vamos a importar la librería y crear un pequeño arreglo de elementos aleatorios."
   ]
  },
  {
   "cell_type": "code",
   "execution_count": 145,
   "metadata": {
    "colab": {},
    "colab_type": "code",
    "id": "hDnBc9MfTAdA"
   },
   "outputs": [],
   "source": [
    "import numpy as np"
   ]
  },
  {
   "cell_type": "markdown",
   "metadata": {
    "colab_type": "text",
    "id": "mqBpThuHTAdJ"
   },
   "source": [
    "### Arreglos multidimensionales y muestras aleatorias"
   ]
  },
  {
   "cell_type": "markdown",
   "metadata": {
    "colab_type": "text",
    "id": "8HMrXC1TTAdK"
   },
   "source": [
    "Con `np.random.rand(n, m)` podemos obtener `n x m` muestras **Uniforme(0,1)** (No confundir con `np.random.randn(n, m)`, con lo que se obtienen muestras Normal(0,1))"
   ]
  },
  {
   "cell_type": "code",
   "execution_count": 146,
   "metadata": {
    "colab": {
     "base_uri": "https://localhost:8080/",
     "height": 51
    },
    "colab_type": "code",
    "id": "vOlkKkEQTAdL",
    "outputId": "9bdc3978-f4d4-4bd2-a515-0b852b12b371"
   },
   "outputs": [
    {
     "data": {
      "text/plain": [
       "array([[0.67150174, 0.24427207, 0.42537057, 0.43262216],\n",
       "       [0.16989674, 0.47668403, 0.60330872, 0.96439545]])"
      ]
     },
     "execution_count": 146,
     "metadata": {},
     "output_type": "execute_result"
    }
   ],
   "source": [
    "data = np.random.rand(2,4)\n",
    "data"
   ]
  },
  {
   "cell_type": "markdown",
   "metadata": {
    "colab_type": "text",
    "id": "pltd_CVMTAdO"
   },
   "source": [
    "Esto nos entrega un objeto `numpy.ndarray`, lo que respresenta un arreglo multidimensional. Este se puede pensar como una matriz, pero potencialemente con **muchas dimensiones**. "
   ]
  },
  {
   "cell_type": "code",
   "execution_count": 147,
   "metadata": {
    "colab": {
     "base_uri": "https://localhost:8080/",
     "height": 34
    },
    "colab_type": "code",
    "id": "hglDBHwVTAdP",
    "outputId": "ddc4070d-1cfb-448d-fd18-3b85801e3c50"
   },
   "outputs": [
    {
     "data": {
      "text/plain": [
       "numpy.ndarray"
      ]
     },
     "execution_count": 147,
     "metadata": {},
     "output_type": "execute_result"
    }
   ],
   "source": [
    "type(data)"
   ]
  },
  {
   "cell_type": "markdown",
   "metadata": {
    "colab_type": "text",
    "id": "traPvQ9_TAdT"
   },
   "source": [
    "Para preguntar el número de dimensiones utilizamos `ndim`. Para preguntar las dimensiones utilizamos `shape`."
   ]
  },
  {
   "cell_type": "code",
   "execution_count": 4,
   "metadata": {
    "colab": {
     "base_uri": "https://localhost:8080/",
     "height": 34
    },
    "colab_type": "code",
    "id": "bM4Q6ebOTAdU",
    "outputId": "88f5b5f3-92b8-4dd4-ae16-c472831a0a57"
   },
   "outputs": [
    {
     "data": {
      "text/plain": [
       "2"
      ]
     },
     "execution_count": 4,
     "metadata": {},
     "output_type": "execute_result"
    }
   ],
   "source": [
    "data.ndim"
   ]
  },
  {
   "cell_type": "code",
   "execution_count": 5,
   "metadata": {
    "colab": {
     "base_uri": "https://localhost:8080/",
     "height": 34
    },
    "colab_type": "code",
    "id": "IkyTm9zATAdX",
    "outputId": "2fe05093-416f-4a52-fe90-5174ea877a6f"
   },
   "outputs": [
    {
     "data": {
      "text/plain": [
       "(2, 4)"
      ]
     },
     "execution_count": 5,
     "metadata": {},
     "output_type": "execute_result"
    }
   ],
   "source": [
    "data.shape"
   ]
  },
  {
   "cell_type": "markdown",
   "metadata": {
    "colab_type": "text",
    "id": "SDAQzK-GTAda"
   },
   "source": [
    "###  Ponderar por un escalar\n",
    "A diferencia de una lista, podemos hacer operaciones matriciales, como multiplicar el arreglo `data` por un escalar:"
   ]
  },
  {
   "cell_type": "code",
   "execution_count": 148,
   "metadata": {
    "colab": {
     "base_uri": "https://localhost:8080/",
     "height": 51
    },
    "colab_type": "code",
    "id": "KIUaSKd5TAda",
    "outputId": "a517c293-de86-4fb2-e361-a522491e1249"
   },
   "outputs": [
    {
     "data": {
      "text/plain": [
       "array([[6.71501738, 2.44272066, 4.2537057 , 4.32622161],\n",
       "       [1.69896744, 4.76684034, 6.03308719, 9.64395452]])"
      ]
     },
     "execution_count": 148,
     "metadata": {},
     "output_type": "execute_result"
    }
   ],
   "source": [
    "data * 10"
   ]
  },
  {
   "cell_type": "code",
   "execution_count": 149,
   "metadata": {
    "colab": {
     "base_uri": "https://localhost:8080/",
     "height": 51
    },
    "colab_type": "code",
    "id": "RksKvxfMTAdp",
    "outputId": "94b1e76d-624c-4954-f8c8-79b328d4a851"
   },
   "outputs": [
    {
     "data": {
      "text/plain": [
       "array([[6.71501738, 2.44272066, 4.2537057 , 4.32622161],\n",
       "       [1.69896744, 4.76684034, 6.03308719, 9.64395452]])"
      ]
     },
     "execution_count": 149,
     "metadata": {},
     "output_type": "execute_result"
    }
   ],
   "source": [
    "np.multiply(data, 10)"
   ]
  },
  {
   "cell_type": "markdown",
   "metadata": {
    "colab_type": "text",
    "id": "KhX3PhDNTAds"
   },
   "source": [
    "### Suma\n",
    "o sumarle una matriz:"
   ]
  },
  {
   "cell_type": "code",
   "execution_count": 150,
   "metadata": {
    "colab": {
     "base_uri": "https://localhost:8080/",
     "height": 51
    },
    "colab_type": "code",
    "id": "rKTs37ntTAdt",
    "outputId": "04dd19b0-4873-4b22-ca03-574031cfc49c"
   },
   "outputs": [
    {
     "data": {
      "text/plain": [
       "array([[1.34300348, 0.48854413, 0.85074114, 0.86524432],\n",
       "       [0.33979349, 0.95336807, 1.20661744, 1.9287909 ]])"
      ]
     },
     "execution_count": 150,
     "metadata": {},
     "output_type": "execute_result"
    }
   ],
   "source": [
    "data + data"
   ]
  },
  {
   "cell_type": "markdown",
   "metadata": {
    "colab_type": "text",
    "id": "lxhT0LlVTAdx"
   },
   "source": [
    "### Crear arreglos\n",
    "\n",
    "Podemos crear arreglos a partir de una lista:"
   ]
  },
  {
   "cell_type": "code",
   "execution_count": 151,
   "metadata": {
    "colab": {
     "base_uri": "https://localhost:8080/",
     "height": 34
    },
    "colab_type": "code",
    "id": "o9AlvjVCTAdx",
    "outputId": "abe5f74e-5809-4a7f-8b92-5bcb661a63a7"
   },
   "outputs": [
    {
     "data": {
      "text/plain": [
       "array([1, 2, 3, 5, 9])"
      ]
     },
     "execution_count": 151,
     "metadata": {},
     "output_type": "execute_result"
    }
   ],
   "source": [
    "data1 = [1, 2, 3, 5, 9]\n",
    "arr1 = np.array(data1)\n",
    "arr1"
   ]
  },
  {
   "cell_type": "code",
   "execution_count": 10,
   "metadata": {
    "colab": {
     "base_uri": "https://localhost:8080/",
     "height": 34
    },
    "colab_type": "code",
    "id": "yGoA9caBTAd0",
    "outputId": "9789c84b-c57a-417a-cfb9-81dbb9f61fa3"
   },
   "outputs": [
    {
     "data": {
      "text/plain": [
       "array([ 1,  2,  3,  5,  9, 19])"
      ]
     },
     "execution_count": 10,
     "metadata": {},
     "output_type": "execute_result"
    }
   ],
   "source": [
    "np.append(arr1, 19)"
   ]
  },
  {
   "cell_type": "markdown",
   "metadata": {
    "colab_type": "text",
    "id": "y8UZtNFVTAd4"
   },
   "source": [
    "### Invertir"
   ]
  },
  {
   "cell_type": "code",
   "execution_count": 152,
   "metadata": {
    "colab": {
     "base_uri": "https://localhost:8080/",
     "height": 51
    },
    "colab_type": "code",
    "id": "mOxBSUKcTAd5",
    "outputId": "88a7ab15-4a77-496d-e620-005efc6f5107"
   },
   "outputs": [
    {
     "data": {
      "text/plain": [
       "array([[0.61278857, 0.50507167],\n",
       "       [0.01181561, 0.90070676]])"
      ]
     },
     "execution_count": 152,
     "metadata": {},
     "output_type": "execute_result"
    }
   ],
   "source": [
    "arr2 = np.random.rand(2,2)\n",
    "arr2"
   ]
  },
  {
   "cell_type": "code",
   "execution_count": 153,
   "metadata": {
    "colab": {
     "base_uri": "https://localhost:8080/",
     "height": 51
    },
    "colab_type": "code",
    "id": "mKevwLqPTAd8",
    "outputId": "180315e1-f46a-4e70-f574-f2515d30e64a"
   },
   "outputs": [
    {
     "data": {
      "text/plain": [
       "array([[ 1.64972137, -0.9250819 ],\n",
       "       [-0.02164129,  1.12237462]])"
      ]
     },
     "execution_count": 153,
     "metadata": {},
     "output_type": "execute_result"
    }
   ],
   "source": [
    "np.linalg.inv(arr2)"
   ]
  },
  {
   "cell_type": "markdown",
   "metadata": {
    "colab_type": "text",
    "id": "IJrwuIHCTAd_"
   },
   "source": [
    "### Transponer"
   ]
  },
  {
   "cell_type": "code",
   "execution_count": 154,
   "metadata": {
    "colab": {
     "base_uri": "https://localhost:8080/",
     "height": 51
    },
    "colab_type": "code",
    "id": "ho822KklTAeA",
    "outputId": "d01d08a2-46e8-453d-c586-9805075885c7"
   },
   "outputs": [
    {
     "data": {
      "text/plain": [
       "array([[0.21622633, 0.71310205, 0.30565074, 0.56890384],\n",
       "       [0.01851054, 0.14225885, 0.0745762 , 0.75372777]])"
      ]
     },
     "execution_count": 154,
     "metadata": {},
     "output_type": "execute_result"
    }
   ],
   "source": [
    "arr2 = np.random.rand(2,4)\n",
    "arr2"
   ]
  },
  {
   "cell_type": "code",
   "execution_count": 155,
   "metadata": {
    "colab": {
     "base_uri": "https://localhost:8080/",
     "height": 85
    },
    "colab_type": "code",
    "id": "V8kjJvzaTAeE",
    "outputId": "db5c9cfd-29c0-4d92-b02a-c42facaa9aad"
   },
   "outputs": [
    {
     "data": {
      "text/plain": [
       "array([[0.21622633, 0.01851054],\n",
       "       [0.71310205, 0.14225885],\n",
       "       [0.30565074, 0.0745762 ],\n",
       "       [0.56890384, 0.75372777]])"
      ]
     },
     "execution_count": 155,
     "metadata": {},
     "output_type": "execute_result"
    }
   ],
   "source": [
    "arr2.T"
   ]
  },
  {
   "cell_type": "markdown",
   "metadata": {
    "colab_type": "text",
    "id": "_4Zpg0MQTAeI"
   },
   "source": [
    "### Accediendo y mutando elementos\n",
    "\n",
    "Para obtener un elemento:"
   ]
  },
  {
   "cell_type": "code",
   "execution_count": 156,
   "metadata": {
    "colab": {
     "base_uri": "https://localhost:8080/",
     "height": 51
    },
    "colab_type": "code",
    "id": "ZknOsmO-TAeJ",
    "outputId": "b4a2e4b9-e3dc-478d-cbb9-0762e6450870"
   },
   "outputs": [
    {
     "data": {
      "text/plain": [
       "array([[-0.41614934, -0.14305247,  0.69028445],\n",
       "       [-1.81835297,  0.28862741,  0.37857699]])"
      ]
     },
     "execution_count": 156,
     "metadata": {},
     "output_type": "execute_result"
    }
   ],
   "source": [
    "arr2 = np.random.randn(2,3)\n",
    "arr2"
   ]
  },
  {
   "cell_type": "code",
   "execution_count": 157,
   "metadata": {
    "colab": {
     "base_uri": "https://localhost:8080/",
     "height": 34
    },
    "colab_type": "code",
    "id": "3xMGZ1sDTAeM",
    "outputId": "a9843cce-cd76-418a-c684-b107473a444d"
   },
   "outputs": [
    {
     "data": {
      "text/plain": [
       "0.3785769867605808"
      ]
     },
     "execution_count": 157,
     "metadata": {},
     "output_type": "execute_result"
    }
   ],
   "source": [
    "arr2[1][2]"
   ]
  },
  {
   "cell_type": "markdown",
   "metadata": {
    "colab_type": "text",
    "id": "VQaN7ewwTAeP"
   },
   "source": [
    "Podemos acceder de esta forma también:"
   ]
  },
  {
   "cell_type": "code",
   "execution_count": 158,
   "metadata": {
    "colab": {
     "base_uri": "https://localhost:8080/",
     "height": 34
    },
    "colab_type": "code",
    "id": "c1SCFcLjTAeQ",
    "outputId": "129a02bb-6d40-4d96-dfb5-7bba6389b76a"
   },
   "outputs": [
    {
     "data": {
      "text/plain": [
       "0.3785769867605808"
      ]
     },
     "execution_count": 158,
     "metadata": {},
     "output_type": "execute_result"
    }
   ],
   "source": [
    "arr2[1, 2]"
   ]
  },
  {
   "cell_type": "markdown",
   "metadata": {
    "colab_type": "text",
    "id": "uCVtxIgqTAeS"
   },
   "source": [
    "Los arreglos son mutables:"
   ]
  },
  {
   "cell_type": "code",
   "execution_count": 159,
   "metadata": {
    "colab": {
     "base_uri": "https://localhost:8080/",
     "height": 51
    },
    "colab_type": "code",
    "id": "Zvf_RQTiTAeS",
    "outputId": "7b0fea3c-b1e6-4cf2-819d-1f825b61d008"
   },
   "outputs": [
    {
     "data": {
      "text/plain": [
       "array([[-4.16149337e-01, -1.43052473e-01,  6.90284454e-01],\n",
       "       [-1.81835297e+00,  3.00000000e+02,  3.78576987e-01]])"
      ]
     },
     "execution_count": 159,
     "metadata": {},
     "output_type": "execute_result"
    }
   ],
   "source": [
    "arr2[1,1] = 300\n",
    "arr2"
   ]
  },
  {
   "cell_type": "markdown",
   "metadata": {
    "colab_type": "text",
    "id": "6-m_s5oWTAeV"
   },
   "source": [
    "### Aange\n",
    "\n",
    "También tenemos un equivalente a `range` llamado `arange`, que genera un numpy array."
   ]
  },
  {
   "cell_type": "code",
   "execution_count": 160,
   "metadata": {
    "colab": {
     "base_uri": "https://localhost:8080/",
     "height": 34
    },
    "colab_type": "code",
    "id": "pA4E0OJlTAeW",
    "outputId": "0a0e1b3f-da9c-4aaa-fc0d-cdc9056c981f"
   },
   "outputs": [
    {
     "data": {
      "text/plain": [
       "array([ 0,  1,  2,  3,  4,  5,  6,  7,  8,  9, 10])"
      ]
     },
     "execution_count": 160,
     "metadata": {},
     "output_type": "execute_result"
    }
   ],
   "source": [
    "np.arange(11)"
   ]
  },
  {
   "cell_type": "markdown",
   "metadata": {
    "colab_type": "text",
    "id": "gJK7aQl6TAeZ"
   },
   "source": [
    "### Operaciones sobre arreglos\n",
    "\n",
    "Algunas operaciones que se pueden hacer sobre un arreglo son las siguientes. "
   ]
  },
  {
   "cell_type": "code",
   "execution_count": 161,
   "metadata": {
    "colab": {
     "base_uri": "https://localhost:8080/",
     "height": 51
    },
    "colab_type": "code",
    "id": "iCLp-_QlTAea",
    "outputId": "94d14203-9569-4aa2-f310-30ed89c77ce4"
   },
   "outputs": [
    {
     "data": {
      "text/plain": [
       "array([[1, 2, 3, 4],\n",
       "       [5, 6, 7, 8]])"
      ]
     },
     "execution_count": 161,
     "metadata": {},
     "output_type": "execute_result"
    }
   ],
   "source": [
    "arr = np.array([[1, 2, 3, 4], [5, 6, 7, 8]])\n",
    "arr"
   ]
  },
  {
   "cell_type": "code",
   "execution_count": 162,
   "metadata": {
    "colab": {
     "base_uri": "https://localhost:8080/",
     "height": 51
    },
    "colab_type": "code",
    "id": "MklHqF1ETAec",
    "outputId": "a73bfe90-07ba-480f-b09a-d3dad6b73f83"
   },
   "outputs": [
    {
     "data": {
      "text/plain": [
       "array([[       1,        4,       27,      256],\n",
       "       [    3125,    46656,   823543, 16777216]])"
      ]
     },
     "execution_count": 162,
     "metadata": {},
     "output_type": "execute_result"
    }
   ],
   "source": [
    "# Elevar al cuadrado (Equivalente a np.power(arr, arr))\n",
    "arr ** arr"
   ]
  },
  {
   "cell_type": "code",
   "execution_count": 163,
   "metadata": {
    "colab": {
     "base_uri": "https://localhost:8080/",
     "height": 51
    },
    "colab_type": "code",
    "id": "SlV1wLD0TAef",
    "outputId": "94b45793-99a1-41e8-e5b1-fc053a5ee7c4"
   },
   "outputs": [
    {
     "data": {
      "text/plain": [
       "array([[2, 3, 4, 5],\n",
       "       [6, 7, 8, 9]])"
      ]
     },
     "execution_count": 163,
     "metadata": {},
     "output_type": "execute_result"
    }
   ],
   "source": [
    "# Sumar un escalar a cada elemento\n",
    "arr + 1"
   ]
  },
  {
   "cell_type": "code",
   "execution_count": 164,
   "metadata": {
    "colab": {
     "base_uri": "https://localhost:8080/",
     "height": 51
    },
    "colab_type": "code",
    "id": "6UDZN9x-TAei",
    "outputId": "ca108786-874a-4082-cecd-e90d6dc3a8bf"
   },
   "outputs": [
    {
     "data": {
      "text/plain": [
       "array([[4, 4, 4, 4],\n",
       "       [4, 4, 4, 4]])"
      ]
     },
     "execution_count": 164,
     "metadata": {},
     "output_type": "execute_result"
    }
   ],
   "source": [
    "# Sumar un escalar a cada elemento y restarse a si mismo\n",
    "(arr + 4) - arr"
   ]
  },
  {
   "cell_type": "code",
   "execution_count": 165,
   "metadata": {
    "colab": {
     "base_uri": "https://localhost:8080/",
     "height": 51
    },
    "colab_type": "code",
    "id": "52Ncv83UTAem",
    "outputId": "5583fcc8-727a-4500-abaa-3f477c1498c1"
   },
   "outputs": [
    {
     "data": {
      "text/plain": [
       "array([[1.        , 0.5       , 0.33333333, 0.25      ],\n",
       "       [0.2       , 0.16666667, 0.14285714, 0.125     ]])"
      ]
     },
     "execution_count": 165,
     "metadata": {},
     "output_type": "execute_result"
    }
   ],
   "source": [
    "1 / arr"
   ]
  },
  {
   "cell_type": "code",
   "execution_count": 166,
   "metadata": {
    "colab": {
     "base_uri": "https://localhost:8080/",
     "height": 51
    },
    "colab_type": "code",
    "id": "bt8f_mWYTAeo",
    "outputId": "4ec211f2-7d85-4f82-97fc-8ccb8adb6ab1",
    "scrolled": false
   },
   "outputs": [
    {
     "data": {
      "text/plain": [
       "array([[1.        , 1.41421356, 1.73205081, 2.        ],\n",
       "       [2.23606798, 2.44948974, 2.64575131, 2.82842712]])"
      ]
     },
     "execution_count": 166,
     "metadata": {},
     "output_type": "execute_result"
    }
   ],
   "source": [
    "#Aplicar Raiz\n",
    "arr ** 0.5"
   ]
  },
  {
   "cell_type": "markdown",
   "metadata": {
    "colab_type": "text",
    "id": "E0ITIBBNTAes"
   },
   "source": [
    "### _Slices_\n",
    "\n",
    "Podemos extraer partes de un arreglo tal como en las listas. También podemos usar esto para cambiar los valores de dichos elementos."
   ]
  },
  {
   "cell_type": "code",
   "execution_count": 167,
   "metadata": {
    "colab": {
     "base_uri": "https://localhost:8080/",
     "height": 34
    },
    "colab_type": "code",
    "id": "0mjAwElcTAes",
    "outputId": "ef2889bc-d30c-4e10-ecac-71d3bcd127c5"
   },
   "outputs": [
    {
     "data": {
      "text/plain": [
       "array([ 1,  2,  3,  4,  5,  6,  7,  8,  9, 10, 11])"
      ]
     },
     "execution_count": 167,
     "metadata": {},
     "output_type": "execute_result"
    }
   ],
   "source": [
    "arr = np.arange(1,12)\n",
    "arr"
   ]
  },
  {
   "cell_type": "code",
   "execution_count": 168,
   "metadata": {
    "colab": {
     "base_uri": "https://localhost:8080/",
     "height": 34
    },
    "colab_type": "code",
    "id": "3efBeDtlTAev",
    "outputId": "b400b9e5-42a2-4bd4-b192-4c08cfd2ee7c"
   },
   "outputs": [
    {
     "data": {
      "text/plain": [
       "array([4, 5, 6])"
      ]
     },
     "execution_count": 168,
     "metadata": {},
     "output_type": "execute_result"
    }
   ],
   "source": [
    "arr[3:6]"
   ]
  },
  {
   "cell_type": "code",
   "execution_count": 169,
   "metadata": {
    "colab": {
     "base_uri": "https://localhost:8080/",
     "height": 34
    },
    "colab_type": "code",
    "id": "oVmVBE4gTAey",
    "outputId": "e795e263-f06c-4d36-d3ed-195445cea154"
   },
   "outputs": [
    {
     "data": {
      "text/plain": [
       "array([ 1,  2,  3,  0,  0,  0,  7,  8,  9, 10, 11])"
      ]
     },
     "execution_count": 169,
     "metadata": {},
     "output_type": "execute_result"
    }
   ],
   "source": [
    "arr[3:6] = 0\n",
    "arr"
   ]
  },
  {
   "cell_type": "markdown",
   "metadata": {
    "colab_type": "text",
    "id": "t2kZTiYoTAe1"
   },
   "source": [
    "### Indexando con booleanos\n",
    "\n",
    "Podemos utilizar comparaciones booleanas con los arreglos:"
   ]
  },
  {
   "cell_type": "code",
   "execution_count": 170,
   "metadata": {
    "colab": {
     "base_uri": "https://localhost:8080/",
     "height": 34
    },
    "colab_type": "code",
    "id": "RAlRqgnnTAe2",
    "outputId": "fa371e51-1620-4310-af00-89294094b90b"
   },
   "outputs": [
    {
     "data": {
      "text/plain": [
       "array([0, 0, 1, 1, 2, 2])"
      ]
     },
     "execution_count": 170,
     "metadata": {},
     "output_type": "execute_result"
    }
   ],
   "source": [
    "arr1 = np.array([0, 0, 1, 1, 2, 2])\n",
    "arr1"
   ]
  },
  {
   "cell_type": "code",
   "execution_count": 171,
   "metadata": {},
   "outputs": [
    {
     "data": {
      "text/plain": [
       "array([False, False,  True,  True, False, False])"
      ]
     },
     "execution_count": 171,
     "metadata": {},
     "output_type": "execute_result"
    }
   ],
   "source": [
    "arr1 == 1"
   ]
  },
  {
   "cell_type": "markdown",
   "metadata": {
    "colab_type": "text",
    "id": "Pw1_n4yjTAe4"
   },
   "source": [
    "Y usarlo para acceder a valores en otros arreglos. Vamos a crear un arreglo multidimensional e ingresar el arreglo anterior como índice:"
   ]
  },
  {
   "cell_type": "code",
   "execution_count": 172,
   "metadata": {
    "colab": {
     "base_uri": "https://localhost:8080/",
     "height": 119
    },
    "colab_type": "code",
    "id": "qlwoMPTqTAe5",
    "outputId": "6336cd2b-2d1c-460b-dbaf-6597a5350638"
   },
   "outputs": [
    {
     "data": {
      "text/plain": [
       "array([[-0.31654277,  0.95369299, -0.82951262,  0.8403211 ],\n",
       "       [ 0.6056693 ,  0.40465603,  1.71384262,  0.00247962],\n",
       "       [-0.65505588,  1.15305133,  0.41900582, -0.54408355],\n",
       "       [-0.69616825, -0.15210318,  0.92101311, -1.33784692],\n",
       "       [ 0.15496029, -0.36557641, -0.13706702,  0.63454473],\n",
       "       [-0.21267253,  0.56849057,  0.34666048,  0.82438057]])"
      ]
     },
     "execution_count": 172,
     "metadata": {},
     "output_type": "execute_result"
    }
   ],
   "source": [
    "arr2 = np.random.randn(6, 4)\n",
    "arr2"
   ]
  },
  {
   "cell_type": "code",
   "execution_count": 173,
   "metadata": {
    "colab": {
     "base_uri": "https://localhost:8080/",
     "height": 51
    },
    "colab_type": "code",
    "id": "yLOHfJOmTAe8",
    "outputId": "502f48e7-deb4-47e8-ae14-5efa704f33ea"
   },
   "outputs": [
    {
     "data": {
      "text/plain": [
       "array([[-0.65505588,  1.15305133,  0.41900582, -0.54408355],\n",
       "       [-0.69616825, -0.15210318,  0.92101311, -1.33784692]])"
      ]
     },
     "execution_count": 173,
     "metadata": {},
     "output_type": "execute_result"
    }
   ],
   "source": [
    "#Con esto dejamos solo las filas que se evaluan como true arr1 == 1\n",
    "arr2[arr1 == 1]"
   ]
  },
  {
   "cell_type": "markdown",
   "metadata": {
    "colab_type": "text",
    "id": "5Gdgh5mnTAe_"
   },
   "source": [
    "Y también podemos negar la condición:"
   ]
  },
  {
   "cell_type": "code",
   "execution_count": 33,
   "metadata": {
    "colab": {},
    "colab_type": "code",
    "id": "ukzM6QE9TAfA",
    "outputId": "f34b573b-1539-4f9e-bfa0-ba6e5ded1637"
   },
   "outputs": [
    {
     "data": {
      "text/plain": [
       "array([[ 0.3574777 ,  0.03562595, -0.1536299 , -0.11887122],\n",
       "       [-0.43079572,  0.83498375,  0.26821071, -0.11809856],\n",
       "       [-0.73733585, -0.82176962,  1.43030345,  0.85009682],\n",
       "       [ 0.32379067, -0.79327236,  0.4146549 ,  1.99369319]])"
      ]
     },
     "execution_count": 33,
     "metadata": {},
     "output_type": "execute_result"
    }
   ],
   "source": [
    "arr2[~(arr1 == 1)]"
   ]
  },
  {
   "cell_type": "markdown",
   "metadata": {
    "colab_type": "text",
    "id": "9zpHui61TAfW"
   },
   "source": [
    "### Otras funciones estadisticas básicas\n",
    "\n",
    "Tenemos acceso a algunas funciones de estadística básicas. Por ejemplo `sum`, `mean` y `std` nos permiten respectivamente sacar la suma, el promedio y la desviación estándar de un arreglo."
   ]
  },
  {
   "cell_type": "code",
   "execution_count": 174,
   "metadata": {
    "colab": {
     "base_uri": "https://localhost:8080/",
     "height": 51
    },
    "colab_type": "code",
    "id": "VNZ8JnmZTAfX",
    "outputId": "092236a3-2821-4e46-a3f7-990ccd8adad8"
   },
   "outputs": [
    {
     "data": {
      "text/plain": [
       "array([ 0.50868591,  0.88570712, -0.67273371, ..., -0.87475848,\n",
       "       -0.7721397 , -0.53749669])"
      ]
     },
     "execution_count": 174,
     "metadata": {},
     "output_type": "execute_result"
    }
   ],
   "source": [
    "arr = np.random.randn(10000)\n",
    "arr"
   ]
  },
  {
   "cell_type": "code",
   "execution_count": 175,
   "metadata": {
    "colab": {
     "base_uri": "https://localhost:8080/",
     "height": 34
    },
    "colab_type": "code",
    "id": "rc4xyn6jTAfb",
    "outputId": "c86bde78-7d63-435a-fb22-db8ffaa36405"
   },
   "outputs": [
    {
     "data": {
      "text/plain": [
       "-98.58894404850608"
      ]
     },
     "execution_count": 175,
     "metadata": {},
     "output_type": "execute_result"
    }
   ],
   "source": [
    "arr.sum()"
   ]
  },
  {
   "cell_type": "code",
   "execution_count": 176,
   "metadata": {
    "colab": {
     "base_uri": "https://localhost:8080/",
     "height": 34
    },
    "colab_type": "code",
    "id": "qCDQ-OGJTAfh",
    "outputId": "6a3ee7b0-4b2b-402c-a0b4-dfb77b9fd6c6"
   },
   "outputs": [
    {
     "data": {
      "text/plain": [
       "-0.009858894404850608"
      ]
     },
     "execution_count": 176,
     "metadata": {},
     "output_type": "execute_result"
    }
   ],
   "source": [
    "arr.mean()"
   ]
  },
  {
   "cell_type": "code",
   "execution_count": 177,
   "metadata": {
    "colab": {
     "base_uri": "https://localhost:8080/",
     "height": 34
    },
    "colab_type": "code",
    "id": "35JatLMXTAf2",
    "outputId": "de703b15-7616-47b1-ada5-1026573d38dc"
   },
   "outputs": [
    {
     "data": {
      "text/plain": [
       "0.9961543225784399"
      ]
     },
     "execution_count": 177,
     "metadata": {},
     "output_type": "execute_result"
    }
   ],
   "source": [
    "arr.std()"
   ]
  },
  {
   "cell_type": "markdown",
   "metadata": {
    "colab_type": "text",
    "id": "8wdzUloxTAf5"
   },
   "source": [
    "También podemos ordenar:"
   ]
  },
  {
   "cell_type": "code",
   "execution_count": 178,
   "metadata": {
    "colab": {
     "base_uri": "https://localhost:8080/",
     "height": 51
    },
    "colab_type": "code",
    "id": "xB4Fft_pTAf6",
    "outputId": "3c9130cd-939d-4aef-9096-9ef7564726ef"
   },
   "outputs": [
    {
     "data": {
      "text/plain": [
       "array([-3.38542329, -3.37566848, -3.35624164, ...,  3.41551893,\n",
       "        3.45694959,  3.55861048])"
      ]
     },
     "execution_count": 178,
     "metadata": {},
     "output_type": "execute_result"
    }
   ],
   "source": [
    "arr.sort()\n",
    "arr"
   ]
  },
  {
   "cell_type": "markdown",
   "metadata": {
    "colab_type": "text",
    "id": "Dl0Uv92aTAgA"
   },
   "source": [
    "Y pedir elementos distintos: (set)"
   ]
  },
  {
   "cell_type": "code",
   "execution_count": 179,
   "metadata": {
    "colab": {
     "base_uri": "https://localhost:8080/",
     "height": 34
    },
    "colab_type": "code",
    "id": "GirJjx5HTAgB",
    "outputId": "4d260e50-b13b-4be1-ad1f-019b983cd9c6"
   },
   "outputs": [
    {
     "data": {
      "text/plain": [
       "array([0, 1, 2])"
      ]
     },
     "execution_count": 179,
     "metadata": {},
     "output_type": "execute_result"
    }
   ],
   "source": [
    "arr = np.array([0, 0, 1, 1, 2, 2])\n",
    "np.unique(arr)"
   ]
  },
  {
   "cell_type": "markdown",
   "metadata": {
    "colab_type": "text",
    "id": "DhjM3U-WTAgM"
   },
   "source": [
    "# Pandas\n",
    "\n",
    "Partimos importando la librería:"
   ]
  },
  {
   "cell_type": "code",
   "execution_count": 181,
   "metadata": {
    "colab": {},
    "colab_type": "code",
    "id": "96YglZbGTAgN"
   },
   "outputs": [],
   "source": [
    "import pandas as pd"
   ]
  },
  {
   "cell_type": "markdown",
   "metadata": {
    "colab_type": "text",
    "id": "6Be3XhJ6TAga"
   },
   "source": [
    "**Resumen de funciones de pandas:** https://www.dataquest.io/blog/pandas-cheat-sheet/"
   ]
  },
  {
   "cell_type": "markdown",
   "metadata": {
    "colab_type": "text",
    "id": "sDa_RvZiTAga"
   },
   "source": [
    "## Series\n",
    "\n",
    "Vamos a partir instanciando objetos de tipo `Series`. Estos objetos representan **arreglos unidimensionales**. Son como una lista de Python, pero con muchos mas métodos."
   ]
  },
  {
   "cell_type": "markdown",
   "metadata": {},
   "source": [
    "Para ilustrar, pensemos que tenemos un objeto `Series` con las notas de un curso:"
   ]
  },
  {
   "cell_type": "code",
   "execution_count": 182,
   "metadata": {
    "colab": {
     "base_uri": "https://localhost:8080/",
     "height": 170
    },
    "colab_type": "code",
    "id": "gUfA_ZXPTAga",
    "outputId": "4ea89346-73ea-4fb4-e40b-21fc579b2ccc"
   },
   "outputs": [
    {
     "data": {
      "text/plain": [
       "0    5.4\n",
       "1    1.1\n",
       "2    7.0\n",
       "3    3.9\n",
       "4    4.4\n",
       "5    3.5\n",
       "6    6.4\n",
       "7    6.2\n",
       "dtype: float64"
      ]
     },
     "execution_count": 182,
     "metadata": {},
     "output_type": "execute_result"
    }
   ],
   "source": [
    "grades = pd.Series([5.4, 1.1, 7.0, 3.9, 4.4, 3.5, 6.4, 6.2])\n",
    "grades"
   ]
  },
  {
   "cell_type": "code",
   "execution_count": 183,
   "metadata": {
    "colab": {
     "base_uri": "https://localhost:8080/",
     "height": 170
    },
    "colab_type": "code",
    "id": "7p_pYxx6TAgg",
    "outputId": "628c70ec-df9d-49af-a6e4-2e32dfe08df4"
   },
   "outputs": [
    {
     "data": {
      "text/plain": [
       "count    8.000000\n",
       "mean     4.737500\n",
       "std      1.928684\n",
       "min      1.100000\n",
       "25%      3.800000\n",
       "50%      4.900000\n",
       "75%      6.250000\n",
       "max      7.000000\n",
       "dtype: float64"
      ]
     },
     "execution_count": 183,
     "metadata": {},
     "output_type": "execute_result"
    }
   ],
   "source": [
    "grades.describe()"
   ]
  },
  {
   "cell_type": "markdown",
   "metadata": {
    "colab_type": "text",
    "id": "hM3uV0cSTAgi"
   },
   "source": [
    "Para un objeto de tipo `Series` podemos agregar un label a sus índices."
   ]
  },
  {
   "cell_type": "code",
   "execution_count": 184,
   "metadata": {
    "colab": {
     "base_uri": "https://localhost:8080/",
     "height": 170
    },
    "colab_type": "code",
    "id": "Ns16wIq7TAgi",
    "outputId": "81ecb45e-5c81-4adc-9d10-aaf446a83269"
   },
   "outputs": [
    {
     "data": {
      "text/plain": [
       "Alice      5.4\n",
       "Bob        1.1\n",
       "Charles    7.0\n",
       "Dino       3.9\n",
       "James      4.4\n",
       "Lily       3.5\n",
       "Ella       6.4\n",
       "Evelyn     6.2\n",
       "dtype: float64"
      ]
     },
     "execution_count": 184,
     "metadata": {},
     "output_type": "execute_result"
    }
   ],
   "source": [
    "grades.index = ['Alice', 'Bob', 'Charles', 'Dino', 'James', 'Lily', 'Ella', 'Evelyn']\n",
    "grades"
   ]
  },
  {
   "cell_type": "code",
   "execution_count": 185,
   "metadata": {
    "colab": {
     "base_uri": "https://localhost:8080/",
     "height": 34
    },
    "colab_type": "code",
    "id": "JuBU1CvyTAg9",
    "outputId": "3c0bc8a1-622d-4a4e-ae2b-231c541197df"
   },
   "outputs": [
    {
     "data": {
      "text/plain": [
       "3.9"
      ]
     },
     "execution_count": 185,
     "metadata": {},
     "output_type": "execute_result"
    }
   ],
   "source": [
    "grades['Dino']"
   ]
  },
  {
   "cell_type": "markdown",
   "metadata": {
    "colab_type": "text",
    "id": "V2C8PtUqTAhB"
   },
   "source": [
    "(**F** por Dino)"
   ]
  },
  {
   "cell_type": "markdown",
   "metadata": {
    "colab_type": "text",
    "id": "piWnTBIaTAhB"
   },
   "source": [
    "Podemos seleccionar varios elementos según el label de su índice."
   ]
  },
  {
   "cell_type": "code",
   "execution_count": 186,
   "metadata": {
    "colab": {
     "base_uri": "https://localhost:8080/",
     "height": 68
    },
    "colab_type": "code",
    "id": "yQa-CCJ6TAhC",
    "outputId": "0ae48871-1ab5-4565-b104-8d4e02e753e1"
   },
   "outputs": [
    {
     "data": {
      "text/plain": [
       "Bob      1.1\n",
       "James    4.4\n",
       "dtype: float64"
      ]
     },
     "execution_count": 186,
     "metadata": {},
     "output_type": "execute_result"
    }
   ],
   "source": [
    "grades[['Bob', 'James']]"
   ]
  },
  {
   "cell_type": "code",
   "execution_count": 187,
   "metadata": {
    "colab": {
     "base_uri": "https://localhost:8080/",
     "height": 170
    },
    "colab_type": "code",
    "id": "p599I3gfTAhG",
    "outputId": "a5965af9-84f5-4390-e556-b4cb85d11b5b"
   },
   "outputs": [
    {
     "data": {
      "text/plain": [
       "Alice       True\n",
       "Bob        False\n",
       "Charles     True\n",
       "Dino       False\n",
       "James       True\n",
       "Lily       False\n",
       "Ella        True\n",
       "Evelyn      True\n",
       "dtype: bool"
      ]
     },
     "execution_count": 187,
     "metadata": {},
     "output_type": "execute_result"
    }
   ],
   "source": [
    "grades >=4"
   ]
  },
  {
   "cell_type": "markdown",
   "metadata": {
    "colab_type": "text",
    "id": "r1eM90ldTAin"
   },
   "source": [
    "Podemos hacer filtros pasando un arreglo de _booleanos_:"
   ]
  },
  {
   "cell_type": "code",
   "execution_count": 188,
   "metadata": {
    "colab": {
     "base_uri": "https://localhost:8080/",
     "height": 119
    },
    "colab_type": "code",
    "id": "33YsRKQgTAjA",
    "outputId": "b6e5b1f8-69c0-4740-8c28-65d65746591f"
   },
   "outputs": [
    {
     "data": {
      "text/plain": [
       "Alice      5.4\n",
       "Charles    7.0\n",
       "James      4.4\n",
       "Ella       6.4\n",
       "Evelyn     6.2\n",
       "dtype: float64"
      ]
     },
     "execution_count": 188,
     "metadata": {},
     "output_type": "execute_result"
    }
   ],
   "source": [
    "grades[grades >= 4]"
   ]
  },
  {
   "cell_type": "markdown",
   "metadata": {
    "colab_type": "text",
    "id": "V2PyCGFrTAjJ"
   },
   "source": [
    "Una método rápido para ver la distribución de un objeto `Series` es `hist`, lo que entrega su histograma. Para visualizaciones mas avanzadas veremos **matplotlib** mas adelante."
   ]
  },
  {
   "cell_type": "code",
   "execution_count": 189,
   "metadata": {
    "colab": {
     "base_uri": "https://localhost:8080/",
     "height": 282
    },
    "colab_type": "code",
    "id": "TPOGsABVTAjK",
    "outputId": "af33a617-7fa2-4fcf-8a38-dac002b66926"
   },
   "outputs": [
    {
     "data": {
      "text/plain": [
       "<AxesSubplot:>"
      ]
     },
     "execution_count": 189,
     "metadata": {},
     "output_type": "execute_result"
    },
    {
     "data": {
      "image/png": "[encoded data removed]",
      "text/plain": [
       "<Figure size 1000x500 with 1 Axes>"
      ]
     },
     "metadata": {},
     "output_type": "display_data"
    }
   ],
   "source": [
    "grades.hist(bins=6)"
   ]
  },
  {
   "cell_type": "markdown",
   "metadata": {
    "colab_type": "text",
    "id": "-h72Omt4TAjR"
   },
   "source": [
    "Finalmente, podemos crear un objeto `Series` a partir de un diccionario. Supongamos el siguiente diccionario de personas junto a su edad."
   ]
  },
  {
   "cell_type": "code",
   "execution_count": 190,
   "metadata": {
    "colab": {
     "base_uri": "https://localhost:8080/",
     "height": 102
    },
    "colab_type": "code",
    "id": "s2uk5wJhTAjR",
    "outputId": "b76495f3-4a41-4164-ac25-899212460297"
   },
   "outputs": [
    {
     "data": {
      "text/plain": [
       "Alice      20\n",
       "Bob        17\n",
       "Charles    23\n",
       "Dino       50\n",
       "dtype: int64"
      ]
     },
     "execution_count": 190,
     "metadata": {},
     "output_type": "execute_result"
    }
   ],
   "source": [
    "people = {'Alice': 20, 'Bob': 17, 'Charles': 23, 'Dino': 50}\n",
    "people_series = pd.Series(people)\n",
    "people_series"
   ]
  },
  {
   "cell_type": "markdown",
   "metadata": {
    "colab_type": "text",
    "id": "LR2PbnZ-TAjm"
   },
   "source": [
    "### Aplicando una función a todos los datos"
   ]
  },
  {
   "cell_type": "markdown",
   "metadata": {
    "colab_type": "text",
    "id": "gbZ3eLEhTAjn"
   },
   "source": [
    "Si quisieramos aplicar una función de python a todos los datos:"
   ]
  },
  {
   "cell_type": "code",
   "execution_count": 191,
   "metadata": {
    "colab": {},
    "colab_type": "code",
    "id": "vBcUksDhTAjp"
   },
   "outputs": [],
   "source": [
    "def todos_pasan(nota):\n",
    "    return max(nota, 4)"
   ]
  },
  {
   "cell_type": "code",
   "execution_count": 57,
   "metadata": {
    "colab": {
     "base_uri": "https://localhost:8080/",
     "height": 307
    },
    "colab_type": "code",
    "id": "Ef_HzfhVTAkD",
    "outputId": "b020b301-fd4f-49c8-fc6a-f474b7bca875"
   },
   "outputs": [
    {
     "ename": "ValueError",
     "evalue": "The truth value of a Series is ambiguous. Use a.empty, a.bool(), a.item(), a.any() or a.all().",
     "output_type": "error",
     "traceback": [
      "\u001b[0;31m---------------------------------------------------------------------------\u001b[0m",
      "\u001b[0;31mValueError\u001b[0m                                Traceback (most recent call last)",
      "Input \u001b[0;32mIn [57]\u001b[0m, in \u001b[0;36m<cell line: 1>\u001b[0;34m()\u001b[0m\n\u001b[0;32m----> 1\u001b[0m \u001b[43mtodos_pasan\u001b[49m\u001b[43m(\u001b[49m\u001b[43mgrades\u001b[49m\u001b[43m)\u001b[49m\n",
      "Input \u001b[0;32mIn [55]\u001b[0m, in \u001b[0;36mtodos_pasan\u001b[0;34m(nota)\u001b[0m\n\u001b[1;32m      1\u001b[0m \u001b[38;5;28;01mdef\u001b[39;00m \u001b[38;5;21mtodos_pasan\u001b[39m(nota):\n\u001b[0;32m----> 2\u001b[0m     \u001b[38;5;28;01mreturn\u001b[39;00m \u001b[38;5;28;43mmax\u001b[39;49m\u001b[43m(\u001b[49m\u001b[43mnota\u001b[49m\u001b[43m,\u001b[49m\u001b[43m \u001b[49m\u001b[38;5;241;43m4\u001b[39;49m\u001b[43m)\u001b[49m\n",
      "File \u001b[0;32m~/.local/lib/python3.8/site-packages/pandas/core/generic.py:1527\u001b[0m, in \u001b[0;36mNDFrame.__nonzero__\u001b[0;34m(self)\u001b[0m\n\u001b[1;32m   1525\u001b[0m \u001b[38;5;129m@final\u001b[39m\n\u001b[1;32m   1526\u001b[0m \u001b[38;5;28;01mdef\u001b[39;00m \u001b[38;5;21m__nonzero__\u001b[39m(\u001b[38;5;28mself\u001b[39m):\n\u001b[0;32m-> 1527\u001b[0m     \u001b[38;5;28;01mraise\u001b[39;00m \u001b[38;5;167;01mValueError\u001b[39;00m(\n\u001b[1;32m   1528\u001b[0m         \u001b[38;5;124mf\u001b[39m\u001b[38;5;124m\"\u001b[39m\u001b[38;5;124mThe truth value of a \u001b[39m\u001b[38;5;132;01m{\u001b[39;00m\u001b[38;5;28mtype\u001b[39m(\u001b[38;5;28mself\u001b[39m)\u001b[38;5;241m.\u001b[39m\u001b[38;5;18m__name__\u001b[39m\u001b[38;5;132;01m}\u001b[39;00m\u001b[38;5;124m is ambiguous. \u001b[39m\u001b[38;5;124m\"\u001b[39m\n\u001b[1;32m   1529\u001b[0m         \u001b[38;5;124m\"\u001b[39m\u001b[38;5;124mUse a.empty, a.bool(), a.item(), a.any() or a.all().\u001b[39m\u001b[38;5;124m\"\u001b[39m\n\u001b[1;32m   1530\u001b[0m     )\n",
      "\u001b[0;31mValueError\u001b[0m: The truth value of a Series is ambiguous. Use a.empty, a.bool(), a.item(), a.any() or a.all()."
     ]
    }
   ],
   "source": [
    "todos_pasan(grades)"
   ]
  },
  {
   "cell_type": "markdown",
   "metadata": {
    "colab_type": "text",
    "id": "Wfp72px2TAkS"
   },
   "source": [
    "Esto no funciona. En cambio, utilizamos `apply`:"
   ]
  },
  {
   "cell_type": "code",
   "execution_count": 192,
   "metadata": {
    "colab": {
     "base_uri": "https://localhost:8080/",
     "height": 170
    },
    "colab_type": "code",
    "id": "KgeCOMzVTAkS",
    "outputId": "a924fe7d-2df4-41af-dc58-558fb00a9749"
   },
   "outputs": [
    {
     "data": {
      "text/plain": [
       "Alice      5.4\n",
       "Bob        4.0\n",
       "Charles    7.0\n",
       "Dino       4.0\n",
       "James      4.4\n",
       "Lily       4.0\n",
       "Ella       6.4\n",
       "Evelyn     6.2\n",
       "dtype: float64"
      ]
     },
     "execution_count": 192,
     "metadata": {},
     "output_type": "execute_result"
    }
   ],
   "source": [
    "grades.apply(todos_pasan)"
   ]
  },
  {
   "cell_type": "markdown",
   "metadata": {
    "colab_type": "text",
    "id": "fs73UmziTAk6"
   },
   "source": [
    "## DataFrame\n",
    "\n",
    "Un objeto de tipo `DataFrame` representa una tabla. Este trae múltiples métodos para el facil manejo de grandes datasets."
   ]
  },
  {
   "cell_type": "markdown",
   "metadata": {
    "colab_type": "text",
    "id": "Ju1zEQLoTAl0"
   },
   "source": [
    "En `pandas` es posible importar datos en formato `.csv`, `.xlsx` entre otros. En este caso, importaremos `comunas.csv`, un dataset con distintos datos de todas las comunas de Chile. **Es necesario tener alojado este archivo en el mismo directorio donde se encuentra este archivo `.ipynb`.**"
   ]
  },
  {
   "cell_type": "code",
   "execution_count": 193,
   "metadata": {
    "colab": {
     "base_uri": "https://localhost:8080/",
     "height": 392
    },
    "colab_type": "code",
    "id": "zXpoExUiTAl3",
    "outputId": "e8ef8437-e070-4cc3-b9b3-6e178bd28b26",
    "scrolled": true
   },
   "outputs": [
    {
     "data": {
      "text/html": [
       "<div>\n",
       "<style scoped>\n",
       "    .dataframe tbody tr th:only-of-type {\n",
       "        vertical-align: middle;\n",
       "    }\n",
       "\n",
       "    .dataframe tbody tr th {\n",
       "        vertical-align: top;\n",
       "    }\n",
       "\n",
       "    .dataframe thead th {\n",
       "        text-align: right;\n",
       "    }\n",
       "</style>\n",
       "<table border=\"1\" class=\"dataframe\">\n",
       "  <thead>\n",
       "    <tr style=\"text-align: right;\">\n",
       "      <th></th>\n",
       "      <th>Unnamed: 0</th>\n",
       "      <th>cod</th>\n",
       "      <th>nombre</th>\n",
       "      <th>provincia</th>\n",
       "      <th>region</th>\n",
       "      <th>superficie</th>\n",
       "      <th>poblacion</th>\n",
       "      <th>idh</th>\n",
       "    </tr>\n",
       "  </thead>\n",
       "  <tbody>\n",
       "    <tr>\n",
       "      <th>0</th>\n",
       "      <td>0</td>\n",
       "      <td>15101</td>\n",
       "      <td>Arica</td>\n",
       "      <td>Arica</td>\n",
       "      <td>Arica y Parinacota</td>\n",
       "      <td>4799.4</td>\n",
       "      <td>210936</td>\n",
       "      <td>0.384</td>\n",
       "    </tr>\n",
       "    <tr>\n",
       "      <th>1</th>\n",
       "      <td>1</td>\n",
       "      <td>15102</td>\n",
       "      <td>Camarones</td>\n",
       "      <td>Arica</td>\n",
       "      <td>Arica y Parinacota</td>\n",
       "      <td>3927.0</td>\n",
       "      <td>679</td>\n",
       "      <td>0.751</td>\n",
       "    </tr>\n",
       "    <tr>\n",
       "      <th>2</th>\n",
       "      <td>2</td>\n",
       "      <td>15201</td>\n",
       "      <td>Putre</td>\n",
       "      <td>Parinacota</td>\n",
       "      <td>Arica y Parinacota</td>\n",
       "      <td>5902.5</td>\n",
       "      <td>1462</td>\n",
       "      <td>0.707</td>\n",
       "    </tr>\n",
       "    <tr>\n",
       "      <th>3</th>\n",
       "      <td>3</td>\n",
       "      <td>15202</td>\n",
       "      <td>General Lagos</td>\n",
       "      <td>Parinacota</td>\n",
       "      <td>Arica y Parinacota</td>\n",
       "      <td>2244.4</td>\n",
       "      <td>739</td>\n",
       "      <td>0.670</td>\n",
       "    </tr>\n",
       "    <tr>\n",
       "      <th>4</th>\n",
       "      <td>4</td>\n",
       "      <td>1101</td>\n",
       "      <td>Iquique</td>\n",
       "      <td>Iquique</td>\n",
       "      <td>Tarapacá</td>\n",
       "      <td>2242.1</td>\n",
       "      <td>184953</td>\n",
       "      <td>0.766</td>\n",
       "    </tr>\n",
       "    <tr>\n",
       "      <th>...</th>\n",
       "      <td>...</td>\n",
       "      <td>...</td>\n",
       "      <td>...</td>\n",
       "      <td>...</td>\n",
       "      <td>...</td>\n",
       "      <td>...</td>\n",
       "      <td>...</td>\n",
       "      <td>...</td>\n",
       "    </tr>\n",
       "    <tr>\n",
       "      <th>341</th>\n",
       "      <td>341</td>\n",
       "      <td>13601</td>\n",
       "      <td>Talagante</td>\n",
       "      <td>Talagante</td>\n",
       "      <td>Metropolitana de Santiago</td>\n",
       "      <td>126.0</td>\n",
       "      <td>78887</td>\n",
       "      <td>0.749</td>\n",
       "    </tr>\n",
       "    <tr>\n",
       "      <th>342</th>\n",
       "      <td>342</td>\n",
       "      <td>13602</td>\n",
       "      <td>El Monte</td>\n",
       "      <td>Talagante</td>\n",
       "      <td>Metropolitana de Santiago</td>\n",
       "      <td>118.0</td>\n",
       "      <td>32468</td>\n",
       "      <td>0.688</td>\n",
       "    </tr>\n",
       "    <tr>\n",
       "      <th>343</th>\n",
       "      <td>343</td>\n",
       "      <td>13603</td>\n",
       "      <td>Isla de Maipo</td>\n",
       "      <td>Talagante</td>\n",
       "      <td>Metropolitana de Santiago</td>\n",
       "      <td>189.0</td>\n",
       "      <td>33723</td>\n",
       "      <td>0.724</td>\n",
       "    </tr>\n",
       "    <tr>\n",
       "      <th>344</th>\n",
       "      <td>344</td>\n",
       "      <td>13604</td>\n",
       "      <td>Padre Hurtado</td>\n",
       "      <td>Talagante</td>\n",
       "      <td>Metropolitana de Santiago</td>\n",
       "      <td>80.8</td>\n",
       "      <td>50696</td>\n",
       "      <td>0.728</td>\n",
       "    </tr>\n",
       "    <tr>\n",
       "      <th>345</th>\n",
       "      <td>345</td>\n",
       "      <td>13605</td>\n",
       "      <td>Peñaflor</td>\n",
       "      <td>Talagante</td>\n",
       "      <td>Metropolitana de Santiago</td>\n",
       "      <td>69.0</td>\n",
       "      <td>87741</td>\n",
       "      <td>0.753</td>\n",
       "    </tr>\n",
       "  </tbody>\n",
       "</table>\n",
       "<p>346 rows × 8 columns</p>\n",
       "</div>"
      ],
      "text/plain": [
       "     Unnamed: 0    cod         nombre   provincia                     region  \\\n",
       "0             0  15101          Arica       Arica         Arica y Parinacota   \n",
       "1             1  15102      Camarones       Arica         Arica y Parinacota   \n",
       "2             2  15201          Putre  Parinacota         Arica y Parinacota   \n",
       "3             3  15202  General Lagos  Parinacota         Arica y Parinacota   \n",
       "4             4   1101        Iquique     Iquique                   Tarapacá   \n",
       "..          ...    ...            ...         ...                        ...   \n",
       "341         341  13601      Talagante   Talagante  Metropolitana de Santiago   \n",
       "342         342  13602       El Monte   Talagante  Metropolitana de Santiago   \n",
       "343         343  13603  Isla de Maipo   Talagante  Metropolitana de Santiago   \n",
       "344         344  13604  Padre Hurtado   Talagante  Metropolitana de Santiago   \n",
       "345         345  13605       Peñaflor   Talagante  Metropolitana de Santiago   \n",
       "\n",
       "     superficie  poblacion    idh  \n",
       "0        4799.4     210936  0.384  \n",
       "1        3927.0        679  0.751  \n",
       "2        5902.5       1462  0.707  \n",
       "3        2244.4        739  0.670  \n",
       "4        2242.1     184953  0.766  \n",
       "..          ...        ...    ...  \n",
       "341       126.0      78887  0.749  \n",
       "342       118.0      32468  0.688  \n",
       "343       189.0      33723  0.724  \n",
       "344        80.8      50696  0.728  \n",
       "345        69.0      87741  0.753  \n",
       "\n",
       "[346 rows x 8 columns]"
      ]
     },
     "execution_count": 193,
     "metadata": {},
     "output_type": "execute_result"
    }
   ],
   "source": [
    "df = pd.read_csv(\"comunas.csv\")\n",
    "df"
   ]
  },
  {
   "cell_type": "markdown",
   "metadata": {},
   "source": [
    "Primero que todo, vamos a **limpiar** un poco los datos. Vamos a eliminar las columnas `Unnamed: 0` y `cod`. Lo hacemos con `drop`:"
   ]
  },
  {
   "cell_type": "code",
   "execution_count": 194,
   "metadata": {
    "scrolled": true
   },
   "outputs": [
    {
     "data": {
      "text/html": [
       "<div>\n",
       "<style scoped>\n",
       "    .dataframe tbody tr th:only-of-type {\n",
       "        vertical-align: middle;\n",
       "    }\n",
       "\n",
       "    .dataframe tbody tr th {\n",
       "        vertical-align: top;\n",
       "    }\n",
       "\n",
       "    .dataframe thead th {\n",
       "        text-align: right;\n",
       "    }\n",
       "</style>\n",
       "<table border=\"1\" class=\"dataframe\">\n",
       "  <thead>\n",
       "    <tr style=\"text-align: right;\">\n",
       "      <th></th>\n",
       "      <th>nombre</th>\n",
       "      <th>provincia</th>\n",
       "      <th>region</th>\n",
       "      <th>superficie</th>\n",
       "      <th>poblacion</th>\n",
       "      <th>idh</th>\n",
       "    </tr>\n",
       "  </thead>\n",
       "  <tbody>\n",
       "    <tr>\n",
       "      <th>0</th>\n",
       "      <td>Arica</td>\n",
       "      <td>Arica</td>\n",
       "      <td>Arica y Parinacota</td>\n",
       "      <td>4799.4</td>\n",
       "      <td>210936</td>\n",
       "      <td>0.384</td>\n",
       "    </tr>\n",
       "    <tr>\n",
       "      <th>1</th>\n",
       "      <td>Camarones</td>\n",
       "      <td>Arica</td>\n",
       "      <td>Arica y Parinacota</td>\n",
       "      <td>3927.0</td>\n",
       "      <td>679</td>\n",
       "      <td>0.751</td>\n",
       "    </tr>\n",
       "    <tr>\n",
       "      <th>2</th>\n",
       "      <td>Putre</td>\n",
       "      <td>Parinacota</td>\n",
       "      <td>Arica y Parinacota</td>\n",
       "      <td>5902.5</td>\n",
       "      <td>1462</td>\n",
       "      <td>0.707</td>\n",
       "    </tr>\n",
       "    <tr>\n",
       "      <th>3</th>\n",
       "      <td>General Lagos</td>\n",
       "      <td>Parinacota</td>\n",
       "      <td>Arica y Parinacota</td>\n",
       "      <td>2244.4</td>\n",
       "      <td>739</td>\n",
       "      <td>0.670</td>\n",
       "    </tr>\n",
       "    <tr>\n",
       "      <th>4</th>\n",
       "      <td>Iquique</td>\n",
       "      <td>Iquique</td>\n",
       "      <td>Tarapacá</td>\n",
       "      <td>2242.1</td>\n",
       "      <td>184953</td>\n",
       "      <td>0.766</td>\n",
       "    </tr>\n",
       "    <tr>\n",
       "      <th>...</th>\n",
       "      <td>...</td>\n",
       "      <td>...</td>\n",
       "      <td>...</td>\n",
       "      <td>...</td>\n",
       "      <td>...</td>\n",
       "      <td>...</td>\n",
       "    </tr>\n",
       "    <tr>\n",
       "      <th>341</th>\n",
       "      <td>Talagante</td>\n",
       "      <td>Talagante</td>\n",
       "      <td>Metropolitana de Santiago</td>\n",
       "      <td>126.0</td>\n",
       "      <td>78887</td>\n",
       "      <td>0.749</td>\n",
       "    </tr>\n",
       "    <tr>\n",
       "      <th>342</th>\n",
       "      <td>El Monte</td>\n",
       "      <td>Talagante</td>\n",
       "      <td>Metropolitana de Santiago</td>\n",
       "      <td>118.0</td>\n",
       "      <td>32468</td>\n",
       "      <td>0.688</td>\n",
       "    </tr>\n",
       "    <tr>\n",
       "      <th>343</th>\n",
       "      <td>Isla de Maipo</td>\n",
       "      <td>Talagante</td>\n",
       "      <td>Metropolitana de Santiago</td>\n",
       "      <td>189.0</td>\n",
       "      <td>33723</td>\n",
       "      <td>0.724</td>\n",
       "    </tr>\n",
       "    <tr>\n",
       "      <th>344</th>\n",
       "      <td>Padre Hurtado</td>\n",
       "      <td>Talagante</td>\n",
       "      <td>Metropolitana de Santiago</td>\n",
       "      <td>80.8</td>\n",
       "      <td>50696</td>\n",
       "      <td>0.728</td>\n",
       "    </tr>\n",
       "    <tr>\n",
       "      <th>345</th>\n",
       "      <td>Peñaflor</td>\n",
       "      <td>Talagante</td>\n",
       "      <td>Metropolitana de Santiago</td>\n",
       "      <td>69.0</td>\n",
       "      <td>87741</td>\n",
       "      <td>0.753</td>\n",
       "    </tr>\n",
       "  </tbody>\n",
       "</table>\n",
       "<p>346 rows × 6 columns</p>\n",
       "</div>"
      ],
      "text/plain": [
       "            nombre   provincia                     region  superficie  \\\n",
       "0            Arica       Arica         Arica y Parinacota      4799.4   \n",
       "1        Camarones       Arica         Arica y Parinacota      3927.0   \n",
       "2            Putre  Parinacota         Arica y Parinacota      5902.5   \n",
       "3    General Lagos  Parinacota         Arica y Parinacota      2244.4   \n",
       "4          Iquique     Iquique                   Tarapacá      2242.1   \n",
       "..             ...         ...                        ...         ...   \n",
       "341      Talagante   Talagante  Metropolitana de Santiago       126.0   \n",
       "342       El Monte   Talagante  Metropolitana de Santiago       118.0   \n",
       "343  Isla de Maipo   Talagante  Metropolitana de Santiago       189.0   \n",
       "344  Padre Hurtado   Talagante  Metropolitana de Santiago        80.8   \n",
       "345       Peñaflor   Talagante  Metropolitana de Santiago        69.0   \n",
       "\n",
       "     poblacion    idh  \n",
       "0       210936  0.384  \n",
       "1          679  0.751  \n",
       "2         1462  0.707  \n",
       "3          739  0.670  \n",
       "4       184953  0.766  \n",
       "..         ...    ...  \n",
       "341      78887  0.749  \n",
       "342      32468  0.688  \n",
       "343      33723  0.724  \n",
       "344      50696  0.728  \n",
       "345      87741  0.753  \n",
       "\n",
       "[346 rows x 6 columns]"
      ]
     },
     "execution_count": 194,
     "metadata": {},
     "output_type": "execute_result"
    }
   ],
   "source": [
    "df = df.drop(['Unnamed: 0', 'cod'], axis=1)\n",
    "df"
   ]
  },
  {
   "cell_type": "markdown",
   "metadata": {},
   "source": [
    "También pondremos como index la columna `nombre`:"
   ]
  },
  {
   "cell_type": "code",
   "execution_count": 195,
   "metadata": {},
   "outputs": [
    {
     "data": {
      "text/html": [
       "<div>\n",
       "<style scoped>\n",
       "    .dataframe tbody tr th:only-of-type {\n",
       "        vertical-align: middle;\n",
       "    }\n",
       "\n",
       "    .dataframe tbody tr th {\n",
       "        vertical-align: top;\n",
       "    }\n",
       "\n",
       "    .dataframe thead th {\n",
       "        text-align: right;\n",
       "    }\n",
       "</style>\n",
       "<table border=\"1\" class=\"dataframe\">\n",
       "  <thead>\n",
       "    <tr style=\"text-align: right;\">\n",
       "      <th></th>\n",
       "      <th>provincia</th>\n",
       "      <th>region</th>\n",
       "      <th>superficie</th>\n",
       "      <th>poblacion</th>\n",
       "      <th>idh</th>\n",
       "    </tr>\n",
       "    <tr>\n",
       "      <th>nombre</th>\n",
       "      <th></th>\n",
       "      <th></th>\n",
       "      <th></th>\n",
       "      <th></th>\n",
       "      <th></th>\n",
       "    </tr>\n",
       "  </thead>\n",
       "  <tbody>\n",
       "    <tr>\n",
       "      <th>Arica</th>\n",
       "      <td>Arica</td>\n",
       "      <td>Arica y Parinacota</td>\n",
       "      <td>4799.4</td>\n",
       "      <td>210936</td>\n",
       "      <td>0.384</td>\n",
       "    </tr>\n",
       "    <tr>\n",
       "      <th>Camarones</th>\n",
       "      <td>Arica</td>\n",
       "      <td>Arica y Parinacota</td>\n",
       "      <td>3927.0</td>\n",
       "      <td>679</td>\n",
       "      <td>0.751</td>\n",
       "    </tr>\n",
       "    <tr>\n",
       "      <th>Putre</th>\n",
       "      <td>Parinacota</td>\n",
       "      <td>Arica y Parinacota</td>\n",
       "      <td>5902.5</td>\n",
       "      <td>1462</td>\n",
       "      <td>0.707</td>\n",
       "    </tr>\n",
       "    <tr>\n",
       "      <th>General Lagos</th>\n",
       "      <td>Parinacota</td>\n",
       "      <td>Arica y Parinacota</td>\n",
       "      <td>2244.4</td>\n",
       "      <td>739</td>\n",
       "      <td>0.670</td>\n",
       "    </tr>\n",
       "    <tr>\n",
       "      <th>Iquique</th>\n",
       "      <td>Iquique</td>\n",
       "      <td>Tarapacá</td>\n",
       "      <td>2242.1</td>\n",
       "      <td>184953</td>\n",
       "      <td>0.766</td>\n",
       "    </tr>\n",
       "  </tbody>\n",
       "</table>\n",
       "</div>"
      ],
      "text/plain": [
       "                provincia              region  superficie  poblacion    idh\n",
       "nombre                                                                     \n",
       "Arica               Arica  Arica y Parinacota      4799.4     210936  0.384\n",
       "Camarones           Arica  Arica y Parinacota      3927.0        679  0.751\n",
       "Putre          Parinacota  Arica y Parinacota      5902.5       1462  0.707\n",
       "General Lagos  Parinacota  Arica y Parinacota      2244.4        739  0.670\n",
       "Iquique           Iquique            Tarapacá      2242.1     184953  0.766"
      ]
     },
     "execution_count": 195,
     "metadata": {},
     "output_type": "execute_result"
    }
   ],
   "source": [
    "df = df.set_index('nombre') #Esto también puede hacerse así: df.index = df['nombre']\n",
    "df.head()"
   ]
  },
  {
   "cell_type": "markdown",
   "metadata": {},
   "source": [
    "Si queremos una **descripción rápida** de los datos:"
   ]
  },
  {
   "cell_type": "code",
   "execution_count": 196,
   "metadata": {
    "colab": {},
    "colab_type": "code",
    "id": "TiM9lo4YTAmH",
    "outputId": "012ff855-4f01-42fb-8fbe-434606b81ac5"
   },
   "outputs": [
    {
     "data": {
      "text/html": [
       "<div>\n",
       "<style scoped>\n",
       "    .dataframe tbody tr th:only-of-type {\n",
       "        vertical-align: middle;\n",
       "    }\n",
       "\n",
       "    .dataframe tbody tr th {\n",
       "        vertical-align: top;\n",
       "    }\n",
       "\n",
       "    .dataframe thead th {\n",
       "        text-align: right;\n",
       "    }\n",
       "</style>\n",
       "<table border=\"1\" class=\"dataframe\">\n",
       "  <thead>\n",
       "    <tr style=\"text-align: right;\">\n",
       "      <th></th>\n",
       "      <th>superficie</th>\n",
       "      <th>poblacion</th>\n",
       "      <th>idh</th>\n",
       "    </tr>\n",
       "  </thead>\n",
       "  <tbody>\n",
       "    <tr>\n",
       "      <th>count</th>\n",
       "      <td>3.460000e+02</td>\n",
       "      <td>346.000000</td>\n",
       "      <td>341.000000</td>\n",
       "    </tr>\n",
       "    <tr>\n",
       "      <th>mean</th>\n",
       "      <td>5.815967e+03</td>\n",
       "      <td>50407.078035</td>\n",
       "      <td>0.686968</td>\n",
       "    </tr>\n",
       "    <tr>\n",
       "      <th>std</th>\n",
       "      <td>6.727407e+04</td>\n",
       "      <td>86926.943488</td>\n",
       "      <td>0.062951</td>\n",
       "    </tr>\n",
       "    <tr>\n",
       "      <th>min</th>\n",
       "      <td>7.000000e+00</td>\n",
       "      <td>127.000000</td>\n",
       "      <td>0.384000</td>\n",
       "    </tr>\n",
       "    <tr>\n",
       "      <th>25%</th>\n",
       "      <td>2.513000e+02</td>\n",
       "      <td>9148.500000</td>\n",
       "      <td>0.647000</td>\n",
       "    </tr>\n",
       "    <tr>\n",
       "      <th>50%</th>\n",
       "      <td>6.331500e+02</td>\n",
       "      <td>17688.000000</td>\n",
       "      <td>0.679000</td>\n",
       "    </tr>\n",
       "    <tr>\n",
       "      <th>75%</th>\n",
       "      <td>1.657500e+03</td>\n",
       "      <td>50747.000000</td>\n",
       "      <td>0.723000</td>\n",
       "    </tr>\n",
       "    <tr>\n",
       "      <th>max</th>\n",
       "      <td>1.250258e+06</td>\n",
       "      <td>805000.000000</td>\n",
       "      <td>0.949000</td>\n",
       "    </tr>\n",
       "  </tbody>\n",
       "</table>\n",
       "</div>"
      ],
      "text/plain": [
       "         superficie      poblacion         idh\n",
       "count  3.460000e+02     346.000000  341.000000\n",
       "mean   5.815967e+03   50407.078035    0.686968\n",
       "std    6.727407e+04   86926.943488    0.062951\n",
       "min    7.000000e+00     127.000000    0.384000\n",
       "25%    2.513000e+02    9148.500000    0.647000\n",
       "50%    6.331500e+02   17688.000000    0.679000\n",
       "75%    1.657500e+03   50747.000000    0.723000\n",
       "max    1.250258e+06  805000.000000    0.949000"
      ]
     },
     "execution_count": 196,
     "metadata": {},
     "output_type": "execute_result"
    }
   ],
   "source": [
    "df.describe()"
   ]
  },
  {
   "cell_type": "markdown",
   "metadata": {
    "colab_type": "text",
    "id": "hyjNWs7cTAmM"
   },
   "source": [
    "En esta tabla tenemos **valores nulos**. Vamos a buscarlos:"
   ]
  },
  {
   "cell_type": "code",
   "execution_count": 197,
   "metadata": {
    "colab": {},
    "colab_type": "code",
    "id": "8bL1KC-xTAmN",
    "outputId": "c1a50b3f-c850-4cc7-d777-27f508439dfc"
   },
   "outputs": [
    {
     "data": {
      "text/html": [
       "<div>\n",
       "<style scoped>\n",
       "    .dataframe tbody tr th:only-of-type {\n",
       "        vertical-align: middle;\n",
       "    }\n",
       "\n",
       "    .dataframe tbody tr th {\n",
       "        vertical-align: top;\n",
       "    }\n",
       "\n",
       "    .dataframe thead th {\n",
       "        text-align: right;\n",
       "    }\n",
       "</style>\n",
       "<table border=\"1\" class=\"dataframe\">\n",
       "  <thead>\n",
       "    <tr style=\"text-align: right;\">\n",
       "      <th></th>\n",
       "      <th>provincia</th>\n",
       "      <th>region</th>\n",
       "      <th>superficie</th>\n",
       "      <th>poblacion</th>\n",
       "      <th>idh</th>\n",
       "    </tr>\n",
       "    <tr>\n",
       "      <th>nombre</th>\n",
       "      <th></th>\n",
       "      <th></th>\n",
       "      <th></th>\n",
       "      <th></th>\n",
       "      <th></th>\n",
       "    </tr>\n",
       "  </thead>\n",
       "  <tbody>\n",
       "    <tr>\n",
       "      <th>Alto Hospicio</th>\n",
       "      <td>Iquique</td>\n",
       "      <td>Tarapacá</td>\n",
       "      <td>572.9</td>\n",
       "      <td>94455</td>\n",
       "      <td>NaN</td>\n",
       "    </tr>\n",
       "    <tr>\n",
       "      <th>Hualpén</th>\n",
       "      <td>Concepción</td>\n",
       "      <td>Biobío</td>\n",
       "      <td>53.5</td>\n",
       "      <td>86176</td>\n",
       "      <td>NaN</td>\n",
       "    </tr>\n",
       "    <tr>\n",
       "      <th>Alto Biobío</th>\n",
       "      <td>Biobío</td>\n",
       "      <td>Biobío</td>\n",
       "      <td>2124.6</td>\n",
       "      <td>10039</td>\n",
       "      <td>NaN</td>\n",
       "    </tr>\n",
       "    <tr>\n",
       "      <th>Cholchol</th>\n",
       "      <td>Cautín</td>\n",
       "      <td>La Araucanía</td>\n",
       "      <td>427.9</td>\n",
       "      <td>10825</td>\n",
       "      <td>NaN</td>\n",
       "    </tr>\n",
       "    <tr>\n",
       "      <th>Antártica</th>\n",
       "      <td>Antártica Chilena</td>\n",
       "      <td>Magallanes y Antártica Chilena</td>\n",
       "      <td>1250257.6</td>\n",
       "      <td>127</td>\n",
       "      <td>NaN</td>\n",
       "    </tr>\n",
       "  </tbody>\n",
       "</table>\n",
       "</div>"
      ],
      "text/plain": [
       "                       provincia                          region  superficie  \\\n",
       "nombre                                                                         \n",
       "Alto Hospicio            Iquique                        Tarapacá       572.9   \n",
       "Hualpén               Concepción                          Biobío        53.5   \n",
       "Alto Biobío               Biobío                          Biobío      2124.6   \n",
       "Cholchol                  Cautín                    La Araucanía       427.9   \n",
       "Antártica      Antártica Chilena  Magallanes y Antártica Chilena   1250257.6   \n",
       "\n",
       "               poblacion  idh  \n",
       "nombre                         \n",
       "Alto Hospicio      94455  NaN  \n",
       "Hualpén            86176  NaN  \n",
       "Alto Biobío        10039  NaN  \n",
       "Cholchol           10825  NaN  \n",
       "Antártica            127  NaN  "
      ]
     },
     "execution_count": 197,
     "metadata": {},
     "output_type": "execute_result"
    }
   ],
   "source": [
    "df[df.isnull().any(axis=1)]"
   ]
  },
  {
   "cell_type": "markdown",
   "metadata": {
    "colab_type": "text",
    "id": "7qU_EugHTAmU"
   },
   "source": [
    "`pandas` tiene métodos auxiliares para lidiar con datos faltantes. Uno es **eliminar** aquellas filas con la función `dropna()`"
   ]
  },
  {
   "cell_type": "code",
   "execution_count": 198,
   "metadata": {
    "colab": {},
    "colab_type": "code",
    "id": "2WZfFUVqTAmU",
    "outputId": "ec566e0a-5f46-480a-847a-33c969593b16",
    "scrolled": true
   },
   "outputs": [
    {
     "data": {
      "text/html": [
       "<div>\n",
       "<style scoped>\n",
       "    .dataframe tbody tr th:only-of-type {\n",
       "        vertical-align: middle;\n",
       "    }\n",
       "\n",
       "    .dataframe tbody tr th {\n",
       "        vertical-align: top;\n",
       "    }\n",
       "\n",
       "    .dataframe thead th {\n",
       "        text-align: right;\n",
       "    }\n",
       "</style>\n",
       "<table border=\"1\" class=\"dataframe\">\n",
       "  <thead>\n",
       "    <tr style=\"text-align: right;\">\n",
       "      <th></th>\n",
       "      <th>provincia</th>\n",
       "      <th>region</th>\n",
       "      <th>superficie</th>\n",
       "      <th>poblacion</th>\n",
       "      <th>idh</th>\n",
       "    </tr>\n",
       "    <tr>\n",
       "      <th>nombre</th>\n",
       "      <th></th>\n",
       "      <th></th>\n",
       "      <th></th>\n",
       "      <th></th>\n",
       "      <th></th>\n",
       "    </tr>\n",
       "  </thead>\n",
       "  <tbody>\n",
       "    <tr>\n",
       "      <th>Arica</th>\n",
       "      <td>Arica</td>\n",
       "      <td>Arica y Parinacota</td>\n",
       "      <td>4799.4</td>\n",
       "      <td>210936</td>\n",
       "      <td>0.384</td>\n",
       "    </tr>\n",
       "    <tr>\n",
       "      <th>Camarones</th>\n",
       "      <td>Arica</td>\n",
       "      <td>Arica y Parinacota</td>\n",
       "      <td>3927.0</td>\n",
       "      <td>679</td>\n",
       "      <td>0.751</td>\n",
       "    </tr>\n",
       "    <tr>\n",
       "      <th>Putre</th>\n",
       "      <td>Parinacota</td>\n",
       "      <td>Arica y Parinacota</td>\n",
       "      <td>5902.5</td>\n",
       "      <td>1462</td>\n",
       "      <td>0.707</td>\n",
       "    </tr>\n",
       "    <tr>\n",
       "      <th>General Lagos</th>\n",
       "      <td>Parinacota</td>\n",
       "      <td>Arica y Parinacota</td>\n",
       "      <td>2244.4</td>\n",
       "      <td>739</td>\n",
       "      <td>0.670</td>\n",
       "    </tr>\n",
       "    <tr>\n",
       "      <th>Iquique</th>\n",
       "      <td>Iquique</td>\n",
       "      <td>Tarapacá</td>\n",
       "      <td>2242.1</td>\n",
       "      <td>184953</td>\n",
       "      <td>0.766</td>\n",
       "    </tr>\n",
       "    <tr>\n",
       "      <th>...</th>\n",
       "      <td>...</td>\n",
       "      <td>...</td>\n",
       "      <td>...</td>\n",
       "      <td>...</td>\n",
       "      <td>...</td>\n",
       "    </tr>\n",
       "    <tr>\n",
       "      <th>Talagante</th>\n",
       "      <td>Talagante</td>\n",
       "      <td>Metropolitana de Santiago</td>\n",
       "      <td>126.0</td>\n",
       "      <td>78887</td>\n",
       "      <td>0.749</td>\n",
       "    </tr>\n",
       "    <tr>\n",
       "      <th>El Monte</th>\n",
       "      <td>Talagante</td>\n",
       "      <td>Metropolitana de Santiago</td>\n",
       "      <td>118.0</td>\n",
       "      <td>32468</td>\n",
       "      <td>0.688</td>\n",
       "    </tr>\n",
       "    <tr>\n",
       "      <th>Isla de Maipo</th>\n",
       "      <td>Talagante</td>\n",
       "      <td>Metropolitana de Santiago</td>\n",
       "      <td>189.0</td>\n",
       "      <td>33723</td>\n",
       "      <td>0.724</td>\n",
       "    </tr>\n",
       "    <tr>\n",
       "      <th>Padre Hurtado</th>\n",
       "      <td>Talagante</td>\n",
       "      <td>Metropolitana de Santiago</td>\n",
       "      <td>80.8</td>\n",
       "      <td>50696</td>\n",
       "      <td>0.728</td>\n",
       "    </tr>\n",
       "    <tr>\n",
       "      <th>Peñaflor</th>\n",
       "      <td>Talagante</td>\n",
       "      <td>Metropolitana de Santiago</td>\n",
       "      <td>69.0</td>\n",
       "      <td>87741</td>\n",
       "      <td>0.753</td>\n",
       "    </tr>\n",
       "  </tbody>\n",
       "</table>\n",
       "<p>341 rows × 5 columns</p>\n",
       "</div>"
      ],
      "text/plain": [
       "                provincia                     region  superficie  poblacion  \\\n",
       "nombre                                                                        \n",
       "Arica               Arica         Arica y Parinacota      4799.4     210936   \n",
       "Camarones           Arica         Arica y Parinacota      3927.0        679   \n",
       "Putre          Parinacota         Arica y Parinacota      5902.5       1462   \n",
       "General Lagos  Parinacota         Arica y Parinacota      2244.4        739   \n",
       "Iquique           Iquique                   Tarapacá      2242.1     184953   \n",
       "...                   ...                        ...         ...        ...   \n",
       "Talagante       Talagante  Metropolitana de Santiago       126.0      78887   \n",
       "El Monte        Talagante  Metropolitana de Santiago       118.0      32468   \n",
       "Isla de Maipo   Talagante  Metropolitana de Santiago       189.0      33723   \n",
       "Padre Hurtado   Talagante  Metropolitana de Santiago        80.8      50696   \n",
       "Peñaflor        Talagante  Metropolitana de Santiago        69.0      87741   \n",
       "\n",
       "                 idh  \n",
       "nombre                \n",
       "Arica          0.384  \n",
       "Camarones      0.751  \n",
       "Putre          0.707  \n",
       "General Lagos  0.670  \n",
       "Iquique        0.766  \n",
       "...              ...  \n",
       "Talagante      0.749  \n",
       "El Monte       0.688  \n",
       "Isla de Maipo  0.724  \n",
       "Padre Hurtado  0.728  \n",
       "Peñaflor       0.753  \n",
       "\n",
       "[341 rows x 5 columns]"
      ]
     },
     "execution_count": 198,
     "metadata": {},
     "output_type": "execute_result"
    }
   ],
   "source": [
    "df_cleaned = df.dropna()\n",
    "df_cleaned"
   ]
  },
  {
   "cell_type": "markdown",
   "metadata": {
    "colab_type": "text",
    "id": "6_eOZHBaTAmW"
   },
   "source": [
    "O podemos tomar una opción menos radical, que es **reemplazar** los nulos por un valor en particular. En este caso, reemplazaremos por la media:"
   ]
  },
  {
   "cell_type": "code",
   "execution_count": 199,
   "metadata": {
    "colab": {},
    "colab_type": "code",
    "id": "YN6MaDmnTAmW",
    "outputId": "c3cc6599-87f4-4acb-98bb-e8a2c1970320",
    "scrolled": true
   },
   "outputs": [
    {
     "data": {
      "text/html": [
       "<div>\n",
       "<style scoped>\n",
       "    .dataframe tbody tr th:only-of-type {\n",
       "        vertical-align: middle;\n",
       "    }\n",
       "\n",
       "    .dataframe tbody tr th {\n",
       "        vertical-align: top;\n",
       "    }\n",
       "\n",
       "    .dataframe thead th {\n",
       "        text-align: right;\n",
       "    }\n",
       "</style>\n",
       "<table border=\"1\" class=\"dataframe\">\n",
       "  <thead>\n",
       "    <tr style=\"text-align: right;\">\n",
       "      <th></th>\n",
       "      <th>provincia</th>\n",
       "      <th>region</th>\n",
       "      <th>superficie</th>\n",
       "      <th>poblacion</th>\n",
       "      <th>idh</th>\n",
       "    </tr>\n",
       "    <tr>\n",
       "      <th>nombre</th>\n",
       "      <th></th>\n",
       "      <th></th>\n",
       "      <th></th>\n",
       "      <th></th>\n",
       "      <th></th>\n",
       "    </tr>\n",
       "  </thead>\n",
       "  <tbody>\n",
       "    <tr>\n",
       "      <th>Arica</th>\n",
       "      <td>Arica</td>\n",
       "      <td>Arica y Parinacota</td>\n",
       "      <td>4799.4</td>\n",
       "      <td>210936</td>\n",
       "      <td>0.384</td>\n",
       "    </tr>\n",
       "    <tr>\n",
       "      <th>Camarones</th>\n",
       "      <td>Arica</td>\n",
       "      <td>Arica y Parinacota</td>\n",
       "      <td>3927.0</td>\n",
       "      <td>679</td>\n",
       "      <td>0.751</td>\n",
       "    </tr>\n",
       "    <tr>\n",
       "      <th>Putre</th>\n",
       "      <td>Parinacota</td>\n",
       "      <td>Arica y Parinacota</td>\n",
       "      <td>5902.5</td>\n",
       "      <td>1462</td>\n",
       "      <td>0.707</td>\n",
       "    </tr>\n",
       "    <tr>\n",
       "      <th>General Lagos</th>\n",
       "      <td>Parinacota</td>\n",
       "      <td>Arica y Parinacota</td>\n",
       "      <td>2244.4</td>\n",
       "      <td>739</td>\n",
       "      <td>0.670</td>\n",
       "    </tr>\n",
       "    <tr>\n",
       "      <th>Iquique</th>\n",
       "      <td>Iquique</td>\n",
       "      <td>Tarapacá</td>\n",
       "      <td>2242.1</td>\n",
       "      <td>184953</td>\n",
       "      <td>0.766</td>\n",
       "    </tr>\n",
       "    <tr>\n",
       "      <th>...</th>\n",
       "      <td>...</td>\n",
       "      <td>...</td>\n",
       "      <td>...</td>\n",
       "      <td>...</td>\n",
       "      <td>...</td>\n",
       "    </tr>\n",
       "    <tr>\n",
       "      <th>Talagante</th>\n",
       "      <td>Talagante</td>\n",
       "      <td>Metropolitana de Santiago</td>\n",
       "      <td>126.0</td>\n",
       "      <td>78887</td>\n",
       "      <td>0.749</td>\n",
       "    </tr>\n",
       "    <tr>\n",
       "      <th>El Monte</th>\n",
       "      <td>Talagante</td>\n",
       "      <td>Metropolitana de Santiago</td>\n",
       "      <td>118.0</td>\n",
       "      <td>32468</td>\n",
       "      <td>0.688</td>\n",
       "    </tr>\n",
       "    <tr>\n",
       "      <th>Isla de Maipo</th>\n",
       "      <td>Talagante</td>\n",
       "      <td>Metropolitana de Santiago</td>\n",
       "      <td>189.0</td>\n",
       "      <td>33723</td>\n",
       "      <td>0.724</td>\n",
       "    </tr>\n",
       "    <tr>\n",
       "      <th>Padre Hurtado</th>\n",
       "      <td>Talagante</td>\n",
       "      <td>Metropolitana de Santiago</td>\n",
       "      <td>80.8</td>\n",
       "      <td>50696</td>\n",
       "      <td>0.728</td>\n",
       "    </tr>\n",
       "    <tr>\n",
       "      <th>Peñaflor</th>\n",
       "      <td>Talagante</td>\n",
       "      <td>Metropolitana de Santiago</td>\n",
       "      <td>69.0</td>\n",
       "      <td>87741</td>\n",
       "      <td>0.753</td>\n",
       "    </tr>\n",
       "  </tbody>\n",
       "</table>\n",
       "<p>346 rows × 5 columns</p>\n",
       "</div>"
      ],
      "text/plain": [
       "                provincia                     region  superficie  poblacion  \\\n",
       "nombre                                                                        \n",
       "Arica               Arica         Arica y Parinacota      4799.4     210936   \n",
       "Camarones           Arica         Arica y Parinacota      3927.0        679   \n",
       "Putre          Parinacota         Arica y Parinacota      5902.5       1462   \n",
       "General Lagos  Parinacota         Arica y Parinacota      2244.4        739   \n",
       "Iquique           Iquique                   Tarapacá      2242.1     184953   \n",
       "...                   ...                        ...         ...        ...   \n",
       "Talagante       Talagante  Metropolitana de Santiago       126.0      78887   \n",
       "El Monte        Talagante  Metropolitana de Santiago       118.0      32468   \n",
       "Isla de Maipo   Talagante  Metropolitana de Santiago       189.0      33723   \n",
       "Padre Hurtado   Talagante  Metropolitana de Santiago        80.8      50696   \n",
       "Peñaflor        Talagante  Metropolitana de Santiago        69.0      87741   \n",
       "\n",
       "                 idh  \n",
       "nombre                \n",
       "Arica          0.384  \n",
       "Camarones      0.751  \n",
       "Putre          0.707  \n",
       "General Lagos  0.670  \n",
       "Iquique        0.766  \n",
       "...              ...  \n",
       "Talagante      0.749  \n",
       "El Monte       0.688  \n",
       "Isla de Maipo  0.724  \n",
       "Padre Hurtado  0.728  \n",
       "Peñaflor       0.753  \n",
       "\n",
       "[346 rows x 5 columns]"
      ]
     },
     "execution_count": 199,
     "metadata": {},
     "output_type": "execute_result"
    }
   ],
   "source": [
    "df = df.fillna(df['idh'].mean())\n",
    "df"
   ]
  },
  {
   "cell_type": "markdown",
   "metadata": {},
   "source": [
    "Vemos que el dato que estaba como `Nan` ahora se cambió por el valor promedio."
   ]
  },
  {
   "cell_type": "markdown",
   "metadata": {
    "colab_type": "text",
    "id": "wlrC2vSNTAmY"
   },
   "source": [
    "Existen muchas otras opciones para limpiar los datos, te invitamos a revisarlas en el la documentación!"
   ]
  },
  {
   "cell_type": "markdown",
   "metadata": {},
   "source": [
    "## Operaciones sobre DataFrames"
   ]
  },
  {
   "cell_type": "markdown",
   "metadata": {},
   "source": [
    "Existen muchas operaciones aplicables sobre un `DataFrame`. Aquí veremos algunas. "
   ]
  },
  {
   "cell_type": "markdown",
   "metadata": {},
   "source": [
    "### Selección"
   ]
  },
  {
   "cell_type": "markdown",
   "metadata": {},
   "source": [
    "- Para obtener una columna como `Series`:"
   ]
  },
  {
   "cell_type": "code",
   "execution_count": 200,
   "metadata": {
    "scrolled": true
   },
   "outputs": [
    {
     "data": {
      "text/plain": [
       "nombre\n",
       "Arica                 Arica\n",
       "Camarones             Arica\n",
       "Putre            Parinacota\n",
       "General Lagos    Parinacota\n",
       "Iquique             Iquique\n",
       "                    ...    \n",
       "Talagante         Talagante\n",
       "El Monte          Talagante\n",
       "Isla de Maipo     Talagante\n",
       "Padre Hurtado     Talagante\n",
       "Peñaflor          Talagante\n",
       "Name: provincia, Length: 346, dtype: object"
      ]
     },
     "execution_count": 200,
     "metadata": {},
     "output_type": "execute_result"
    }
   ],
   "source": [
    "df['provincia']"
   ]
  },
  {
   "cell_type": "markdown",
   "metadata": {},
   "source": [
    "- Para obtener un nuevo df con **solo algunas de las columnas**:"
   ]
  },
  {
   "cell_type": "code",
   "execution_count": 201,
   "metadata": {
    "scrolled": true
   },
   "outputs": [
    {
     "data": {
      "text/html": [
       "<div>\n",
       "<style scoped>\n",
       "    .dataframe tbody tr th:only-of-type {\n",
       "        vertical-align: middle;\n",
       "    }\n",
       "\n",
       "    .dataframe tbody tr th {\n",
       "        vertical-align: top;\n",
       "    }\n",
       "\n",
       "    .dataframe thead th {\n",
       "        text-align: right;\n",
       "    }\n",
       "</style>\n",
       "<table border=\"1\" class=\"dataframe\">\n",
       "  <thead>\n",
       "    <tr style=\"text-align: right;\">\n",
       "      <th></th>\n",
       "      <th>superficie</th>\n",
       "      <th>poblacion</th>\n",
       "    </tr>\n",
       "    <tr>\n",
       "      <th>nombre</th>\n",
       "      <th></th>\n",
       "      <th></th>\n",
       "    </tr>\n",
       "  </thead>\n",
       "  <tbody>\n",
       "    <tr>\n",
       "      <th>Arica</th>\n",
       "      <td>4799.4</td>\n",
       "      <td>210936</td>\n",
       "    </tr>\n",
       "    <tr>\n",
       "      <th>Camarones</th>\n",
       "      <td>3927.0</td>\n",
       "      <td>679</td>\n",
       "    </tr>\n",
       "    <tr>\n",
       "      <th>Putre</th>\n",
       "      <td>5902.5</td>\n",
       "      <td>1462</td>\n",
       "    </tr>\n",
       "    <tr>\n",
       "      <th>General Lagos</th>\n",
       "      <td>2244.4</td>\n",
       "      <td>739</td>\n",
       "    </tr>\n",
       "    <tr>\n",
       "      <th>Iquique</th>\n",
       "      <td>2242.1</td>\n",
       "      <td>184953</td>\n",
       "    </tr>\n",
       "    <tr>\n",
       "      <th>...</th>\n",
       "      <td>...</td>\n",
       "      <td>...</td>\n",
       "    </tr>\n",
       "    <tr>\n",
       "      <th>Talagante</th>\n",
       "      <td>126.0</td>\n",
       "      <td>78887</td>\n",
       "    </tr>\n",
       "    <tr>\n",
       "      <th>El Monte</th>\n",
       "      <td>118.0</td>\n",
       "      <td>32468</td>\n",
       "    </tr>\n",
       "    <tr>\n",
       "      <th>Isla de Maipo</th>\n",
       "      <td>189.0</td>\n",
       "      <td>33723</td>\n",
       "    </tr>\n",
       "    <tr>\n",
       "      <th>Padre Hurtado</th>\n",
       "      <td>80.8</td>\n",
       "      <td>50696</td>\n",
       "    </tr>\n",
       "    <tr>\n",
       "      <th>Peñaflor</th>\n",
       "      <td>69.0</td>\n",
       "      <td>87741</td>\n",
       "    </tr>\n",
       "  </tbody>\n",
       "</table>\n",
       "<p>346 rows × 2 columns</p>\n",
       "</div>"
      ],
      "text/plain": [
       "               superficie  poblacion\n",
       "nombre                              \n",
       "Arica              4799.4     210936\n",
       "Camarones          3927.0        679\n",
       "Putre              5902.5       1462\n",
       "General Lagos      2244.4        739\n",
       "Iquique            2242.1     184953\n",
       "...                   ...        ...\n",
       "Talagante           126.0      78887\n",
       "El Monte            118.0      32468\n",
       "Isla de Maipo       189.0      33723\n",
       "Padre Hurtado        80.8      50696\n",
       "Peñaflor             69.0      87741\n",
       "\n",
       "[346 rows x 2 columns]"
      ]
     },
     "execution_count": 201,
     "metadata": {},
     "output_type": "execute_result"
    }
   ],
   "source": [
    "df[['superficie', 'poblacion']]"
   ]
  },
  {
   "cell_type": "markdown",
   "metadata": {},
   "source": [
    "- Para obtener alguna **fila por su índice** (Recordemos que mas arriba ejecutamos `df.set_index('nombre')`)"
   ]
  },
  {
   "cell_type": "code",
   "execution_count": 202,
   "metadata": {},
   "outputs": [
    {
     "data": {
      "text/plain": [
       "provincia     Concepción\n",
       "region            Biobío\n",
       "superficie          53.5\n",
       "poblacion          86176\n",
       "idh             0.686968\n",
       "Name: Hualpén, dtype: object"
      ]
     },
     "execution_count": 202,
     "metadata": {},
     "output_type": "execute_result"
    }
   ],
   "source": [
    "df.loc['Hualpén']"
   ]
  },
  {
   "cell_type": "markdown",
   "metadata": {},
   "source": [
    "- La otra forma de buscar una **fila** es **por su posición** dentro del df, mediante `iloc`:"
   ]
  },
  {
   "cell_type": "code",
   "execution_count": 204,
   "metadata": {},
   "outputs": [
    {
     "data": {
      "text/plain": [
       "provincia             Parinacota\n",
       "region        Arica y Parinacota\n",
       "superficie                2244.4\n",
       "poblacion                    739\n",
       "idh                         0.67\n",
       "Name: General Lagos, dtype: object"
      ]
     },
     "execution_count": 204,
     "metadata": {},
     "output_type": "execute_result"
    }
   ],
   "source": [
    "df.iloc[3] #Equivalente a df.iloc[3, :]"
   ]
  },
  {
   "cell_type": "markdown",
   "metadata": {},
   "source": [
    "U obtener **un elemento** de una fila:"
   ]
  },
  {
   "cell_type": "code",
   "execution_count": 556,
   "metadata": {},
   "outputs": [
    {
     "data": {
      "text/plain": [
       "739"
      ]
     },
     "execution_count": 556,
     "metadata": {},
     "output_type": "execute_result"
    }
   ],
   "source": [
    "df.iloc[3,3]"
   ]
  },
  {
   "cell_type": "markdown",
   "metadata": {},
   "source": [
    "O incluso un **slice**:"
   ]
  },
  {
   "cell_type": "code",
   "execution_count": 205,
   "metadata": {},
   "outputs": [
    {
     "data": {
      "text/html": [
       "<div>\n",
       "<style scoped>\n",
       "    .dataframe tbody tr th:only-of-type {\n",
       "        vertical-align: middle;\n",
       "    }\n",
       "\n",
       "    .dataframe tbody tr th {\n",
       "        vertical-align: top;\n",
       "    }\n",
       "\n",
       "    .dataframe thead th {\n",
       "        text-align: right;\n",
       "    }\n",
       "</style>\n",
       "<table border=\"1\" class=\"dataframe\">\n",
       "  <thead>\n",
       "    <tr style=\"text-align: right;\">\n",
       "      <th></th>\n",
       "      <th>provincia</th>\n",
       "      <th>region</th>\n",
       "      <th>superficie</th>\n",
       "      <th>poblacion</th>\n",
       "      <th>idh</th>\n",
       "    </tr>\n",
       "    <tr>\n",
       "      <th>nombre</th>\n",
       "      <th></th>\n",
       "      <th></th>\n",
       "      <th></th>\n",
       "      <th></th>\n",
       "      <th></th>\n",
       "    </tr>\n",
       "  </thead>\n",
       "  <tbody>\n",
       "    <tr>\n",
       "      <th>Putre</th>\n",
       "      <td>Parinacota</td>\n",
       "      <td>Arica y Parinacota</td>\n",
       "      <td>5902.5</td>\n",
       "      <td>1462</td>\n",
       "      <td>0.707</td>\n",
       "    </tr>\n",
       "    <tr>\n",
       "      <th>General Lagos</th>\n",
       "      <td>Parinacota</td>\n",
       "      <td>Arica y Parinacota</td>\n",
       "      <td>2244.4</td>\n",
       "      <td>739</td>\n",
       "      <td>0.670</td>\n",
       "    </tr>\n",
       "    <tr>\n",
       "      <th>Iquique</th>\n",
       "      <td>Iquique</td>\n",
       "      <td>Tarapacá</td>\n",
       "      <td>2242.1</td>\n",
       "      <td>184953</td>\n",
       "      <td>0.766</td>\n",
       "    </tr>\n",
       "  </tbody>\n",
       "</table>\n",
       "</div>"
      ],
      "text/plain": [
       "                provincia              region  superficie  poblacion    idh\n",
       "nombre                                                                     \n",
       "Putre          Parinacota  Arica y Parinacota      5902.5       1462  0.707\n",
       "General Lagos  Parinacota  Arica y Parinacota      2244.4        739  0.670\n",
       "Iquique           Iquique            Tarapacá      2242.1     184953  0.766"
      ]
     },
     "execution_count": 205,
     "metadata": {},
     "output_type": "execute_result"
    }
   ],
   "source": [
    "df.iloc[2:5,:]"
   ]
  },
  {
   "cell_type": "markdown",
   "metadata": {},
   "source": [
    "Al igual que los numpy arrays, podemos **seleccionar una o múltiples filas mediante filtros**. Aquí hay algunos ejemplos:"
   ]
  },
  {
   "cell_type": "markdown",
   "metadata": {},
   "source": [
    "- Obtengamos las comunas con una población menor a 500 peronas:"
   ]
  },
  {
   "cell_type": "code",
   "execution_count": 206,
   "metadata": {},
   "outputs": [
    {
     "data": {
      "text/html": [
       "<div>\n",
       "<style scoped>\n",
       "    .dataframe tbody tr th:only-of-type {\n",
       "        vertical-align: middle;\n",
       "    }\n",
       "\n",
       "    .dataframe tbody tr th {\n",
       "        vertical-align: top;\n",
       "    }\n",
       "\n",
       "    .dataframe thead th {\n",
       "        text-align: right;\n",
       "    }\n",
       "</style>\n",
       "<table border=\"1\" class=\"dataframe\">\n",
       "  <thead>\n",
       "    <tr style=\"text-align: right;\">\n",
       "      <th></th>\n",
       "      <th>provincia</th>\n",
       "      <th>region</th>\n",
       "      <th>superficie</th>\n",
       "      <th>poblacion</th>\n",
       "      <th>idh</th>\n",
       "    </tr>\n",
       "    <tr>\n",
       "      <th>nombre</th>\n",
       "      <th></th>\n",
       "      <th></th>\n",
       "      <th></th>\n",
       "      <th></th>\n",
       "      <th></th>\n",
       "    </tr>\n",
       "  </thead>\n",
       "  <tbody>\n",
       "    <tr>\n",
       "      <th>Ollagüe</th>\n",
       "      <td>El Loa</td>\n",
       "      <td>Antofagasta</td>\n",
       "      <td>2964.0</td>\n",
       "      <td>332</td>\n",
       "      <td>0.679000</td>\n",
       "    </tr>\n",
       "    <tr>\n",
       "      <th>Río Verde</th>\n",
       "      <td>Magallanes</td>\n",
       "      <td>Magallanes y Antártica Chilena</td>\n",
       "      <td>17248.0</td>\n",
       "      <td>363</td>\n",
       "      <td>0.784000</td>\n",
       "    </tr>\n",
       "    <tr>\n",
       "      <th>Antártica</th>\n",
       "      <td>Antártica Chilena</td>\n",
       "      <td>Magallanes y Antártica Chilena</td>\n",
       "      <td>1250257.6</td>\n",
       "      <td>127</td>\n",
       "      <td>0.686968</td>\n",
       "    </tr>\n",
       "  </tbody>\n",
       "</table>\n",
       "</div>"
      ],
      "text/plain": [
       "                   provincia                          region  superficie  \\\n",
       "nombre                                                                     \n",
       "Ollagüe               El Loa                     Antofagasta      2964.0   \n",
       "Río Verde         Magallanes  Magallanes y Antártica Chilena     17248.0   \n",
       "Antártica  Antártica Chilena  Magallanes y Antártica Chilena   1250257.6   \n",
       "\n",
       "           poblacion       idh  \n",
       "nombre                          \n",
       "Ollagüe          332  0.679000  \n",
       "Río Verde        363  0.784000  \n",
       "Antártica        127  0.686968  "
      ]
     },
     "execution_count": 206,
     "metadata": {},
     "output_type": "execute_result"
    }
   ],
   "source": [
    "df[df['poblacion']<500]"
   ]
  },
  {
   "cell_type": "markdown",
   "metadata": {
    "colab_type": "text",
    "id": "h3gWRYHyTAlT"
   },
   "source": [
    "- Comunas con una población mayor a 200.000 y un IDH menor a 0.7. Para esto, ocupamos el operador **`&` para hacer un `AND`**:"
   ]
  },
  {
   "cell_type": "code",
   "execution_count": 207,
   "metadata": {},
   "outputs": [
    {
     "data": {
      "text/html": [
       "<div>\n",
       "<style scoped>\n",
       "    .dataframe tbody tr th:only-of-type {\n",
       "        vertical-align: middle;\n",
       "    }\n",
       "\n",
       "    .dataframe tbody tr th {\n",
       "        vertical-align: top;\n",
       "    }\n",
       "\n",
       "    .dataframe thead th {\n",
       "        text-align: right;\n",
       "    }\n",
       "</style>\n",
       "<table border=\"1\" class=\"dataframe\">\n",
       "  <thead>\n",
       "    <tr style=\"text-align: right;\">\n",
       "      <th></th>\n",
       "      <th>provincia</th>\n",
       "      <th>region</th>\n",
       "      <th>superficie</th>\n",
       "      <th>poblacion</th>\n",
       "      <th>idh</th>\n",
       "    </tr>\n",
       "    <tr>\n",
       "      <th>nombre</th>\n",
       "      <th></th>\n",
       "      <th></th>\n",
       "      <th></th>\n",
       "      <th></th>\n",
       "      <th></th>\n",
       "    </tr>\n",
       "  </thead>\n",
       "  <tbody>\n",
       "    <tr>\n",
       "      <th>Arica</th>\n",
       "      <td>Arica</td>\n",
       "      <td>Arica y Parinacota</td>\n",
       "      <td>4799.4</td>\n",
       "      <td>210936</td>\n",
       "      <td>0.384</td>\n",
       "    </tr>\n",
       "    <tr>\n",
       "      <th>La Pintana</th>\n",
       "      <td>Santiago</td>\n",
       "      <td>Metropolitana de Santiago</td>\n",
       "      <td>30.6</td>\n",
       "      <td>202146</td>\n",
       "      <td>0.679</td>\n",
       "    </tr>\n",
       "  </tbody>\n",
       "</table>\n",
       "</div>"
      ],
      "text/plain": [
       "           provincia                     region  superficie  poblacion    idh\n",
       "nombre                                                                       \n",
       "Arica          Arica         Arica y Parinacota      4799.4     210936  0.384\n",
       "La Pintana  Santiago  Metropolitana de Santiago        30.6     202146  0.679"
      ]
     },
     "execution_count": 207,
     "metadata": {},
     "output_type": "execute_result"
    }
   ],
   "source": [
    "df[(df['poblacion'] > 200000) & (df['idh'] < 0.7)]"
   ]
  },
  {
   "cell_type": "markdown",
   "metadata": {},
   "source": [
    "- Comunas con una superficie menor a 10 km^2 o mayor a 30.000 km^2. Para esto, ocupamos **`|` para hacer un `OR`**:"
   ]
  },
  {
   "cell_type": "code",
   "execution_count": 208,
   "metadata": {
    "scrolled": true
   },
   "outputs": [
    {
     "data": {
      "text/html": [
       "<div>\n",
       "<style scoped>\n",
       "    .dataframe tbody tr th:only-of-type {\n",
       "        vertical-align: middle;\n",
       "    }\n",
       "\n",
       "    .dataframe tbody tr th {\n",
       "        vertical-align: top;\n",
       "    }\n",
       "\n",
       "    .dataframe thead th {\n",
       "        text-align: right;\n",
       "    }\n",
       "</style>\n",
       "<table border=\"1\" class=\"dataframe\">\n",
       "  <thead>\n",
       "    <tr style=\"text-align: right;\">\n",
       "      <th></th>\n",
       "      <th>provincia</th>\n",
       "      <th>region</th>\n",
       "      <th>superficie</th>\n",
       "      <th>poblacion</th>\n",
       "      <th>idh</th>\n",
       "    </tr>\n",
       "    <tr>\n",
       "      <th>nombre</th>\n",
       "      <th></th>\n",
       "      <th></th>\n",
       "      <th></th>\n",
       "      <th></th>\n",
       "      <th></th>\n",
       "    </tr>\n",
       "  </thead>\n",
       "  <tbody>\n",
       "    <tr>\n",
       "      <th>Antofagasta</th>\n",
       "      <td>Antofagasta</td>\n",
       "      <td>Antofagasta</td>\n",
       "      <td>30718.10</td>\n",
       "      <td>348669</td>\n",
       "      <td>0.734000</td>\n",
       "    </tr>\n",
       "    <tr>\n",
       "      <th>Putaendo</th>\n",
       "      <td>San Felipe de Aconcagua</td>\n",
       "      <td>Valparaíso</td>\n",
       "      <td>7.68</td>\n",
       "      <td>17369</td>\n",
       "      <td>0.674000</td>\n",
       "    </tr>\n",
       "    <tr>\n",
       "      <th>Antártica</th>\n",
       "      <td>Antártica Chilena</td>\n",
       "      <td>Magallanes y Antártica Chilena</td>\n",
       "      <td>1250257.60</td>\n",
       "      <td>127</td>\n",
       "      <td>0.686968</td>\n",
       "    </tr>\n",
       "    <tr>\n",
       "      <th>Natales</th>\n",
       "      <td>Última Esperanza</td>\n",
       "      <td>Magallanes y Antártica Chilena</td>\n",
       "      <td>49924.10</td>\n",
       "      <td>21327</td>\n",
       "      <td>0.699000</td>\n",
       "    </tr>\n",
       "    <tr>\n",
       "      <th>Independencia</th>\n",
       "      <td>Santiago</td>\n",
       "      <td>Metropolitana de Santiago</td>\n",
       "      <td>7.00</td>\n",
       "      <td>73874</td>\n",
       "      <td>0.709000</td>\n",
       "    </tr>\n",
       "    <tr>\n",
       "      <th>Lo Espejo</th>\n",
       "      <td>Santiago</td>\n",
       "      <td>Metropolitana de Santiago</td>\n",
       "      <td>7.00</td>\n",
       "      <td>99527</td>\n",
       "      <td>0.657000</td>\n",
       "    </tr>\n",
       "    <tr>\n",
       "      <th>Lo Prado</th>\n",
       "      <td>Santiago</td>\n",
       "      <td>Metropolitana de Santiago</td>\n",
       "      <td>7.00</td>\n",
       "      <td>94766</td>\n",
       "      <td>0.715000</td>\n",
       "    </tr>\n",
       "    <tr>\n",
       "      <th>San Joaquín</th>\n",
       "      <td>Santiago</td>\n",
       "      <td>Metropolitana de Santiago</td>\n",
       "      <td>9.70</td>\n",
       "      <td>94255</td>\n",
       "      <td>0.719000</td>\n",
       "    </tr>\n",
       "    <tr>\n",
       "      <th>San Ramón</th>\n",
       "      <td>Santiago</td>\n",
       "      <td>Metropolitana de Santiago</td>\n",
       "      <td>7.00</td>\n",
       "      <td>85195</td>\n",
       "      <td>0.679000</td>\n",
       "    </tr>\n",
       "  </tbody>\n",
       "</table>\n",
       "</div>"
      ],
      "text/plain": [
       "                             provincia                          region  \\\n",
       "nombre                                                                   \n",
       "Antofagasta                Antofagasta                     Antofagasta   \n",
       "Putaendo       San Felipe de Aconcagua                      Valparaíso   \n",
       "Antártica            Antártica Chilena  Magallanes y Antártica Chilena   \n",
       "Natales               Última Esperanza  Magallanes y Antártica Chilena   \n",
       "Independencia                 Santiago       Metropolitana de Santiago   \n",
       "Lo Espejo                     Santiago       Metropolitana de Santiago   \n",
       "Lo Prado                      Santiago       Metropolitana de Santiago   \n",
       "San Joaquín                   Santiago       Metropolitana de Santiago   \n",
       "San Ramón                     Santiago       Metropolitana de Santiago   \n",
       "\n",
       "               superficie  poblacion       idh  \n",
       "nombre                                          \n",
       "Antofagasta      30718.10     348669  0.734000  \n",
       "Putaendo             7.68      17369  0.674000  \n",
       "Antártica      1250257.60        127  0.686968  \n",
       "Natales          49924.10      21327  0.699000  \n",
       "Independencia        7.00      73874  0.709000  \n",
       "Lo Espejo            7.00      99527  0.657000  \n",
       "Lo Prado             7.00      94766  0.715000  \n",
       "San Joaquín          9.70      94255  0.719000  \n",
       "San Ramón            7.00      85195  0.679000  "
      ]
     },
     "execution_count": 208,
     "metadata": {},
     "output_type": "execute_result"
    }
   ],
   "source": [
    "df[(df['superficie'] < 10) | (df['superficie'] > 30000)]"
   ]
  },
  {
   "cell_type": "markdown",
   "metadata": {},
   "source": [
    "### Importación/Exportación"
   ]
  },
  {
   "cell_type": "markdown",
   "metadata": {},
   "source": [
    "Como se dijo mas arriba, se puede **importar** archivos de distintos tipos. Por ejemplo, están los siguientes métodos:\n",
    "- `pd.read_csv(filename)`\n",
    "- `pd.read_excel(filename)`\n",
    "- `pd.read_sql(query, connection_object)`"
   ]
  },
  {
   "cell_type": "markdown",
   "metadata": {},
   "source": [
    "Los que entregan un objeto DataFrame. Para **exportar**, se usan los siguientes:\n",
    "- `df.to_csv(filename)`\n",
    "- `df.to_excel(filename)`\n",
    "- `df.to_sql(table_name, connection_object)`\n",
    "- `df.to_json(filename)``\n"
   ]
  },
  {
   "cell_type": "markdown",
   "metadata": {},
   "source": [
    "Por ejemplo, para exportar en un `csv` el df que limpiamos recién, podemos hacerlo de esta forma: "
   ]
  },
  {
   "cell_type": "code",
   "execution_count": 209,
   "metadata": {},
   "outputs": [],
   "source": [
    "df.to_csv('df_cleaned.csv')"
   ]
  },
  {
   "cell_type": "markdown",
   "metadata": {},
   "source": [
    "### Ordenamiento"
   ]
  },
  {
   "cell_type": "code",
   "execution_count": 210,
   "metadata": {
    "scrolled": true
   },
   "outputs": [
    {
     "data": {
      "text/html": [
       "<div>\n",
       "<style scoped>\n",
       "    .dataframe tbody tr th:only-of-type {\n",
       "        vertical-align: middle;\n",
       "    }\n",
       "\n",
       "    .dataframe tbody tr th {\n",
       "        vertical-align: top;\n",
       "    }\n",
       "\n",
       "    .dataframe thead th {\n",
       "        text-align: right;\n",
       "    }\n",
       "</style>\n",
       "<table border=\"1\" class=\"dataframe\">\n",
       "  <thead>\n",
       "    <tr style=\"text-align: right;\">\n",
       "      <th></th>\n",
       "      <th>provincia</th>\n",
       "      <th>region</th>\n",
       "      <th>superficie</th>\n",
       "      <th>poblacion</th>\n",
       "      <th>idh</th>\n",
       "    </tr>\n",
       "    <tr>\n",
       "      <th>nombre</th>\n",
       "      <th></th>\n",
       "      <th></th>\n",
       "      <th></th>\n",
       "      <th></th>\n",
       "      <th></th>\n",
       "    </tr>\n",
       "  </thead>\n",
       "  <tbody>\n",
       "    <tr>\n",
       "      <th>Antártica</th>\n",
       "      <td>Antártica Chilena</td>\n",
       "      <td>Magallanes y Antártica Chilena</td>\n",
       "      <td>1250257.6</td>\n",
       "      <td>127</td>\n",
       "      <td>0.686968</td>\n",
       "    </tr>\n",
       "    <tr>\n",
       "      <th>Ollagüe</th>\n",
       "      <td>El Loa</td>\n",
       "      <td>Antofagasta</td>\n",
       "      <td>2964.0</td>\n",
       "      <td>332</td>\n",
       "      <td>0.679000</td>\n",
       "    </tr>\n",
       "    <tr>\n",
       "      <th>Río Verde</th>\n",
       "      <td>Magallanes</td>\n",
       "      <td>Magallanes y Antártica Chilena</td>\n",
       "      <td>17248.0</td>\n",
       "      <td>363</td>\n",
       "      <td>0.784000</td>\n",
       "    </tr>\n",
       "    <tr>\n",
       "      <th>Tortel</th>\n",
       "      <td>Capitán Prat</td>\n",
       "      <td>Aysén del Gral. C. Ibáñez del Campo</td>\n",
       "      <td>19710.6</td>\n",
       "      <td>531</td>\n",
       "      <td>0.655000</td>\n",
       "    </tr>\n",
       "    <tr>\n",
       "      <th>Laguna Blanca</th>\n",
       "      <td>Magallanes</td>\n",
       "      <td>Magallanes y Antártica Chilena</td>\n",
       "      <td>3695.6</td>\n",
       "      <td>631</td>\n",
       "      <td>0.785000</td>\n",
       "    </tr>\n",
       "    <tr>\n",
       "      <th>...</th>\n",
       "      <td>...</td>\n",
       "      <td>...</td>\n",
       "      <td>...</td>\n",
       "      <td>...</td>\n",
       "      <td>...</td>\n",
       "    </tr>\n",
       "    <tr>\n",
       "      <th>Viña del Mar</th>\n",
       "      <td>Valparaíso</td>\n",
       "      <td>Valparaíso</td>\n",
       "      <td>121.6</td>\n",
       "      <td>311399</td>\n",
       "      <td>0.766000</td>\n",
       "    </tr>\n",
       "    <tr>\n",
       "      <th>Antofagasta</th>\n",
       "      <td>Antofagasta</td>\n",
       "      <td>Antofagasta</td>\n",
       "      <td>30718.1</td>\n",
       "      <td>348669</td>\n",
       "      <td>0.734000</td>\n",
       "    </tr>\n",
       "    <tr>\n",
       "      <th>La Florida</th>\n",
       "      <td>Santiago</td>\n",
       "      <td>Metropolitana de Santiago</td>\n",
       "      <td>70.2</td>\n",
       "      <td>397497</td>\n",
       "      <td>0.804000</td>\n",
       "    </tr>\n",
       "    <tr>\n",
       "      <th>Puente Alto</th>\n",
       "      <td>Cordillera</td>\n",
       "      <td>Metropolitana de Santiago</td>\n",
       "      <td>88.0</td>\n",
       "      <td>757721</td>\n",
       "      <td>0.773000</td>\n",
       "    </tr>\n",
       "    <tr>\n",
       "      <th>Maipú</th>\n",
       "      <td>Santiago</td>\n",
       "      <td>Metropolitana de Santiago</td>\n",
       "      <td>135.5</td>\n",
       "      <td>805000</td>\n",
       "      <td>0.902000</td>\n",
       "    </tr>\n",
       "  </tbody>\n",
       "</table>\n",
       "<p>346 rows × 5 columns</p>\n",
       "</div>"
      ],
      "text/plain": [
       "                       provincia                               region  \\\n",
       "nombre                                                                  \n",
       "Antártica      Antártica Chilena       Magallanes y Antártica Chilena   \n",
       "Ollagüe                   El Loa                          Antofagasta   \n",
       "Río Verde             Magallanes       Magallanes y Antártica Chilena   \n",
       "Tortel              Capitán Prat  Aysén del Gral. C. Ibáñez del Campo   \n",
       "Laguna Blanca         Magallanes       Magallanes y Antártica Chilena   \n",
       "...                          ...                                  ...   \n",
       "Viña del Mar          Valparaíso                           Valparaíso   \n",
       "Antofagasta          Antofagasta                          Antofagasta   \n",
       "La Florida              Santiago            Metropolitana de Santiago   \n",
       "Puente Alto           Cordillera            Metropolitana de Santiago   \n",
       "Maipú                   Santiago            Metropolitana de Santiago   \n",
       "\n",
       "               superficie  poblacion       idh  \n",
       "nombre                                          \n",
       "Antártica       1250257.6        127  0.686968  \n",
       "Ollagüe            2964.0        332  0.679000  \n",
       "Río Verde         17248.0        363  0.784000  \n",
       "Tortel            19710.6        531  0.655000  \n",
       "Laguna Blanca      3695.6        631  0.785000  \n",
       "...                   ...        ...       ...  \n",
       "Viña del Mar        121.6     311399  0.766000  \n",
       "Antofagasta       30718.1     348669  0.734000  \n",
       "La Florida           70.2     397497  0.804000  \n",
       "Puente Alto          88.0     757721  0.773000  \n",
       "Maipú               135.5     805000  0.902000  \n",
       "\n",
       "[346 rows x 5 columns]"
      ]
     },
     "execution_count": 210,
     "metadata": {},
     "output_type": "execute_result"
    }
   ],
   "source": [
    "df.sort_values(by=['poblacion'], ascending=True)"
   ]
  },
  {
   "cell_type": "markdown",
   "metadata": {
    "colab_type": "text",
    "id": "RUCreinxTAlj"
   },
   "source": [
    "Si necesitamos ordenar por más de una columna, podemos pasar un arreglo al argumento `by`. La prioridad de orden será la que especifiquemos en ese arreglo. "
   ]
  },
  {
   "cell_type": "markdown",
   "metadata": {},
   "source": [
    "Recordemos que al hacer `df['col']` **obtenemos un objeto `Series`**. Algunos comandos útiles que incluyen ordenamiento de estos objetos son los siguientes:\n",
    "- `s.nlargest(n)`: Obtener los **n mayores** valores de la serie `s`.\n",
    "- `s.nsmallest(n)`: Obtener los **n menores** valores de la serie `s`."
   ]
  },
  {
   "cell_type": "markdown",
   "metadata": {},
   "source": [
    "Por ejemplo, para obtener las 3 comunas con menor superficie, hacemos lo siguiente:"
   ]
  },
  {
   "cell_type": "code",
   "execution_count": 211,
   "metadata": {
    "scrolled": true
   },
   "outputs": [
    {
     "data": {
      "text/plain": [
       "nombre\n",
       "Antártica    127\n",
       "Ollagüe      332\n",
       "Río Verde    363\n",
       "Name: poblacion, dtype: int64"
      ]
     },
     "execution_count": 211,
     "metadata": {},
     "output_type": "execute_result"
    }
   ],
   "source": [
    "df['poblacion'].nsmallest(3)"
   ]
  },
  {
   "cell_type": "markdown",
   "metadata": {},
   "source": [
    "O mas directamente, para obtener los índices de los valores máximos y mínimos:\n",
    "- `s.idxmax()`: Obtener el **índice del valor máximo** de la serie `s`.\n",
    "- `s.idxmin()`: Obtener el **índice del valor mínimo** de la serie `s`."
   ]
  },
  {
   "cell_type": "code",
   "execution_count": 564,
   "metadata": {},
   "outputs": [
    {
     "data": {
      "text/plain": [
       "'Antártica'"
      ]
     },
     "execution_count": 564,
     "metadata": {},
     "output_type": "execute_result"
    }
   ],
   "source": [
    "df['poblacion'].idxmin()"
   ]
  },
  {
   "cell_type": "markdown",
   "metadata": {
    "colab_type": "text",
    "id": "Gd2sDn4tTAmY"
   },
   "source": [
    "### Agregación"
   ]
  },
  {
   "cell_type": "markdown",
   "metadata": {},
   "source": [
    "Veremos dos ejemplos para ilustrar esto."
   ]
  },
  {
   "cell_type": "markdown",
   "metadata": {},
   "source": [
    " - **Densidad poblacional de cada región**. Para esto, agrupamos por región con `groupby`, sumamos los elementos de cada grupo y dividimos la columna `poblacion` sobre la columna `superficie`."
   ]
  },
  {
   "cell_type": "code",
   "execution_count": 77,
   "metadata": {
    "colab": {},
    "colab_type": "code",
    "id": "_1s458boTAoX",
    "outputId": "267b2ac6-4973-4317-f3c0-d04772f5997b",
    "scrolled": true
   },
   "outputs": [
    {
     "data": {
      "text/plain": [
       "region\n",
       "Antofagasta                              4.376297\n",
       "Arica y Parinacota                      12.671854\n",
       "Atacama                                  3.904089\n",
       "Aysén del Gral. C. Ibáñez del Campo      0.994822\n",
       "Biobío                                  65.543152\n",
       "Coquimbo                                17.449216\n",
       "La Araucanía                            29.317512\n",
       "Lib. Gral. Bernardo O'Higgins           54.467326\n",
       "Los Lagos                               17.204039\n",
       "Los Ríos                                20.488007\n",
       "Magallanes y Antártica Chilena           0.114036\n",
       "Maule                                   35.386433\n",
       "Metropolitana de Santiago              456.073841\n",
       "Tarapacá                                 7.108576\n",
       "Valparaíso                             147.024421\n",
       "Ñuble                                   34.917176\n",
       "dtype: float64"
      ]
     },
     "execution_count": 77,
     "metadata": {},
     "output_type": "execute_result"
    }
   ],
   "source": [
    "regiones = df.groupby(df['region']).sum() \n",
    "regiones['poblacion']/regiones['superficie'] # Ojo! esto retorna un objeto Series"
   ]
  },
  {
   "cell_type": "markdown",
   "metadata": {
    "colab_type": "text",
    "id": "ToPxGN9rTAox"
   },
   "source": [
    "- **Número de comunas por nivel de desarrollo**. Según organismos internaciones, se definen los siguientes niveles de desarrollo:\n",
    "    - Muy alto: idh > 0.8\n",
    "    - Alto: 0.8 > idh >= 0.7\n",
    "    - Medio: 0.7 > idh >= 0.55\n",
    "    - Bajo: idh < 0.55\n",
    "    \n",
    "Por lo tanto, creamos una nueva columna con esta clasificación:"
   ]
  },
  {
   "cell_type": "code",
   "execution_count": 212,
   "metadata": {},
   "outputs": [],
   "source": [
    "df.loc[df['idh'] > 0.8, 'nivel_idh'] = 'muy alto'\n",
    "df.loc[(df['idh'] < 0.8) & (df['idh'] >= 0.7), 'nivel_idh'] = 'alto'\n",
    "df.loc[(df['idh'] < 0.7) & (df['idh'] >= 0.55), 'nivel_idh'] = 'medio'\n",
    "df.loc[df['idh'] < 0.55, 'nivel_idh'] = 'bajo'"
   ]
  },
  {
   "cell_type": "code",
   "execution_count": 213,
   "metadata": {},
   "outputs": [
    {
     "data": {
      "text/html": [
       "<div>\n",
       "<style scoped>\n",
       "    .dataframe tbody tr th:only-of-type {\n",
       "        vertical-align: middle;\n",
       "    }\n",
       "\n",
       "    .dataframe tbody tr th {\n",
       "        vertical-align: top;\n",
       "    }\n",
       "\n",
       "    .dataframe thead th {\n",
       "        text-align: right;\n",
       "    }\n",
       "</style>\n",
       "<table border=\"1\" class=\"dataframe\">\n",
       "  <thead>\n",
       "    <tr style=\"text-align: right;\">\n",
       "      <th></th>\n",
       "      <th>provincia</th>\n",
       "      <th>region</th>\n",
       "      <th>superficie</th>\n",
       "      <th>poblacion</th>\n",
       "      <th>idh</th>\n",
       "      <th>nivel_idh</th>\n",
       "    </tr>\n",
       "    <tr>\n",
       "      <th>nombre</th>\n",
       "      <th></th>\n",
       "      <th></th>\n",
       "      <th></th>\n",
       "      <th></th>\n",
       "      <th></th>\n",
       "      <th></th>\n",
       "    </tr>\n",
       "  </thead>\n",
       "  <tbody>\n",
       "    <tr>\n",
       "      <th>Arica</th>\n",
       "      <td>Arica</td>\n",
       "      <td>Arica y Parinacota</td>\n",
       "      <td>4799.4</td>\n",
       "      <td>210936</td>\n",
       "      <td>0.384</td>\n",
       "      <td>bajo</td>\n",
       "    </tr>\n",
       "    <tr>\n",
       "      <th>Camarones</th>\n",
       "      <td>Arica</td>\n",
       "      <td>Arica y Parinacota</td>\n",
       "      <td>3927.0</td>\n",
       "      <td>679</td>\n",
       "      <td>0.751</td>\n",
       "      <td>alto</td>\n",
       "    </tr>\n",
       "    <tr>\n",
       "      <th>Putre</th>\n",
       "      <td>Parinacota</td>\n",
       "      <td>Arica y Parinacota</td>\n",
       "      <td>5902.5</td>\n",
       "      <td>1462</td>\n",
       "      <td>0.707</td>\n",
       "      <td>alto</td>\n",
       "    </tr>\n",
       "    <tr>\n",
       "      <th>General Lagos</th>\n",
       "      <td>Parinacota</td>\n",
       "      <td>Arica y Parinacota</td>\n",
       "      <td>2244.4</td>\n",
       "      <td>739</td>\n",
       "      <td>0.670</td>\n",
       "      <td>medio</td>\n",
       "    </tr>\n",
       "    <tr>\n",
       "      <th>Iquique</th>\n",
       "      <td>Iquique</td>\n",
       "      <td>Tarapacá</td>\n",
       "      <td>2242.1</td>\n",
       "      <td>184953</td>\n",
       "      <td>0.766</td>\n",
       "      <td>alto</td>\n",
       "    </tr>\n",
       "    <tr>\n",
       "      <th>...</th>\n",
       "      <td>...</td>\n",
       "      <td>...</td>\n",
       "      <td>...</td>\n",
       "      <td>...</td>\n",
       "      <td>...</td>\n",
       "      <td>...</td>\n",
       "    </tr>\n",
       "    <tr>\n",
       "      <th>Talagante</th>\n",
       "      <td>Talagante</td>\n",
       "      <td>Metropolitana de Santiago</td>\n",
       "      <td>126.0</td>\n",
       "      <td>78887</td>\n",
       "      <td>0.749</td>\n",
       "      <td>alto</td>\n",
       "    </tr>\n",
       "    <tr>\n",
       "      <th>El Monte</th>\n",
       "      <td>Talagante</td>\n",
       "      <td>Metropolitana de Santiago</td>\n",
       "      <td>118.0</td>\n",
       "      <td>32468</td>\n",
       "      <td>0.688</td>\n",
       "      <td>medio</td>\n",
       "    </tr>\n",
       "    <tr>\n",
       "      <th>Isla de Maipo</th>\n",
       "      <td>Talagante</td>\n",
       "      <td>Metropolitana de Santiago</td>\n",
       "      <td>189.0</td>\n",
       "      <td>33723</td>\n",
       "      <td>0.724</td>\n",
       "      <td>alto</td>\n",
       "    </tr>\n",
       "    <tr>\n",
       "      <th>Padre Hurtado</th>\n",
       "      <td>Talagante</td>\n",
       "      <td>Metropolitana de Santiago</td>\n",
       "      <td>80.8</td>\n",
       "      <td>50696</td>\n",
       "      <td>0.728</td>\n",
       "      <td>alto</td>\n",
       "    </tr>\n",
       "    <tr>\n",
       "      <th>Peñaflor</th>\n",
       "      <td>Talagante</td>\n",
       "      <td>Metropolitana de Santiago</td>\n",
       "      <td>69.0</td>\n",
       "      <td>87741</td>\n",
       "      <td>0.753</td>\n",
       "      <td>alto</td>\n",
       "    </tr>\n",
       "  </tbody>\n",
       "</table>\n",
       "<p>346 rows × 6 columns</p>\n",
       "</div>"
      ],
      "text/plain": [
       "                provincia                     region  superficie  poblacion  \\\n",
       "nombre                                                                        \n",
       "Arica               Arica         Arica y Parinacota      4799.4     210936   \n",
       "Camarones           Arica         Arica y Parinacota      3927.0        679   \n",
       "Putre          Parinacota         Arica y Parinacota      5902.5       1462   \n",
       "General Lagos  Parinacota         Arica y Parinacota      2244.4        739   \n",
       "Iquique           Iquique                   Tarapacá      2242.1     184953   \n",
       "...                   ...                        ...         ...        ...   \n",
       "Talagante       Talagante  Metropolitana de Santiago       126.0      78887   \n",
       "El Monte        Talagante  Metropolitana de Santiago       118.0      32468   \n",
       "Isla de Maipo   Talagante  Metropolitana de Santiago       189.0      33723   \n",
       "Padre Hurtado   Talagante  Metropolitana de Santiago        80.8      50696   \n",
       "Peñaflor        Talagante  Metropolitana de Santiago        69.0      87741   \n",
       "\n",
       "                 idh nivel_idh  \n",
       "nombre                          \n",
       "Arica          0.384      bajo  \n",
       "Camarones      0.751      alto  \n",
       "Putre          0.707      alto  \n",
       "General Lagos  0.670     medio  \n",
       "Iquique        0.766      alto  \n",
       "...              ...       ...  \n",
       "Talagante      0.749      alto  \n",
       "El Monte       0.688     medio  \n",
       "Isla de Maipo  0.724      alto  \n",
       "Padre Hurtado  0.728      alto  \n",
       "Peñaflor       0.753      alto  \n",
       "\n",
       "[346 rows x 6 columns]"
      ]
     },
     "execution_count": 213,
     "metadata": {},
     "output_type": "execute_result"
    }
   ],
   "source": [
    "df"
   ]
  },
  {
   "cell_type": "markdown",
   "metadata": {},
   "source": [
    "Con esto, agrupamos por nivel de desarrollo y vemos el tamaño de cada grupo:"
   ]
  },
  {
   "cell_type": "code",
   "execution_count": 214,
   "metadata": {
    "colab": {},
    "colab_type": "code",
    "id": "q7k1gR13TAoy",
    "outputId": "1dac78a8-26c7-4100-a7f9-0b520af191ce"
   },
   "outputs": [
    {
     "data": {
      "text/plain": [
       "nivel_idh\n",
       "alto        119\n",
       "bajo          2\n",
       "medio       212\n",
       "muy alto     13\n",
       "dtype: int64"
      ]
     },
     "execution_count": 214,
     "metadata": {},
     "output_type": "execute_result"
    }
   ],
   "source": [
    "df.groupby(df['nivel_idh']).size() # Ojo! esto retorna un objeto Series"
   ]
  },
  {
   "cell_type": "markdown",
   "metadata": {},
   "source": [
    "**Propuesto**: Otra función de `pandas` que clasifica objetos tipo `Series` de acuerdo a intervalos es `pd.cut`. Te animamos a hacer este mismo ejercicio con esta función. "
   ]
  },
  {
   "cell_type": "markdown",
   "metadata": {
    "colab_type": "text",
    "id": "TSq3BxBOTAo2"
   },
   "source": [
    "Un método mas simple que también hace un conteo de grupos de acuerdo a alguna columna (un objeto `Series`), es `value_counts`, que nos entrega el conteo ordenado por grupo:"
   ]
  },
  {
   "cell_type": "code",
   "execution_count": 216,
   "metadata": {
    "colab": {},
    "colab_type": "code",
    "id": "NoU6rTkxTAo3",
    "outputId": "a4f33ecf-42fa-44a0-d0f3-4899e648511f"
   },
   "outputs": [
    {
     "data": {
      "text/plain": [
       "medio       212\n",
       "alto        119\n",
       "muy alto     13\n",
       "bajo          2\n",
       "Name: nivel_idh, dtype: int64"
      ]
     },
     "execution_count": 216,
     "metadata": {},
     "output_type": "execute_result"
    }
   ],
   "source": [
    "df['nivel_idh'].value_counts()"
   ]
  },
  {
   "cell_type": "markdown",
   "metadata": {
    "colab_type": "text",
    "id": "EAo7tQpTTApX"
   },
   "source": [
    "### Combinaciones de Dataframes\n",
    "Existen mútiples formas de combinar `DataFrames`. Aqui veremos algunas.\n",
    "- `df1.append(df2)` : **Agrega filas** de df2 al final de df1. Columnas deben ser las mismas. "
   ]
  },
  {
   "cell_type": "markdown",
   "metadata": {},
   "source": [
    "Tomemos algunas filas del df y volvamos a unirlas:"
   ]
  },
  {
   "cell_type": "code",
   "execution_count": 570,
   "metadata": {},
   "outputs": [
    {
     "data": {
      "text/html": [
       "<div>\n",
       "<style scoped>\n",
       "    .dataframe tbody tr th:only-of-type {\n",
       "        vertical-align: middle;\n",
       "    }\n",
       "\n",
       "    .dataframe tbody tr th {\n",
       "        vertical-align: top;\n",
       "    }\n",
       "\n",
       "    .dataframe thead th {\n",
       "        text-align: right;\n",
       "    }\n",
       "</style>\n",
       "<table border=\"1\" class=\"dataframe\">\n",
       "  <thead>\n",
       "    <tr style=\"text-align: right;\">\n",
       "      <th></th>\n",
       "      <th>provincia</th>\n",
       "      <th>region</th>\n",
       "      <th>superficie</th>\n",
       "      <th>poblacion</th>\n",
       "      <th>idh</th>\n",
       "      <th>nivel_idh</th>\n",
       "    </tr>\n",
       "    <tr>\n",
       "      <th>nombre</th>\n",
       "      <th></th>\n",
       "      <th></th>\n",
       "      <th></th>\n",
       "      <th></th>\n",
       "      <th></th>\n",
       "      <th></th>\n",
       "    </tr>\n",
       "  </thead>\n",
       "  <tbody>\n",
       "    <tr>\n",
       "      <th>Putre</th>\n",
       "      <td>Parinacota</td>\n",
       "      <td>Arica y Parinacota</td>\n",
       "      <td>5902.5</td>\n",
       "      <td>1462</td>\n",
       "      <td>0.707</td>\n",
       "      <td>alto</td>\n",
       "    </tr>\n",
       "    <tr>\n",
       "      <th>General Lagos</th>\n",
       "      <td>Parinacota</td>\n",
       "      <td>Arica y Parinacota</td>\n",
       "      <td>2244.4</td>\n",
       "      <td>739</td>\n",
       "      <td>0.670</td>\n",
       "      <td>medio</td>\n",
       "    </tr>\n",
       "    <tr>\n",
       "      <th>Iquique</th>\n",
       "      <td>Iquique</td>\n",
       "      <td>Tarapacá</td>\n",
       "      <td>2242.1</td>\n",
       "      <td>184953</td>\n",
       "      <td>0.766</td>\n",
       "      <td>alto</td>\n",
       "    </tr>\n",
       "  </tbody>\n",
       "</table>\n",
       "</div>"
      ],
      "text/plain": [
       "                provincia              region  superficie  poblacion    idh  \\\n",
       "nombre                                                                        \n",
       "Putre          Parinacota  Arica y Parinacota      5902.5       1462  0.707   \n",
       "General Lagos  Parinacota  Arica y Parinacota      2244.4        739  0.670   \n",
       "Iquique           Iquique            Tarapacá      2242.1     184953  0.766   \n",
       "\n",
       "              nivel_idh  \n",
       "nombre                   \n",
       "Putre              alto  \n",
       "General Lagos     medio  \n",
       "Iquique            alto  "
      ]
     },
     "execution_count": 570,
     "metadata": {},
     "output_type": "execute_result"
    }
   ],
   "source": [
    "df1 = df.iloc[2:5]\n",
    "df1"
   ]
  },
  {
   "cell_type": "code",
   "execution_count": 571,
   "metadata": {},
   "outputs": [
    {
     "data": {
      "text/html": [
       "<div>\n",
       "<style scoped>\n",
       "    .dataframe tbody tr th:only-of-type {\n",
       "        vertical-align: middle;\n",
       "    }\n",
       "\n",
       "    .dataframe tbody tr th {\n",
       "        vertical-align: top;\n",
       "    }\n",
       "\n",
       "    .dataframe thead th {\n",
       "        text-align: right;\n",
       "    }\n",
       "</style>\n",
       "<table border=\"1\" class=\"dataframe\">\n",
       "  <thead>\n",
       "    <tr style=\"text-align: right;\">\n",
       "      <th></th>\n",
       "      <th>provincia</th>\n",
       "      <th>region</th>\n",
       "      <th>superficie</th>\n",
       "      <th>poblacion</th>\n",
       "      <th>idh</th>\n",
       "      <th>nivel_idh</th>\n",
       "    </tr>\n",
       "    <tr>\n",
       "      <th>nombre</th>\n",
       "      <th></th>\n",
       "      <th></th>\n",
       "      <th></th>\n",
       "      <th></th>\n",
       "      <th></th>\n",
       "      <th></th>\n",
       "    </tr>\n",
       "  </thead>\n",
       "  <tbody>\n",
       "    <tr>\n",
       "      <th>Colchane</th>\n",
       "      <td>Tamarugal</td>\n",
       "      <td>Tarapacá</td>\n",
       "      <td>4015.6</td>\n",
       "      <td>1384</td>\n",
       "      <td>0.603</td>\n",
       "      <td>medio</td>\n",
       "    </tr>\n",
       "    <tr>\n",
       "      <th>Huara</th>\n",
       "      <td>Tamarugal</td>\n",
       "      <td>Tarapacá</td>\n",
       "      <td>10474.6</td>\n",
       "      <td>2360</td>\n",
       "      <td>0.676</td>\n",
       "      <td>medio</td>\n",
       "    </tr>\n",
       "    <tr>\n",
       "      <th>Pica</th>\n",
       "      <td>Tamarugal</td>\n",
       "      <td>Tarapacá</td>\n",
       "      <td>8934.3</td>\n",
       "      <td>4194</td>\n",
       "      <td>0.793</td>\n",
       "      <td>alto</td>\n",
       "    </tr>\n",
       "    <tr>\n",
       "      <th>Antofagasta</th>\n",
       "      <td>Antofagasta</td>\n",
       "      <td>Antofagasta</td>\n",
       "      <td>30718.1</td>\n",
       "      <td>348669</td>\n",
       "      <td>0.734</td>\n",
       "      <td>alto</td>\n",
       "    </tr>\n",
       "  </tbody>\n",
       "</table>\n",
       "</div>"
      ],
      "text/plain": [
       "               provincia       region  superficie  poblacion    idh nivel_idh\n",
       "nombre                                                                       \n",
       "Colchane       Tamarugal     Tarapacá      4015.6       1384  0.603     medio\n",
       "Huara          Tamarugal     Tarapacá     10474.6       2360  0.676     medio\n",
       "Pica           Tamarugal     Tarapacá      8934.3       4194  0.793      alto\n",
       "Antofagasta  Antofagasta  Antofagasta     30718.1     348669  0.734      alto"
      ]
     },
     "execution_count": 571,
     "metadata": {},
     "output_type": "execute_result"
    }
   ],
   "source": [
    "df2 = df.iloc[8:12]\n",
    "df2"
   ]
  },
  {
   "cell_type": "code",
   "execution_count": 572,
   "metadata": {},
   "outputs": [
    {
     "data": {
      "text/html": [
       "<div>\n",
       "<style scoped>\n",
       "    .dataframe tbody tr th:only-of-type {\n",
       "        vertical-align: middle;\n",
       "    }\n",
       "\n",
       "    .dataframe tbody tr th {\n",
       "        vertical-align: top;\n",
       "    }\n",
       "\n",
       "    .dataframe thead th {\n",
       "        text-align: right;\n",
       "    }\n",
       "</style>\n",
       "<table border=\"1\" class=\"dataframe\">\n",
       "  <thead>\n",
       "    <tr style=\"text-align: right;\">\n",
       "      <th></th>\n",
       "      <th>provincia</th>\n",
       "      <th>region</th>\n",
       "      <th>superficie</th>\n",
       "      <th>poblacion</th>\n",
       "      <th>idh</th>\n",
       "      <th>nivel_idh</th>\n",
       "    </tr>\n",
       "    <tr>\n",
       "      <th>nombre</th>\n",
       "      <th></th>\n",
       "      <th></th>\n",
       "      <th></th>\n",
       "      <th></th>\n",
       "      <th></th>\n",
       "      <th></th>\n",
       "    </tr>\n",
       "  </thead>\n",
       "  <tbody>\n",
       "    <tr>\n",
       "      <th>Putre</th>\n",
       "      <td>Parinacota</td>\n",
       "      <td>Arica y Parinacota</td>\n",
       "      <td>5902.5</td>\n",
       "      <td>1462</td>\n",
       "      <td>0.707</td>\n",
       "      <td>alto</td>\n",
       "    </tr>\n",
       "    <tr>\n",
       "      <th>General Lagos</th>\n",
       "      <td>Parinacota</td>\n",
       "      <td>Arica y Parinacota</td>\n",
       "      <td>2244.4</td>\n",
       "      <td>739</td>\n",
       "      <td>0.670</td>\n",
       "      <td>medio</td>\n",
       "    </tr>\n",
       "    <tr>\n",
       "      <th>Iquique</th>\n",
       "      <td>Iquique</td>\n",
       "      <td>Tarapacá</td>\n",
       "      <td>2242.1</td>\n",
       "      <td>184953</td>\n",
       "      <td>0.766</td>\n",
       "      <td>alto</td>\n",
       "    </tr>\n",
       "    <tr>\n",
       "      <th>Colchane</th>\n",
       "      <td>Tamarugal</td>\n",
       "      <td>Tarapacá</td>\n",
       "      <td>4015.6</td>\n",
       "      <td>1384</td>\n",
       "      <td>0.603</td>\n",
       "      <td>medio</td>\n",
       "    </tr>\n",
       "    <tr>\n",
       "      <th>Huara</th>\n",
       "      <td>Tamarugal</td>\n",
       "      <td>Tarapacá</td>\n",
       "      <td>10474.6</td>\n",
       "      <td>2360</td>\n",
       "      <td>0.676</td>\n",
       "      <td>medio</td>\n",
       "    </tr>\n",
       "    <tr>\n",
       "      <th>Pica</th>\n",
       "      <td>Tamarugal</td>\n",
       "      <td>Tarapacá</td>\n",
       "      <td>8934.3</td>\n",
       "      <td>4194</td>\n",
       "      <td>0.793</td>\n",
       "      <td>alto</td>\n",
       "    </tr>\n",
       "    <tr>\n",
       "      <th>Antofagasta</th>\n",
       "      <td>Antofagasta</td>\n",
       "      <td>Antofagasta</td>\n",
       "      <td>30718.1</td>\n",
       "      <td>348669</td>\n",
       "      <td>0.734</td>\n",
       "      <td>alto</td>\n",
       "    </tr>\n",
       "  </tbody>\n",
       "</table>\n",
       "</div>"
      ],
      "text/plain": [
       "                 provincia              region  superficie  poblacion    idh  \\\n",
       "nombre                                                                         \n",
       "Putre           Parinacota  Arica y Parinacota      5902.5       1462  0.707   \n",
       "General Lagos   Parinacota  Arica y Parinacota      2244.4        739  0.670   \n",
       "Iquique            Iquique            Tarapacá      2242.1     184953  0.766   \n",
       "Colchane         Tamarugal            Tarapacá      4015.6       1384  0.603   \n",
       "Huara            Tamarugal            Tarapacá     10474.6       2360  0.676   \n",
       "Pica             Tamarugal            Tarapacá      8934.3       4194  0.793   \n",
       "Antofagasta    Antofagasta         Antofagasta     30718.1     348669  0.734   \n",
       "\n",
       "              nivel_idh  \n",
       "nombre                   \n",
       "Putre              alto  \n",
       "General Lagos     medio  \n",
       "Iquique            alto  \n",
       "Colchane          medio  \n",
       "Huara             medio  \n",
       "Pica               alto  \n",
       "Antofagasta        alto  "
      ]
     },
     "execution_count": 572,
     "metadata": {},
     "output_type": "execute_result"
    }
   ],
   "source": [
    "df1.append(df2)"
   ]
  },
  {
   "cell_type": "markdown",
   "metadata": {},
   "source": [
    "- `pd.concat([df1, df2], axis=1)` : **Agrega columnas** de df1 al final de df2 (a la derecha). Filas deben ser las mismas.  "
   ]
  },
  {
   "cell_type": "markdown",
   "metadata": {},
   "source": [
    "Tomemos algunas columnas del df de comunas y volvamos a unirlas:"
   ]
  },
  {
   "cell_type": "code",
   "execution_count": 217,
   "metadata": {
    "scrolled": true
   },
   "outputs": [
    {
     "data": {
      "text/html": [
       "<div>\n",
       "<style scoped>\n",
       "    .dataframe tbody tr th:only-of-type {\n",
       "        vertical-align: middle;\n",
       "    }\n",
       "\n",
       "    .dataframe tbody tr th {\n",
       "        vertical-align: top;\n",
       "    }\n",
       "\n",
       "    .dataframe thead th {\n",
       "        text-align: right;\n",
       "    }\n",
       "</style>\n",
       "<table border=\"1\" class=\"dataframe\">\n",
       "  <thead>\n",
       "    <tr style=\"text-align: right;\">\n",
       "      <th></th>\n",
       "      <th>provincia</th>\n",
       "      <th>region</th>\n",
       "    </tr>\n",
       "    <tr>\n",
       "      <th>nombre</th>\n",
       "      <th></th>\n",
       "      <th></th>\n",
       "    </tr>\n",
       "  </thead>\n",
       "  <tbody>\n",
       "    <tr>\n",
       "      <th>Arica</th>\n",
       "      <td>Arica</td>\n",
       "      <td>Arica y Parinacota</td>\n",
       "    </tr>\n",
       "    <tr>\n",
       "      <th>Camarones</th>\n",
       "      <td>Arica</td>\n",
       "      <td>Arica y Parinacota</td>\n",
       "    </tr>\n",
       "    <tr>\n",
       "      <th>Putre</th>\n",
       "      <td>Parinacota</td>\n",
       "      <td>Arica y Parinacota</td>\n",
       "    </tr>\n",
       "    <tr>\n",
       "      <th>General Lagos</th>\n",
       "      <td>Parinacota</td>\n",
       "      <td>Arica y Parinacota</td>\n",
       "    </tr>\n",
       "    <tr>\n",
       "      <th>Iquique</th>\n",
       "      <td>Iquique</td>\n",
       "      <td>Tarapacá</td>\n",
       "    </tr>\n",
       "    <tr>\n",
       "      <th>...</th>\n",
       "      <td>...</td>\n",
       "      <td>...</td>\n",
       "    </tr>\n",
       "    <tr>\n",
       "      <th>Talagante</th>\n",
       "      <td>Talagante</td>\n",
       "      <td>Metropolitana de Santiago</td>\n",
       "    </tr>\n",
       "    <tr>\n",
       "      <th>El Monte</th>\n",
       "      <td>Talagante</td>\n",
       "      <td>Metropolitana de Santiago</td>\n",
       "    </tr>\n",
       "    <tr>\n",
       "      <th>Isla de Maipo</th>\n",
       "      <td>Talagante</td>\n",
       "      <td>Metropolitana de Santiago</td>\n",
       "    </tr>\n",
       "    <tr>\n",
       "      <th>Padre Hurtado</th>\n",
       "      <td>Talagante</td>\n",
       "      <td>Metropolitana de Santiago</td>\n",
       "    </tr>\n",
       "    <tr>\n",
       "      <th>Peñaflor</th>\n",
       "      <td>Talagante</td>\n",
       "      <td>Metropolitana de Santiago</td>\n",
       "    </tr>\n",
       "  </tbody>\n",
       "</table>\n",
       "<p>346 rows × 2 columns</p>\n",
       "</div>"
      ],
      "text/plain": [
       "                provincia                     region\n",
       "nombre                                              \n",
       "Arica               Arica         Arica y Parinacota\n",
       "Camarones           Arica         Arica y Parinacota\n",
       "Putre          Parinacota         Arica y Parinacota\n",
       "General Lagos  Parinacota         Arica y Parinacota\n",
       "Iquique           Iquique                   Tarapacá\n",
       "...                   ...                        ...\n",
       "Talagante       Talagante  Metropolitana de Santiago\n",
       "El Monte        Talagante  Metropolitana de Santiago\n",
       "Isla de Maipo   Talagante  Metropolitana de Santiago\n",
       "Padre Hurtado   Talagante  Metropolitana de Santiago\n",
       "Peñaflor        Talagante  Metropolitana de Santiago\n",
       "\n",
       "[346 rows x 2 columns]"
      ]
     },
     "execution_count": 217,
     "metadata": {},
     "output_type": "execute_result"
    }
   ],
   "source": [
    "df1 = df[['provincia', 'region']]\n",
    "df1"
   ]
  },
  {
   "cell_type": "code",
   "execution_count": 218,
   "metadata": {
    "scrolled": true
   },
   "outputs": [
    {
     "data": {
      "text/html": [
       "<div>\n",
       "<style scoped>\n",
       "    .dataframe tbody tr th:only-of-type {\n",
       "        vertical-align: middle;\n",
       "    }\n",
       "\n",
       "    .dataframe tbody tr th {\n",
       "        vertical-align: top;\n",
       "    }\n",
       "\n",
       "    .dataframe thead th {\n",
       "        text-align: right;\n",
       "    }\n",
       "</style>\n",
       "<table border=\"1\" class=\"dataframe\">\n",
       "  <thead>\n",
       "    <tr style=\"text-align: right;\">\n",
       "      <th></th>\n",
       "      <th>idh</th>\n",
       "      <th>superficie</th>\n",
       "    </tr>\n",
       "    <tr>\n",
       "      <th>nombre</th>\n",
       "      <th></th>\n",
       "      <th></th>\n",
       "    </tr>\n",
       "  </thead>\n",
       "  <tbody>\n",
       "    <tr>\n",
       "      <th>Arica</th>\n",
       "      <td>0.384</td>\n",
       "      <td>4799.4</td>\n",
       "    </tr>\n",
       "    <tr>\n",
       "      <th>Camarones</th>\n",
       "      <td>0.751</td>\n",
       "      <td>3927.0</td>\n",
       "    </tr>\n",
       "    <tr>\n",
       "      <th>Putre</th>\n",
       "      <td>0.707</td>\n",
       "      <td>5902.5</td>\n",
       "    </tr>\n",
       "    <tr>\n",
       "      <th>General Lagos</th>\n",
       "      <td>0.670</td>\n",
       "      <td>2244.4</td>\n",
       "    </tr>\n",
       "    <tr>\n",
       "      <th>Iquique</th>\n",
       "      <td>0.766</td>\n",
       "      <td>2242.1</td>\n",
       "    </tr>\n",
       "    <tr>\n",
       "      <th>...</th>\n",
       "      <td>...</td>\n",
       "      <td>...</td>\n",
       "    </tr>\n",
       "    <tr>\n",
       "      <th>Talagante</th>\n",
       "      <td>0.749</td>\n",
       "      <td>126.0</td>\n",
       "    </tr>\n",
       "    <tr>\n",
       "      <th>El Monte</th>\n",
       "      <td>0.688</td>\n",
       "      <td>118.0</td>\n",
       "    </tr>\n",
       "    <tr>\n",
       "      <th>Isla de Maipo</th>\n",
       "      <td>0.724</td>\n",
       "      <td>189.0</td>\n",
       "    </tr>\n",
       "    <tr>\n",
       "      <th>Padre Hurtado</th>\n",
       "      <td>0.728</td>\n",
       "      <td>80.8</td>\n",
       "    </tr>\n",
       "    <tr>\n",
       "      <th>Peñaflor</th>\n",
       "      <td>0.753</td>\n",
       "      <td>69.0</td>\n",
       "    </tr>\n",
       "  </tbody>\n",
       "</table>\n",
       "<p>346 rows × 2 columns</p>\n",
       "</div>"
      ],
      "text/plain": [
       "                 idh  superficie\n",
       "nombre                          \n",
       "Arica          0.384      4799.4\n",
       "Camarones      0.751      3927.0\n",
       "Putre          0.707      5902.5\n",
       "General Lagos  0.670      2244.4\n",
       "Iquique        0.766      2242.1\n",
       "...              ...         ...\n",
       "Talagante      0.749       126.0\n",
       "El Monte       0.688       118.0\n",
       "Isla de Maipo  0.724       189.0\n",
       "Padre Hurtado  0.728        80.8\n",
       "Peñaflor       0.753        69.0\n",
       "\n",
       "[346 rows x 2 columns]"
      ]
     },
     "execution_count": 218,
     "metadata": {},
     "output_type": "execute_result"
    }
   ],
   "source": [
    "df2 = df[['idh', 'superficie']]\n",
    "df2"
   ]
  },
  {
   "cell_type": "code",
   "execution_count": 219,
   "metadata": {
    "scrolled": true
   },
   "outputs": [
    {
     "data": {
      "text/html": [
       "<div>\n",
       "<style scoped>\n",
       "    .dataframe tbody tr th:only-of-type {\n",
       "        vertical-align: middle;\n",
       "    }\n",
       "\n",
       "    .dataframe tbody tr th {\n",
       "        vertical-align: top;\n",
       "    }\n",
       "\n",
       "    .dataframe thead th {\n",
       "        text-align: right;\n",
       "    }\n",
       "</style>\n",
       "<table border=\"1\" class=\"dataframe\">\n",
       "  <thead>\n",
       "    <tr style=\"text-align: right;\">\n",
       "      <th></th>\n",
       "      <th>provincia</th>\n",
       "      <th>region</th>\n",
       "      <th>idh</th>\n",
       "      <th>superficie</th>\n",
       "    </tr>\n",
       "    <tr>\n",
       "      <th>nombre</th>\n",
       "      <th></th>\n",
       "      <th></th>\n",
       "      <th></th>\n",
       "      <th></th>\n",
       "    </tr>\n",
       "  </thead>\n",
       "  <tbody>\n",
       "    <tr>\n",
       "      <th>Arica</th>\n",
       "      <td>Arica</td>\n",
       "      <td>Arica y Parinacota</td>\n",
       "      <td>0.384</td>\n",
       "      <td>4799.4</td>\n",
       "    </tr>\n",
       "    <tr>\n",
       "      <th>Camarones</th>\n",
       "      <td>Arica</td>\n",
       "      <td>Arica y Parinacota</td>\n",
       "      <td>0.751</td>\n",
       "      <td>3927.0</td>\n",
       "    </tr>\n",
       "    <tr>\n",
       "      <th>Putre</th>\n",
       "      <td>Parinacota</td>\n",
       "      <td>Arica y Parinacota</td>\n",
       "      <td>0.707</td>\n",
       "      <td>5902.5</td>\n",
       "    </tr>\n",
       "    <tr>\n",
       "      <th>General Lagos</th>\n",
       "      <td>Parinacota</td>\n",
       "      <td>Arica y Parinacota</td>\n",
       "      <td>0.670</td>\n",
       "      <td>2244.4</td>\n",
       "    </tr>\n",
       "    <tr>\n",
       "      <th>Iquique</th>\n",
       "      <td>Iquique</td>\n",
       "      <td>Tarapacá</td>\n",
       "      <td>0.766</td>\n",
       "      <td>2242.1</td>\n",
       "    </tr>\n",
       "    <tr>\n",
       "      <th>...</th>\n",
       "      <td>...</td>\n",
       "      <td>...</td>\n",
       "      <td>...</td>\n",
       "      <td>...</td>\n",
       "    </tr>\n",
       "    <tr>\n",
       "      <th>Talagante</th>\n",
       "      <td>Talagante</td>\n",
       "      <td>Metropolitana de Santiago</td>\n",
       "      <td>0.749</td>\n",
       "      <td>126.0</td>\n",
       "    </tr>\n",
       "    <tr>\n",
       "      <th>El Monte</th>\n",
       "      <td>Talagante</td>\n",
       "      <td>Metropolitana de Santiago</td>\n",
       "      <td>0.688</td>\n",
       "      <td>118.0</td>\n",
       "    </tr>\n",
       "    <tr>\n",
       "      <th>Isla de Maipo</th>\n",
       "      <td>Talagante</td>\n",
       "      <td>Metropolitana de Santiago</td>\n",
       "      <td>0.724</td>\n",
       "      <td>189.0</td>\n",
       "    </tr>\n",
       "    <tr>\n",
       "      <th>Padre Hurtado</th>\n",
       "      <td>Talagante</td>\n",
       "      <td>Metropolitana de Santiago</td>\n",
       "      <td>0.728</td>\n",
       "      <td>80.8</td>\n",
       "    </tr>\n",
       "    <tr>\n",
       "      <th>Peñaflor</th>\n",
       "      <td>Talagante</td>\n",
       "      <td>Metropolitana de Santiago</td>\n",
       "      <td>0.753</td>\n",
       "      <td>69.0</td>\n",
       "    </tr>\n",
       "  </tbody>\n",
       "</table>\n",
       "<p>346 rows × 4 columns</p>\n",
       "</div>"
      ],
      "text/plain": [
       "                provincia                     region    idh  superficie\n",
       "nombre                                                                 \n",
       "Arica               Arica         Arica y Parinacota  0.384      4799.4\n",
       "Camarones           Arica         Arica y Parinacota  0.751      3927.0\n",
       "Putre          Parinacota         Arica y Parinacota  0.707      5902.5\n",
       "General Lagos  Parinacota         Arica y Parinacota  0.670      2244.4\n",
       "Iquique           Iquique                   Tarapacá  0.766      2242.1\n",
       "...                   ...                        ...    ...         ...\n",
       "Talagante       Talagante  Metropolitana de Santiago  0.749       126.0\n",
       "El Monte        Talagante  Metropolitana de Santiago  0.688       118.0\n",
       "Isla de Maipo   Talagante  Metropolitana de Santiago  0.724       189.0\n",
       "Padre Hurtado   Talagante  Metropolitana de Santiago  0.728        80.8\n",
       "Peñaflor        Talagante  Metropolitana de Santiago  0.753        69.0\n",
       "\n",
       "[346 rows x 4 columns]"
      ]
     },
     "execution_count": 219,
     "metadata": {},
     "output_type": "execute_result"
    }
   ],
   "source": [
    "pd.concat([df1, df2], axis=1)"
   ]
  },
  {
   "cell_type": "markdown",
   "metadata": {},
   "source": [
    "- `pd.merge(df1, df2)` : Hace un **merge** entre df1 y df2. "
   ]
  },
  {
   "cell_type": "markdown",
   "metadata": {},
   "source": [
    "Para ilustrar `merge`, veremos un ejemplo. Se tienen dos `DataFrames`:\n",
    "* **df1**: Con el nombre de personas y un identificador del vehículo del que son dueños. \n",
    "* **df2**: Con el identificador del vehículo y el modelo de este. \n",
    "Queremos hacer _join_ sobre el identificador del vehículo, para saber que auto tiene cada persona."
   ]
  },
  {
   "cell_type": "code",
   "execution_count": 221,
   "metadata": {
    "colab": {},
    "colab_type": "code",
    "id": "OTgdHINgTApX"
   },
   "outputs": [],
   "source": [
    "df1 = pd.DataFrame({'name': ['Alice', 'Bob', 'Dino', 'Emma', 'Fabio'],\n",
    "                    'vhc_id': [1, 2, 2, 1, 3]})\n",
    "\n",
    "df2 = pd.DataFrame({'vhc_id': [1, 2],\n",
    "                    'vhc_name': ['Toyota Yaris', 'Kia Rio']})"
   ]
  },
  {
   "cell_type": "code",
   "execution_count": 222,
   "metadata": {
    "colab": {},
    "colab_type": "code",
    "id": "3XxSHja5TApc",
    "outputId": "533cad3a-e4f6-4ddb-a820-b6bd515f8be3"
   },
   "outputs": [
    {
     "data": {
      "text/html": [
       "<div>\n",
       "<style scoped>\n",
       "    .dataframe tbody tr th:only-of-type {\n",
       "        vertical-align: middle;\n",
       "    }\n",
       "\n",
       "    .dataframe tbody tr th {\n",
       "        vertical-align: top;\n",
       "    }\n",
       "\n",
       "    .dataframe thead th {\n",
       "        text-align: right;\n",
       "    }\n",
       "</style>\n",
       "<table border=\"1\" class=\"dataframe\">\n",
       "  <thead>\n",
       "    <tr style=\"text-align: right;\">\n",
       "      <th></th>\n",
       "      <th>name</th>\n",
       "      <th>vhc_id</th>\n",
       "    </tr>\n",
       "  </thead>\n",
       "  <tbody>\n",
       "    <tr>\n",
       "      <th>0</th>\n",
       "      <td>Alice</td>\n",
       "      <td>1</td>\n",
       "    </tr>\n",
       "    <tr>\n",
       "      <th>1</th>\n",
       "      <td>Bob</td>\n",
       "      <td>2</td>\n",
       "    </tr>\n",
       "    <tr>\n",
       "      <th>2</th>\n",
       "      <td>Dino</td>\n",
       "      <td>2</td>\n",
       "    </tr>\n",
       "    <tr>\n",
       "      <th>3</th>\n",
       "      <td>Emma</td>\n",
       "      <td>1</td>\n",
       "    </tr>\n",
       "    <tr>\n",
       "      <th>4</th>\n",
       "      <td>Fabio</td>\n",
       "      <td>3</td>\n",
       "    </tr>\n",
       "  </tbody>\n",
       "</table>\n",
       "</div>"
      ],
      "text/plain": [
       "    name  vhc_id\n",
       "0  Alice       1\n",
       "1    Bob       2\n",
       "2   Dino       2\n",
       "3   Emma       1\n",
       "4  Fabio       3"
      ]
     },
     "execution_count": 222,
     "metadata": {},
     "output_type": "execute_result"
    }
   ],
   "source": [
    "df1"
   ]
  },
  {
   "cell_type": "code",
   "execution_count": 578,
   "metadata": {
    "colab": {},
    "colab_type": "code",
    "id": "cl-6e8nnTApe",
    "outputId": "a5c32840-8a50-4d58-f573-2f034d74a569"
   },
   "outputs": [
    {
     "data": {
      "text/html": [
       "<div>\n",
       "<style scoped>\n",
       "    .dataframe tbody tr th:only-of-type {\n",
       "        vertical-align: middle;\n",
       "    }\n",
       "\n",
       "    .dataframe tbody tr th {\n",
       "        vertical-align: top;\n",
       "    }\n",
       "\n",
       "    .dataframe thead th {\n",
       "        text-align: right;\n",
       "    }\n",
       "</style>\n",
       "<table border=\"1\" class=\"dataframe\">\n",
       "  <thead>\n",
       "    <tr style=\"text-align: right;\">\n",
       "      <th></th>\n",
       "      <th>vhc_id</th>\n",
       "      <th>vhc_name</th>\n",
       "    </tr>\n",
       "  </thead>\n",
       "  <tbody>\n",
       "    <tr>\n",
       "      <th>0</th>\n",
       "      <td>1</td>\n",
       "      <td>Toyota Yaris</td>\n",
       "    </tr>\n",
       "    <tr>\n",
       "      <th>1</th>\n",
       "      <td>2</td>\n",
       "      <td>Kia Rio</td>\n",
       "    </tr>\n",
       "  </tbody>\n",
       "</table>\n",
       "</div>"
      ],
      "text/plain": [
       "   vhc_id      vhc_name\n",
       "0       1  Toyota Yaris\n",
       "1       2       Kia Rio"
      ]
     },
     "execution_count": 578,
     "metadata": {},
     "output_type": "execute_result"
    }
   ],
   "source": [
    "df2"
   ]
  },
  {
   "cell_type": "code",
   "execution_count": 579,
   "metadata": {
    "colab": {},
    "colab_type": "code",
    "id": "-w_1Vg_PTApo",
    "outputId": "ec9e8f8d-53bc-4bda-f6a8-501dfb43d04d"
   },
   "outputs": [
    {
     "data": {
      "text/html": [
       "<div>\n",
       "<style scoped>\n",
       "    .dataframe tbody tr th:only-of-type {\n",
       "        vertical-align: middle;\n",
       "    }\n",
       "\n",
       "    .dataframe tbody tr th {\n",
       "        vertical-align: top;\n",
       "    }\n",
       "\n",
       "    .dataframe thead th {\n",
       "        text-align: right;\n",
       "    }\n",
       "</style>\n",
       "<table border=\"1\" class=\"dataframe\">\n",
       "  <thead>\n",
       "    <tr style=\"text-align: right;\">\n",
       "      <th></th>\n",
       "      <th>name</th>\n",
       "      <th>vhc_id</th>\n",
       "      <th>vhc_name</th>\n",
       "    </tr>\n",
       "  </thead>\n",
       "  <tbody>\n",
       "    <tr>\n",
       "      <th>0</th>\n",
       "      <td>Alice</td>\n",
       "      <td>1</td>\n",
       "      <td>Toyota Yaris</td>\n",
       "    </tr>\n",
       "    <tr>\n",
       "      <th>1</th>\n",
       "      <td>Emma</td>\n",
       "      <td>1</td>\n",
       "      <td>Toyota Yaris</td>\n",
       "    </tr>\n",
       "    <tr>\n",
       "      <th>2</th>\n",
       "      <td>Bob</td>\n",
       "      <td>2</td>\n",
       "      <td>Kia Rio</td>\n",
       "    </tr>\n",
       "    <tr>\n",
       "      <th>3</th>\n",
       "      <td>Dino</td>\n",
       "      <td>2</td>\n",
       "      <td>Kia Rio</td>\n",
       "    </tr>\n",
       "  </tbody>\n",
       "</table>\n",
       "</div>"
      ],
      "text/plain": [
       "    name  vhc_id      vhc_name\n",
       "0  Alice       1  Toyota Yaris\n",
       "1   Emma       1  Toyota Yaris\n",
       "2    Bob       2       Kia Rio\n",
       "3   Dino       2       Kia Rio"
      ]
     },
     "execution_count": 579,
     "metadata": {},
     "output_type": "execute_result"
    }
   ],
   "source": [
    "pd.merge(df1, df2)"
   ]
  },
  {
   "cell_type": "markdown",
   "metadata": {
    "colab_type": "text",
    "id": "wpkH4lYkTApq"
   },
   "source": [
    "En la operación anterior, omitimos indicar explícitamente el atributo sobre el que estamos haciendo join. Para indicarlo hacemos lo siguiente:"
   ]
  },
  {
   "cell_type": "code",
   "execution_count": 580,
   "metadata": {
    "colab": {},
    "colab_type": "code",
    "id": "lWc5qRQLTAps",
    "outputId": "da0de0c6-e814-496d-b331-b7457f2d740a"
   },
   "outputs": [
    {
     "data": {
      "text/html": [
       "<div>\n",
       "<style scoped>\n",
       "    .dataframe tbody tr th:only-of-type {\n",
       "        vertical-align: middle;\n",
       "    }\n",
       "\n",
       "    .dataframe tbody tr th {\n",
       "        vertical-align: top;\n",
       "    }\n",
       "\n",
       "    .dataframe thead th {\n",
       "        text-align: right;\n",
       "    }\n",
       "</style>\n",
       "<table border=\"1\" class=\"dataframe\">\n",
       "  <thead>\n",
       "    <tr style=\"text-align: right;\">\n",
       "      <th></th>\n",
       "      <th>name</th>\n",
       "      <th>vhc_id</th>\n",
       "      <th>vhc_name</th>\n",
       "    </tr>\n",
       "  </thead>\n",
       "  <tbody>\n",
       "    <tr>\n",
       "      <th>0</th>\n",
       "      <td>Alice</td>\n",
       "      <td>1</td>\n",
       "      <td>Toyota Yaris</td>\n",
       "    </tr>\n",
       "    <tr>\n",
       "      <th>1</th>\n",
       "      <td>Emma</td>\n",
       "      <td>1</td>\n",
       "      <td>Toyota Yaris</td>\n",
       "    </tr>\n",
       "    <tr>\n",
       "      <th>2</th>\n",
       "      <td>Bob</td>\n",
       "      <td>2</td>\n",
       "      <td>Kia Rio</td>\n",
       "    </tr>\n",
       "    <tr>\n",
       "      <th>3</th>\n",
       "      <td>Dino</td>\n",
       "      <td>2</td>\n",
       "      <td>Kia Rio</td>\n",
       "    </tr>\n",
       "  </tbody>\n",
       "</table>\n",
       "</div>"
      ],
      "text/plain": [
       "    name  vhc_id      vhc_name\n",
       "0  Alice       1  Toyota Yaris\n",
       "1   Emma       1  Toyota Yaris\n",
       "2    Bob       2       Kia Rio\n",
       "3   Dino       2       Kia Rio"
      ]
     },
     "execution_count": 580,
     "metadata": {},
     "output_type": "execute_result"
    }
   ],
   "source": [
    "pd.merge(df1, df2, on='vhc_id')"
   ]
  },
  {
   "cell_type": "markdown",
   "metadata": {
    "colab_type": "text",
    "id": "R06hYhOkTApy"
   },
   "source": [
    "En el caso de que los atributos intermedios tengan **nombres distintos**:"
   ]
  },
  {
   "cell_type": "code",
   "execution_count": 581,
   "metadata": {
    "colab": {},
    "colab_type": "code",
    "id": "E7zuCa8oTApz",
    "outputId": "7cbf9109-ac64-4191-fab9-5ab185976f64"
   },
   "outputs": [
    {
     "data": {
      "text/html": [
       "<div>\n",
       "<style scoped>\n",
       "    .dataframe tbody tr th:only-of-type {\n",
       "        vertical-align: middle;\n",
       "    }\n",
       "\n",
       "    .dataframe tbody tr th {\n",
       "        vertical-align: top;\n",
       "    }\n",
       "\n",
       "    .dataframe thead th {\n",
       "        text-align: right;\n",
       "    }\n",
       "</style>\n",
       "<table border=\"1\" class=\"dataframe\">\n",
       "  <thead>\n",
       "    <tr style=\"text-align: right;\">\n",
       "      <th></th>\n",
       "      <th>name</th>\n",
       "      <th>id_vehicle</th>\n",
       "      <th>vhc_id</th>\n",
       "      <th>vhc_name</th>\n",
       "    </tr>\n",
       "  </thead>\n",
       "  <tbody>\n",
       "    <tr>\n",
       "      <th>0</th>\n",
       "      <td>Alice</td>\n",
       "      <td>1</td>\n",
       "      <td>1</td>\n",
       "      <td>Toyota Yaris</td>\n",
       "    </tr>\n",
       "    <tr>\n",
       "      <th>1</th>\n",
       "      <td>Emma</td>\n",
       "      <td>1</td>\n",
       "      <td>1</td>\n",
       "      <td>Toyota Yaris</td>\n",
       "    </tr>\n",
       "    <tr>\n",
       "      <th>2</th>\n",
       "      <td>Bob</td>\n",
       "      <td>2</td>\n",
       "      <td>2</td>\n",
       "      <td>Kia Rio</td>\n",
       "    </tr>\n",
       "    <tr>\n",
       "      <th>3</th>\n",
       "      <td>Dino</td>\n",
       "      <td>2</td>\n",
       "      <td>2</td>\n",
       "      <td>Kia Rio</td>\n",
       "    </tr>\n",
       "  </tbody>\n",
       "</table>\n",
       "</div>"
      ],
      "text/plain": [
       "    name  id_vehicle  vhc_id      vhc_name\n",
       "0  Alice           1       1  Toyota Yaris\n",
       "1   Emma           1       1  Toyota Yaris\n",
       "2    Bob           2       2       Kia Rio\n",
       "3   Dino           2       2       Kia Rio"
      ]
     },
     "execution_count": 581,
     "metadata": {},
     "output_type": "execute_result"
    }
   ],
   "source": [
    "df1 = pd.DataFrame({'name': ['Alice', 'Bob', 'Dino', 'Emma', 'Fabio'],\n",
    "                    'id_vehicle': [1, 2, 2, 1, 3]})\n",
    "\n",
    "df2 = pd.DataFrame({'vhc_id': [1, 2],\n",
    "                    'vhc_name': ['Toyota Yaris', 'Kia Rio']})\n",
    "\n",
    "pd.merge(df1, df2, left_on='id_vehicle', right_on='vhc_id')"
   ]
  },
  {
   "cell_type": "markdown",
   "metadata": {
    "colab_type": "text",
    "id": "1tci1qMJTAp2"
   },
   "source": [
    "En el caso de necesitar un _Outer Join_, podemos indicarlo con el argumento `how`. Puede ser `'left'`, `'right'` o `'outer'`. Veamos un ejemplo de _Left Outer Join_:"
   ]
  },
  {
   "cell_type": "code",
   "execution_count": 582,
   "metadata": {
    "colab": {},
    "colab_type": "code",
    "id": "WG2jbWgeTAp6",
    "outputId": "ca93735e-89e1-41ae-d825-ad00232fd56b"
   },
   "outputs": [
    {
     "data": {
      "text/html": [
       "<div>\n",
       "<style scoped>\n",
       "    .dataframe tbody tr th:only-of-type {\n",
       "        vertical-align: middle;\n",
       "    }\n",
       "\n",
       "    .dataframe tbody tr th {\n",
       "        vertical-align: top;\n",
       "    }\n",
       "\n",
       "    .dataframe thead th {\n",
       "        text-align: right;\n",
       "    }\n",
       "</style>\n",
       "<table border=\"1\" class=\"dataframe\">\n",
       "  <thead>\n",
       "    <tr style=\"text-align: right;\">\n",
       "      <th></th>\n",
       "      <th>name</th>\n",
       "      <th>id_vehicle</th>\n",
       "      <th>vhc_id</th>\n",
       "      <th>vhc_name</th>\n",
       "    </tr>\n",
       "  </thead>\n",
       "  <tbody>\n",
       "    <tr>\n",
       "      <th>0</th>\n",
       "      <td>Alice</td>\n",
       "      <td>1</td>\n",
       "      <td>1.0</td>\n",
       "      <td>Toyota Yaris</td>\n",
       "    </tr>\n",
       "    <tr>\n",
       "      <th>1</th>\n",
       "      <td>Bob</td>\n",
       "      <td>2</td>\n",
       "      <td>2.0</td>\n",
       "      <td>Kia Rio</td>\n",
       "    </tr>\n",
       "    <tr>\n",
       "      <th>2</th>\n",
       "      <td>Dino</td>\n",
       "      <td>2</td>\n",
       "      <td>2.0</td>\n",
       "      <td>Kia Rio</td>\n",
       "    </tr>\n",
       "    <tr>\n",
       "      <th>3</th>\n",
       "      <td>Emma</td>\n",
       "      <td>1</td>\n",
       "      <td>1.0</td>\n",
       "      <td>Toyota Yaris</td>\n",
       "    </tr>\n",
       "    <tr>\n",
       "      <th>4</th>\n",
       "      <td>Fabio</td>\n",
       "      <td>3</td>\n",
       "      <td>NaN</td>\n",
       "      <td>NaN</td>\n",
       "    </tr>\n",
       "  </tbody>\n",
       "</table>\n",
       "</div>"
      ],
      "text/plain": [
       "    name  id_vehicle  vhc_id      vhc_name\n",
       "0  Alice           1     1.0  Toyota Yaris\n",
       "1    Bob           2     2.0       Kia Rio\n",
       "2   Dino           2     2.0       Kia Rio\n",
       "3   Emma           1     1.0  Toyota Yaris\n",
       "4  Fabio           3     NaN           NaN"
      ]
     },
     "execution_count": 582,
     "metadata": {},
     "output_type": "execute_result"
    }
   ],
   "source": [
    "pd.merge(df1, df2, left_on='id_vehicle', right_on='vhc_id', how='left')"
   ]
  },
  {
   "cell_type": "markdown",
   "metadata": {
    "colab_type": "text",
    "id": "a31ihS8QTAqa"
   },
   "source": [
    "En el caso de querer un _join_ por más de un argumento, puedo indicar una lista de atributos. También puedes renombrar atributos en el caso de que su nombre sea igual en ambos Data Frame y no quieras generar conflictos. Esto lo puedes hacer mediante el argumento `suffixes`. Para ver más puedes consultar la documentación."
   ]
  },
  {
   "cell_type": "markdown",
   "metadata": {
    "colab_type": "text",
    "id": "hbf-WyuoTAqc"
   },
   "source": [
    "Finalmente,si queremos hacer un _join_ **utilizando uno de los índices**:"
   ]
  },
  {
   "cell_type": "code",
   "execution_count": 583,
   "metadata": {
    "colab": {},
    "colab_type": "code",
    "id": "hbfFyxMpTAqc"
   },
   "outputs": [],
   "source": [
    "df1 = pd.DataFrame({'nombre': ['Maca', 'Maria', 'Martin', 'Seba', 'Coni'],\n",
    "                    'vhc_id': [1, 2, 2, 1, 3]})\n",
    "\n",
    "df2 = pd.DataFrame({'marca': ['Ford', 'Hyundai']}, index=[1, 2])"
   ]
  },
  {
   "cell_type": "code",
   "execution_count": 584,
   "metadata": {
    "colab": {},
    "colab_type": "code",
    "id": "Pv0Lvqa7TAqf",
    "outputId": "688b66b6-6ada-47dd-e4b7-7f1920ae3838"
   },
   "outputs": [
    {
     "data": {
      "text/html": [
       "<div>\n",
       "<style scoped>\n",
       "    .dataframe tbody tr th:only-of-type {\n",
       "        vertical-align: middle;\n",
       "    }\n",
       "\n",
       "    .dataframe tbody tr th {\n",
       "        vertical-align: top;\n",
       "    }\n",
       "\n",
       "    .dataframe thead th {\n",
       "        text-align: right;\n",
       "    }\n",
       "</style>\n",
       "<table border=\"1\" class=\"dataframe\">\n",
       "  <thead>\n",
       "    <tr style=\"text-align: right;\">\n",
       "      <th></th>\n",
       "      <th>nombre</th>\n",
       "      <th>vhc_id</th>\n",
       "    </tr>\n",
       "  </thead>\n",
       "  <tbody>\n",
       "    <tr>\n",
       "      <th>0</th>\n",
       "      <td>Maca</td>\n",
       "      <td>1</td>\n",
       "    </tr>\n",
       "    <tr>\n",
       "      <th>1</th>\n",
       "      <td>Maria</td>\n",
       "      <td>2</td>\n",
       "    </tr>\n",
       "    <tr>\n",
       "      <th>2</th>\n",
       "      <td>Martin</td>\n",
       "      <td>2</td>\n",
       "    </tr>\n",
       "    <tr>\n",
       "      <th>3</th>\n",
       "      <td>Seba</td>\n",
       "      <td>1</td>\n",
       "    </tr>\n",
       "    <tr>\n",
       "      <th>4</th>\n",
       "      <td>Coni</td>\n",
       "      <td>3</td>\n",
       "    </tr>\n",
       "  </tbody>\n",
       "</table>\n",
       "</div>"
      ],
      "text/plain": [
       "   nombre  vhc_id\n",
       "0    Maca       1\n",
       "1   Maria       2\n",
       "2  Martin       2\n",
       "3    Seba       1\n",
       "4    Coni       3"
      ]
     },
     "execution_count": 584,
     "metadata": {},
     "output_type": "execute_result"
    }
   ],
   "source": [
    "df1"
   ]
  },
  {
   "cell_type": "code",
   "execution_count": 585,
   "metadata": {
    "colab": {},
    "colab_type": "code",
    "id": "YG0-9_mBTArR",
    "outputId": "26709994-7cef-486c-a3a3-d8356931f4eb"
   },
   "outputs": [
    {
     "data": {
      "text/html": [
       "<div>\n",
       "<style scoped>\n",
       "    .dataframe tbody tr th:only-of-type {\n",
       "        vertical-align: middle;\n",
       "    }\n",
       "\n",
       "    .dataframe tbody tr th {\n",
       "        vertical-align: top;\n",
       "    }\n",
       "\n",
       "    .dataframe thead th {\n",
       "        text-align: right;\n",
       "    }\n",
       "</style>\n",
       "<table border=\"1\" class=\"dataframe\">\n",
       "  <thead>\n",
       "    <tr style=\"text-align: right;\">\n",
       "      <th></th>\n",
       "      <th>marca</th>\n",
       "    </tr>\n",
       "  </thead>\n",
       "  <tbody>\n",
       "    <tr>\n",
       "      <th>1</th>\n",
       "      <td>Ford</td>\n",
       "    </tr>\n",
       "    <tr>\n",
       "      <th>2</th>\n",
       "      <td>Hyundai</td>\n",
       "    </tr>\n",
       "  </tbody>\n",
       "</table>\n",
       "</div>"
      ],
      "text/plain": [
       "     marca\n",
       "1     Ford\n",
       "2  Hyundai"
      ]
     },
     "execution_count": 585,
     "metadata": {},
     "output_type": "execute_result"
    }
   ],
   "source": [
    "#El índice de este df representa el id del vehículo\n",
    "df2"
   ]
  },
  {
   "cell_type": "code",
   "execution_count": 586,
   "metadata": {
    "colab": {},
    "colab_type": "code",
    "id": "YmPHwqjUTArZ",
    "outputId": "077abf02-e76d-45e9-a033-62f1451cc3bd"
   },
   "outputs": [
    {
     "data": {
      "text/html": [
       "<div>\n",
       "<style scoped>\n",
       "    .dataframe tbody tr th:only-of-type {\n",
       "        vertical-align: middle;\n",
       "    }\n",
       "\n",
       "    .dataframe tbody tr th {\n",
       "        vertical-align: top;\n",
       "    }\n",
       "\n",
       "    .dataframe thead th {\n",
       "        text-align: right;\n",
       "    }\n",
       "</style>\n",
       "<table border=\"1\" class=\"dataframe\">\n",
       "  <thead>\n",
       "    <tr style=\"text-align: right;\">\n",
       "      <th></th>\n",
       "      <th>nombre</th>\n",
       "      <th>vhc_id</th>\n",
       "      <th>marca</th>\n",
       "    </tr>\n",
       "  </thead>\n",
       "  <tbody>\n",
       "    <tr>\n",
       "      <th>0</th>\n",
       "      <td>Maca</td>\n",
       "      <td>1</td>\n",
       "      <td>Ford</td>\n",
       "    </tr>\n",
       "    <tr>\n",
       "      <th>3</th>\n",
       "      <td>Seba</td>\n",
       "      <td>1</td>\n",
       "      <td>Ford</td>\n",
       "    </tr>\n",
       "    <tr>\n",
       "      <th>1</th>\n",
       "      <td>Maria</td>\n",
       "      <td>2</td>\n",
       "      <td>Hyundai</td>\n",
       "    </tr>\n",
       "    <tr>\n",
       "      <th>2</th>\n",
       "      <td>Martin</td>\n",
       "      <td>2</td>\n",
       "      <td>Hyundai</td>\n",
       "    </tr>\n",
       "  </tbody>\n",
       "</table>\n",
       "</div>"
      ],
      "text/plain": [
       "   nombre  vhc_id    marca\n",
       "0    Maca       1     Ford\n",
       "3    Seba       1     Ford\n",
       "1   Maria       2  Hyundai\n",
       "2  Martin       2  Hyundai"
      ]
     },
     "execution_count": 586,
     "metadata": {},
     "output_type": "execute_result"
    }
   ],
   "source": [
    "pd.merge(df1, df2, left_on='vhc_id', right_index=True)"
   ]
  },
  {
   "cell_type": "markdown",
   "metadata": {},
   "source": [
    "### Creación de DataFrames"
   ]
  },
  {
   "cell_type": "markdown",
   "metadata": {},
   "source": [
    "Existen varias maneras de crear dataframes. Una de ellas es entregandole un diccionario al contructor de Pandas:"
   ]
  },
  {
   "cell_type": "code",
   "execution_count": 223,
   "metadata": {},
   "outputs": [
    {
     "data": {
      "text/html": [
       "<div>\n",
       "<style scoped>\n",
       "    .dataframe tbody tr th:only-of-type {\n",
       "        vertical-align: middle;\n",
       "    }\n",
       "\n",
       "    .dataframe tbody tr th {\n",
       "        vertical-align: top;\n",
       "    }\n",
       "\n",
       "    .dataframe thead th {\n",
       "        text-align: right;\n",
       "    }\n",
       "</style>\n",
       "<table border=\"1\" class=\"dataframe\">\n",
       "  <thead>\n",
       "    <tr style=\"text-align: right;\">\n",
       "      <th></th>\n",
       "      <th>name</th>\n",
       "      <th>pop</th>\n",
       "      <th>pib</th>\n",
       "    </tr>\n",
       "  </thead>\n",
       "  <tbody>\n",
       "    <tr>\n",
       "      <th>0</th>\n",
       "      <td>Metropolitana</td>\n",
       "      <td>7112808</td>\n",
       "      <td>24850</td>\n",
       "    </tr>\n",
       "    <tr>\n",
       "      <th>1</th>\n",
       "      <td>Valparaiso</td>\n",
       "      <td>1815902</td>\n",
       "      <td>14510</td>\n",
       "    </tr>\n",
       "    <tr>\n",
       "      <th>2</th>\n",
       "      <td>Biobío</td>\n",
       "      <td>1538194</td>\n",
       "      <td>13281</td>\n",
       "    </tr>\n",
       "    <tr>\n",
       "      <th>3</th>\n",
       "      <td>Maule</td>\n",
       "      <td>1044950</td>\n",
       "      <td>12695</td>\n",
       "    </tr>\n",
       "    <tr>\n",
       "      <th>4</th>\n",
       "      <td>Araucanía</td>\n",
       "      <td>957224</td>\n",
       "      <td>11064</td>\n",
       "    </tr>\n",
       "    <tr>\n",
       "      <th>5</th>\n",
       "      <td>O'Higgins</td>\n",
       "      <td>914555</td>\n",
       "      <td>14840</td>\n",
       "    </tr>\n",
       "  </tbody>\n",
       "</table>\n",
       "</div>"
      ],
      "text/plain": [
       "            name      pop    pib\n",
       "0  Metropolitana  7112808  24850\n",
       "1     Valparaiso  1815902  14510\n",
       "2         Biobío  1538194  13281\n",
       "3          Maule  1044950  12695\n",
       "4      Araucanía   957224  11064\n",
       "5      O'Higgins   914555  14840"
      ]
     },
     "execution_count": 223,
     "metadata": {},
     "output_type": "execute_result"
    }
   ],
   "source": [
    "reg_chile = {'name': ['Metropolitana', 'Valparaiso', 'Biobío', 'Maule', 'Araucanía', 'O\\'Higgins'],\n",
    "             'pop': [7112808, 1815902, 1538194, 1044950, 957224, 914555],\n",
    "             'pib': [24850, 14510, 13281, 12695, 11064, 14840]}\n",
    "df_new = pd.DataFrame(reg_chile)\n",
    "df_new"
   ]
  },
  {
   "cell_type": "markdown",
   "metadata": {},
   "source": [
    "## Solución consultas actividad 1"
   ]
  },
  {
   "cell_type": "markdown",
   "metadata": {},
   "source": [
    "### Consulta 1"
   ]
  },
  {
   "cell_type": "markdown",
   "metadata": {},
   "source": [
    "Obtener los 10 mejores computadores según el orden de cada una de las puntuaciones vs precio (gaming/precio, movilidad/precio, aplicaciones/precio):\n",
    "\n",
    "(Se piden 3 listas de 10 computadores, una lista ordenada por cada puntuación/precio)"
   ]
  },
  {
   "cell_type": "code",
   "execution_count": null,
   "metadata": {},
   "outputs": [],
   "source": []
  },
  {
   "cell_type": "markdown",
   "metadata": {},
   "source": [
    "#### Consulta 2: \n",
    "\n",
    "Para cada tarjeta gráfica integrada, calcula el valor promedio de los notebooks que la tienen incorporada."
   ]
  },
  {
   "cell_type": "code",
   "execution_count": null,
   "metadata": {},
   "outputs": [],
   "source": []
  },
  {
   "cell_type": "markdown",
   "metadata": {},
   "source": [
    "#### Consulta 3: \n",
    "\n",
    "Determinar la cantidad de notebooks con procesador marca ```Intel``` y la cantidad con procesadores ```AMD```. Además, obtener el valor promedio de las puntuaciones (aplicaciones, gaming, movilidad) para cada marca. "
   ]
  },
  {
   "cell_type": "code",
   "execution_count": null,
   "metadata": {},
   "outputs": [],
   "source": []
  },
  {
   "cell_type": "markdown",
   "metadata": {
    "colab_type": "text",
    "id": "P_fwEJUqTAo5"
   },
   "source": [
    "# Matplotlib\n",
    "\n",
    "Una de las ventajas de trabajar con `pandas` es que tenemos acceso rápido a herramientas de visualización. Una de ellas es la librería `matplotlib`. Vamos a ver un ejemplo rápido, haciendo un gráfico de barras de los habitantes por región."
   ]
  },
  {
   "cell_type": "code",
   "execution_count": 224,
   "metadata": {
    "colab": {},
    "colab_type": "code",
    "id": "aefnGdyTTAo5"
   },
   "outputs": [],
   "source": [
    "import matplotlib.pyplot as plt"
   ]
  },
  {
   "cell_type": "markdown",
   "metadata": {},
   "source": [
    "## Histograma"
   ]
  },
  {
   "cell_type": "code",
   "execution_count": 225,
   "metadata": {
    "colab": {},
    "colab_type": "code",
    "id": "4ll3xquYTApH",
    "outputId": "6f821e5b-ef5b-4762-f1b9-e9b7d7ecdf87"
   },
   "outputs": [
    {
     "data": {
      "image/png": "[encoded data removed]",
      "text/plain": [
       "<Figure size 1000x500 with 1 Axes>"
      ]
     },
     "metadata": {},
     "output_type": "display_data"
    }
   ],
   "source": [
    "#Datos\n",
    "pop_by_comune = df['poblacion'].groupby(df['region']).sum()\n",
    "plt.bar(pop_by_comune.keys(), pop_by_comune)\n",
    "\n",
    "#Diseño del gráfico\n",
    "plt.rcParams['figure.figsize'] = [10, 5] #Tamaño gráfico\n",
    "plt.title('Población por región')\n",
    "plt.xticks(rotation=80) #Rotación labels\n",
    "\n",
    "plt.show()"
   ]
  },
  {
   "cell_type": "markdown",
   "metadata": {},
   "source": [
    "## Scatter plot"
   ]
  },
  {
   "cell_type": "markdown",
   "metadata": {},
   "source": [
    "Veremos si existe alguna correlación entre densidad poblacional e IDH. "
   ]
  },
  {
   "cell_type": "code",
   "execution_count": 82,
   "metadata": {
    "scrolled": true
   },
   "outputs": [
    {
     "data": {
      "image/png": "[encoded data removed]",
      "text/plain": [
       "<Figure size 1000x500 with 1 Axes>"
      ]
     },
     "metadata": {},
     "output_type": "display_data"
    }
   ],
   "source": [
    "plt.scatter(df['poblacion']/df['superficie'], df['idh'], c=df['idh'], alpha=0.5)\n",
    "plt.xlabel(\"Densidad\")\n",
    "plt.ylabel(\"IDH\")\n",
    "plt.show()"
   ]
  },
  {
   "cell_type": "markdown",
   "metadata": {},
   "source": [
    "A veces es necesario hacer alguna **transformación** a los datos para una mejor visualización:"
   ]
  },
  {
   "cell_type": "code",
   "execution_count": 83,
   "metadata": {
    "scrolled": false
   },
   "outputs": [
    {
     "data": {
      "image/png": "[encoded data removed]",
      "text/plain": [
       "<Figure size 1000x500 with 1 Axes>"
      ]
     },
     "metadata": {},
     "output_type": "display_data"
    }
   ],
   "source": [
    "plt.scatter(np.log(df['poblacion']/df['superficie']), df['idh'], c=df['idh'], alpha=0.5)\n",
    "plt.xlabel(\"Densidad\")\n",
    "plt.ylabel(\"IDH\")\n",
    "plt.show()"
   ]
  },
  {
   "cell_type": "markdown",
   "metadata": {
    "colab_type": "text",
    "id": "B6v9qja9TAre"
   },
   "source": [
    "# Scipy\n",
    "\n",
    "`Scipy` es una librería complementaria a `numpy`, la cual contiene una serie de algoritmos matemáticos para manipular y visualizar datos. Sus principales utilidades son: \n",
    "\n",
    "    - Optimización\n",
    "    - Manejo de distribuciones de probabilidad \n",
    "    - Algoritmos de clustering\n",
    "    - Solvers de cálculo"
   ]
  },
  {
   "cell_type": "code",
   "execution_count": 95,
   "metadata": {
    "colab": {},
    "colab_type": "code",
    "id": "co7ZAvRsTAre"
   },
   "outputs": [],
   "source": [
    "import numpy as np\n",
    "import matplotlib as mpl\n",
    "import matplotlib.pyplot as plt\n",
    "import scipy.stats as stt"
   ]
  },
  {
   "cell_type": "markdown",
   "metadata": {
    "colab_type": "text",
    "id": "aI7F00RnTArf"
   },
   "source": [
    "### Muestras normales"
   ]
  },
  {
   "cell_type": "code",
   "execution_count": 226,
   "metadata": {
    "colab": {},
    "colab_type": "code",
    "id": "nrtZPzk-TAtB"
   },
   "outputs": [
    {
     "data": {
      "text/plain": [
       "array([ 0.33300246,  1.02119586,  2.09097612, ..., -2.73245667,\n",
       "       -1.13652967, -1.20867674])"
      ]
     },
     "execution_count": 226,
     "metadata": {},
     "output_type": "execute_result"
    }
   ],
   "source": [
    "data = stt.norm.rvs(loc=0, scale=1, size=10000, random_state=None)\n",
    "data"
   ]
  },
  {
   "cell_type": "markdown",
   "metadata": {
    "colab_type": "text",
    "id": "T9hyeY04TAuD"
   },
   "source": [
    "Con la ayuda de la librería `matplotlib` podemos ratificar que los datos son normales haciéndo un histograma"
   ]
  },
  {
   "cell_type": "code",
   "execution_count": 227,
   "metadata": {
    "colab": {},
    "colab_type": "code",
    "id": "mKIQU5wfTAuD",
    "outputId": "52c5d42b-d469-4430-8351-e3af4577682e"
   },
   "outputs": [
    {
     "data": {
      "text/plain": [
       "(array([  1.,   0.,   0.,   0.,   0.,   1.,   1.,   1.,   0.,   2.,   3.,\n",
       "          6.,  12.,  13.,  18.,  29.,  22.,  50.,  58.,  76., 111., 128.,\n",
       "        147., 175., 203., 253., 273., 296., 375., 390., 452., 438., 476.,\n",
       "        470., 526., 509., 474., 432., 454., 401., 411., 345., 334., 266.,\n",
       "        263., 210., 173., 150., 147.,  93.,  79.,  66.,  57.,  36.,  32.,\n",
       "         17.,   8.,  11.,   9.,   5.,   4.,   2.,   2.,   2.,   2.]),\n",
       " array([-4.37429555e+00, -4.24937346e+00, -4.12445137e+00, -3.99952927e+00,\n",
       "        -3.87460718e+00, -3.74968509e+00, -3.62476300e+00, -3.49984091e+00,\n",
       "        -3.37491882e+00, -3.24999672e+00, -3.12507463e+00, -3.00015254e+00,\n",
       "        -2.87523045e+00, -2.75030836e+00, -2.62538627e+00, -2.50046418e+00,\n",
       "        -2.37554208e+00, -2.25061999e+00, -2.12569790e+00, -2.00077581e+00,\n",
       "        -1.87585372e+00, -1.75093163e+00, -1.62600953e+00, -1.50108744e+00,\n",
       "        -1.37616535e+00, -1.25124326e+00, -1.12632117e+00, -1.00139908e+00,\n",
       "        -8.76476985e-01, -7.51554893e-01, -6.26632802e-01, -5.01710710e-01,\n",
       "        -3.76788619e-01, -2.51866527e-01, -1.26944435e-01, -2.02234390e-03,\n",
       "         1.22899748e-01,  2.47821839e-01,  3.72743931e-01,  4.97666022e-01,\n",
       "         6.22588114e-01,  7.47510206e-01,  8.72432297e-01,  9.97354389e-01,\n",
       "         1.12227648e+00,  1.24719857e+00,  1.37212066e+00,  1.49704275e+00,\n",
       "         1.62196485e+00,  1.74688694e+00,  1.87180903e+00,  1.99673112e+00,\n",
       "         2.12165321e+00,  2.24657530e+00,  2.37149740e+00,  2.49641949e+00,\n",
       "         2.62134158e+00,  2.74626367e+00,  2.87118576e+00,  2.99610785e+00,\n",
       "         3.12102995e+00,  3.24595204e+00,  3.37087413e+00,  3.49579622e+00,\n",
       "         3.62071831e+00,  3.74564040e+00]),\n",
       " [<matplotlib.patches.Polygon at 0x7fd01c1fcac0>])"
      ]
     },
     "execution_count": 227,
     "metadata": {},
     "output_type": "execute_result"
    },
    {
     "data": {
      "image/png": "[encoded data removed]",
      "text/plain": [
       "<Figure size 1000x500 with 1 Axes>"
      ]
     },
     "metadata": {},
     "output_type": "display_data"
    }
   ],
   "source": [
    "plt.hist(data, histtype='stepfilled', alpha=1, bins = \"auto\")"
   ]
  },
  {
   "cell_type": "markdown",
   "metadata": {},
   "source": [
    "### Muestras exponenciales"
   ]
  },
  {
   "cell_type": "markdown",
   "metadata": {},
   "source": [
    "Primero generamos una muestra aleatoria de 10000 datos extraidos de una distribución exponencial:"
   ]
  },
  {
   "cell_type": "code",
   "execution_count": 98,
   "metadata": {},
   "outputs": [
    {
     "data": {
      "text/plain": [
       "array([0.68019686, 0.2118314 , 0.20035208, ..., 0.10904282, 3.08077931,\n",
       "       0.79543739])"
      ]
     },
     "execution_count": 98,
     "metadata": {},
     "output_type": "execute_result"
    }
   ],
   "source": [
    "data = stt.expon.rvs(scale=2, size=10000, random_state=None)\n",
    "data"
   ]
  },
  {
   "cell_type": "markdown",
   "metadata": {},
   "source": [
    "Generaremos una secuencia de 10000 números con `linspace`. Esto lo usamos para graficar punto a punto la PDF. "
   ]
  },
  {
   "cell_type": "code",
   "execution_count": 99,
   "metadata": {},
   "outputs": [
    {
     "data": {
      "text/plain": [
       "array([0.00000000e+00, 1.50015002e-03, 3.00030003e-03, ...,\n",
       "       1.49969997e+01, 1.49984998e+01, 1.50000000e+01])"
      ]
     },
     "execution_count": 99,
     "metadata": {},
     "output_type": "execute_result"
    }
   ],
   "source": [
    "x = np.linspace(start=0, stop=15, num=10000)\n",
    "x"
   ]
  },
  {
   "cell_type": "markdown",
   "metadata": {},
   "source": [
    "La función `fit` permite **estimar los parámetros** que ajustan mejor a la distribución de los datos."
   ]
  },
  {
   "cell_type": "code",
   "execution_count": 100,
   "metadata": {},
   "outputs": [
    {
     "name": "stdout",
     "output_type": "stream",
     "text": [
      "Scale estimado: 1.9862689048796083\n"
     ]
    },
    {
     "data": {
      "text/plain": [
       "[<matplotlib.lines.Line2D at 0x7fd01dd73d60>]"
      ]
     },
     "execution_count": 100,
     "metadata": {},
     "output_type": "execute_result"
    },
    {
     "data": {
      "image/png": "[encoded data removed]",
      "text/plain": [
       "<Figure size 1200x600 with 1 Axes>"
      ]
     },
     "metadata": {},
     "output_type": "display_data"
    }
   ],
   "source": [
    "plt.figure(figsize=(12,6))\n",
    "plt.hist(data, density=True, histtype='stepfilled', alpha=1, bins = \"auto\")\n",
    "\n",
    "loc_estimado, scale_estimado = stt.expon.fit(data)\n",
    "print(f\"Scale estimado: {scale_estimado}\")\n",
    "exponential = stt.expon(loc_estimado, scale_estimado).pdf(x)\n",
    "\n",
    "plt.plot(x, exponential, label='exp')"
   ]
  },
  {
   "cell_type": "markdown",
   "metadata": {
    "colab_type": "text",
    "id": "AtBRtPplTAuF"
   },
   "source": [
    "Otra librería muy útil para hacer visualizaciones es `seaborn`. Esta herramienta permite hacer gráficos más estilizados. "
   ]
  },
  {
   "cell_type": "code",
   "execution_count": 101,
   "metadata": {
    "colab": {},
    "colab_type": "code",
    "id": "C70awJ7STAuS",
    "outputId": "b99c00dc-36ea-41ba-a092-87093f1c4fef"
   },
   "outputs": [
    {
     "data": {
      "text/plain": [
       "<seaborn.axisgrid.FacetGrid at 0x7fd01dd73f70>"
      ]
     },
     "execution_count": 101,
     "metadata": {},
     "output_type": "execute_result"
    },
    {
     "data": {
      "image/png": "[encoded data removed]",
      "text/plain": [
       "<Figure size 500x500 with 1 Axes>"
      ]
     },
     "metadata": {},
     "output_type": "display_data"
    }
   ],
   "source": [
    "import seaborn as sns\n",
    "\n",
    "sns.displot(data)"
   ]
  },
  {
   "cell_type": "markdown",
   "metadata": {
    "colab_type": "text",
    "id": "RVn7sHJBTAuV"
   },
   "source": [
    "### Evaluar puntos en distribuciones"
   ]
  },
  {
   "cell_type": "code",
   "execution_count": 102,
   "metadata": {
    "colab": {},
    "colab_type": "code",
    "id": "HOtW0dGDTAua",
    "outputId": "d9ea893f-a812-41e1-fb89-59395cfd050b"
   },
   "outputs": [
    {
     "data": {
      "text/plain": [
       "array([-30.  , -29.99, -29.98, ...,  49.97,  49.98,  49.99])"
      ]
     },
     "execution_count": 102,
     "metadata": {},
     "output_type": "execute_result"
    }
   ],
   "source": [
    "# Generamos puntos entre -30 y 50 con una densidad de 0.01\n",
    "\n",
    "x = np.arange(-30, 50, 0.01)\n",
    "x"
   ]
  },
  {
   "cell_type": "code",
   "execution_count": 103,
   "metadata": {
    "colab": {},
    "colab_type": "code",
    "id": "lG5Gab5zTAug"
   },
   "outputs": [],
   "source": [
    "# Evaluamos los valores de los puntos en las distintas distribuciones \n",
    "\n",
    "gamma = stt.gamma(6, 0, 2).pdf(x)\n",
    "laplace = stt.laplace(10, 5.8).pdf(x)\n",
    "normal = 3*stt.norm(10, 15).pdf(x)"
   ]
  },
  {
   "cell_type": "code",
   "execution_count": 104,
   "metadata": {
    "colab": {},
    "colab_type": "code",
    "id": "4FdF6tILTAum",
    "outputId": "afcf45bd-ff58-48e4-d44b-ab7abd554f4a",
    "scrolled": false
   },
   "outputs": [
    {
     "data": {
      "image/png": "[encoded data removed]",
      "text/plain": [
       "<Figure size 1000x500 with 1 Axes>"
      ]
     },
     "metadata": {},
     "output_type": "display_data"
    }
   ],
   "source": [
    "# Graficar los puntos \n",
    "\n",
    "plt.title('Gráfico ejemplo')\n",
    "plt.plot(x, laplace, label='Lapalce')\n",
    "plt.plot(x, gamma, label='Gamma')\n",
    "plt.plot(x, normal, label='Normal')\n",
    "plt.xlabel('eje x')\n",
    "plt.ylabel('eje y')\n",
    "plt.legend() #Para que aparezcan labels derecha arriba\n",
    "\n",
    "plt.show()"
   ]
  },
  {
   "cell_type": "markdown",
   "metadata": {},
   "source": [
    "# Otros ejemplos"
   ]
  },
  {
   "cell_type": "markdown",
   "metadata": {},
   "source": [
    "### Uniforme, binomial"
   ]
  },
  {
   "cell_type": "code",
   "execution_count": 108,
   "metadata": {
    "colab": {},
    "colab_type": "code",
    "id": "tZNFO0rYTAvK"
   },
   "outputs": [],
   "source": [
    "datos_uniformes = stt.uniform.rvs(size=10000)\n",
    "\n",
    "datos_binom = stt.binom.rvs(1, 0.5, size=10000)"
   ]
  },
  {
   "cell_type": "code",
   "execution_count": 109,
   "metadata": {
    "colab": {},
    "colab_type": "code",
    "id": "zMb5-I-ITAvP",
    "outputId": "fc5d692f-9f9e-42e9-bdca-899ad9033a55",
    "scrolled": true
   },
   "outputs": [
    {
     "data": {
      "image/png": "[encoded data removed]",
      "text/plain": [
       "<Figure size 1000x500 with 1 Axes>"
      ]
     },
     "metadata": {},
     "output_type": "display_data"
    }
   ],
   "source": [
    "plt.hist(datos_binom, bins='auto')\n",
    "plt.show()"
   ]
  },
  {
   "cell_type": "code",
   "execution_count": 110,
   "metadata": {
    "colab": {},
    "colab_type": "code",
    "id": "QtTC1uVRTAvn",
    "outputId": "112e5929-4db8-4983-9a17-ab78680a4ae4",
    "scrolled": true
   },
   "outputs": [
    {
     "data": {
      "image/png": "[encoded data removed]",
      "text/plain": [
       "<Figure size 1000x500 with 1 Axes>"
      ]
     },
     "metadata": {},
     "output_type": "display_data"
    }
   ],
   "source": [
    "plt.hist(datos_uniformes, bins='auto')\n",
    "plt.show()"
   ]
  },
  {
   "cell_type": "markdown",
   "metadata": {
    "colab_type": "text",
    "id": "vvSbXPXyTAut"
   },
   "source": [
    "### Normal multivariada"
   ]
  },
  {
   "cell_type": "code",
   "execution_count": 111,
   "metadata": {
    "colab": {},
    "colab_type": "code",
    "id": "iSKWJtqzTAut"
   },
   "outputs": [],
   "source": [
    "import matplotlib.pyplot as plt\n",
    "from matplotlib.pyplot import ion, figure, scatter, draw\n",
    "from matplotlib.patches import Ellipse\n",
    "\n",
    "def plot_point_cov(points, nstd=2, ax=None, **kwargs):\n",
    "    \"\"\"\n",
    "    Plots an `nstd` sigma ellipse based on the mean and covariance of a point\n",
    "    \"cloud\" (points, an Nx2 array).\n",
    "\n",
    "    Parameters\n",
    "    ----------\n",
    "        points : An Nx2 array of the data points.\n",
    "        nstd : The radius of the ellipse in numbers of standard deviations.\n",
    "            Defaults to 2 standard deviations.\n",
    "        ax : The axis that the ellipse will be plotted on. Defaults to the \n",
    "            current axis.\n",
    "        Additional keyword arguments are pass on to the ellipse patch.\n",
    "\n",
    "    Returns\n",
    "    -------\n",
    "        A matplotlib ellipse artist\n",
    "    \"\"\"\n",
    "    pos = points.mean(axis=0)\n",
    "    cov = np.cov(points, rowvar=False)\n",
    "    return plot_cov_ellipse(cov, pos, nstd, ax, **kwargs)\n",
    "\n",
    "def plot_cov_ellipse(cov, pos, nstd=2, ax=None, **kwargs):\n",
    "    \"\"\"\n",
    "    Plots an `nstd` sigma error ellipse based on the specified covariance\n",
    "    matrix (`cov`). Additional keyword arguments are passed on to the \n",
    "    ellipse patch artist.\n",
    "\n",
    "    Parameters\n",
    "    ----------\n",
    "        cov : The 2x2 covariance matrix to base the ellipse on\n",
    "        pos : The location of the center of the ellipse. Expects a 2-element\n",
    "            sequence of [x0, y0].\n",
    "        nstd : The radius of the ellipse in numbers of standard deviations.\n",
    "            Defaults to 2 standard deviations.\n",
    "        ax : The axis that the ellipse will be plotted on. Defaults to the \n",
    "            current axis.\n",
    "        Additional keyword arguments are pass on to the ellipse patch.\n",
    "\n",
    "    Returns\n",
    "    -------\n",
    "        A matplotlib ellipse artist\n",
    "    \"\"\"\n",
    "    def eigsorted(cov):\n",
    "        vals, vecs = np.linalg.eigh(cov)\n",
    "        order = vals.argsort()[::-1]\n",
    "        return vals[order], vecs[:,order]\n",
    "\n",
    "    if ax is None:\n",
    "        ax = plt.gca()\n",
    "\n",
    "    vals, vecs = eigsorted(cov)\n",
    "    theta = np.degrees(np.arctan2(*vecs[:,0][::-1]))\n",
    "\n",
    "    # Width and height are \"full\" widths, not radius\n",
    "    \n",
    "    width, height = 2 * nstd * np.sqrt(vals)\n",
    "    ellip = Ellipse(xy=pos, width=width, height=height, angle=theta, **kwargs)\n",
    "\n",
    "    ax.add_artist(ellip)\n",
    "    return ellip"
   ]
  },
  {
   "cell_type": "code",
   "execution_count": 112,
   "metadata": {
    "colab": {},
    "colab_type": "code",
    "id": "9Hgl3T6GTAvG",
    "outputId": "278b99d2-f208-4f0b-af5e-82a7b4fe177d"
   },
   "outputs": [
    {
     "data": {
      "image/png": "[encoded data removed]",
      "text/plain": [
       "<Figure size 1000x700 with 1 Axes>"
      ]
     },
     "metadata": {},
     "output_type": "display_data"
    }
   ],
   "source": [
    "m = [(-2, -1), (1, 7), (4, 0), (5, 5)]\n",
    "fig, ax = plt.subplots(figsize = (10, 7))\n",
    "\n",
    "plt.xlim(-5, 10)\n",
    "plt.ylim(-5, 10)\n",
    "\n",
    "plt.title('Proyection Multivariate Normal')\n",
    "\n",
    "for k in range(4):\n",
    "    # samplear datos para visualizar cada elipse \n",
    "    points = np.random.multivariate_normal(mean=m[k], cov=[[1,0], [0,1]], size=500)\n",
    "\n",
    "    # definir elipse\n",
    "    plot_point_cov(points, nstd=2, alpha=0.3, color='r') #np.random.rand(3))\n",
    "        \n",
    "    plt.scatter(points[:, 0], points[:, 1])\n",
    "\n",
    "    plt.scatter(*m[k], color='black')\n"
   ]
  },
  {
   "cell_type": "markdown",
   "metadata": {
    "colab_type": "text",
    "id": "UrfBH25PTAvp"
   },
   "source": [
    "# Consejos finales de eficiencia \n",
    "\n",
    "### Eficiencia en operaciones aritméticas \n",
    "\n",
    "En este curso una de las mayores dificultades será el optimizar procesos. Al trabajar con grandes cantidades de datos, los '_doble for_' y las listas por comprensión son muy ineficientes. Es por esta razón que para todas las operaciones que involucren recorrer toda la base de datos o realizar operaciones repetitivas, se deben usar `operaciones vectoriales`. Ellas están implementadas por _default_ en `numpy`. \n",
    "\n",
    "\n",
    "Por ejemplo, si se tiene una sumatoria de productos entre dos `arrays`, la lógica de intro/programación avanzada, nos dice que podríamos hacerlo con la ayuda de un `for`. "
   ]
  },
  {
   "cell_type": "code",
   "execution_count": 113,
   "metadata": {
    "colab": {},
    "colab_type": "code",
    "id": "yW2X1FUtTAvq",
    "outputId": "4b7f496d-cb7d-4c77-ea29-7203aca24de4"
   },
   "outputs": [
    {
     "name": "stdout",
     "output_type": "stream",
     "text": [
      "0.25279279077975314\n"
     ]
    }
   ],
   "source": [
    "lista1 = np.random.rand(3)\n",
    "lista2 = np.random.rand(3)\n",
    "\n",
    "suma = 0 \n",
    "for i in range(3):\n",
    "    suma += lista1[i] * lista2[i] \n",
    "\n",
    "print(suma)"
   ]
  },
  {
   "cell_type": "code",
   "execution_count": 114,
   "metadata": {
    "colab": {},
    "colab_type": "code",
    "id": "PkHFMnZrTAvt",
    "outputId": "7dc068af-2c16-4d7d-c449-2c2ae12ce98f"
   },
   "outputs": [
    {
     "data": {
      "text/plain": [
       "array([0.85519808, 0.44076753, 0.60179624])"
      ]
     },
     "execution_count": 114,
     "metadata": {},
     "output_type": "execute_result"
    }
   ],
   "source": [
    "lista1"
   ]
  },
  {
   "cell_type": "markdown",
   "metadata": {
    "colab_type": "text",
    "id": "bCWiPOdjTAvu"
   },
   "source": [
    "Funaciona bien! No obstante, debemos recordar que estamos trabajando con 3 datos :( En el caso de tener una base de datos más grande, digamos 1.000.000 datos, **el panorama cambia**. "
   ]
  },
  {
   "cell_type": "code",
   "execution_count": 115,
   "metadata": {
    "colab": {},
    "colab_type": "code",
    "id": "40Db2wwuTAvu"
   },
   "outputs": [],
   "source": [
    "lista1 = np.random.rand(1000000)\n",
    "lista2 = np.random.rand(1000000)"
   ]
  },
  {
   "cell_type": "code",
   "execution_count": 228,
   "metadata": {
    "colab": {},
    "colab_type": "code",
    "id": "Ahb6yu-DTAvv",
    "outputId": "dae12e8a-0b01-494f-b73b-a054f9dd85bd"
   },
   "outputs": [
    {
     "name": "stdout",
     "output_type": "stream",
     "text": [
      "185 ms ± 2.53 ms per loop (mean ± std. dev. of 7 runs, 10 loops each)\n"
     ]
    }
   ],
   "source": [
    "%%timeit\n",
    "\n",
    "suma = 0 \n",
    "for i in range(1000000):\n",
    "    suma += lista1[i] * lista2[i] \n"
   ]
  },
  {
   "cell_type": "markdown",
   "metadata": {
    "colab_type": "text",
    "id": "mEmRRS8xTAvw"
   },
   "source": [
    "En cambio, si llevamos esta operación a una vectorizada:"
   ]
  },
  {
   "cell_type": "code",
   "execution_count": 229,
   "metadata": {
    "colab": {},
    "colab_type": "code",
    "id": "6OwLXz7UTAvx",
    "outputId": "3c7d39f4-38e3-45f4-e8cb-b9f08e677162"
   },
   "outputs": [
    {
     "name": "stdout",
     "output_type": "stream",
     "text": [
      "247 µs ± 7.23 µs per loop (mean ± std. dev. of 7 runs, 1,000 loops each)\n"
     ]
    }
   ],
   "source": [
    "%%timeit\n",
    "np.dot(lista1, lista2)"
   ]
  },
  {
   "cell_type": "markdown",
   "metadata": {
    "colab_type": "text",
    "id": "WLvt-DwfTAv1"
   },
   "source": [
    "Es fácil darse cuenta que el **tiempo de ejecución en operaciones vectoriales** es mucho menor. Es por ello que siempre que se está armando un algoritmo es recomendable primero armarlo con funciones familiares y nativas de `python` como `for` o `while`, pero luego, cuando el programa ya funcione correctamente, ir cambiado las operaciones a otras que involucren productos cruz, punto, inversiones, transposiciones, entre otras. \n",
    "\n",
    "### Eficiencia en manejos de Dataframes en Pandas \n",
    "\n",
    "Muchas veces tendremos que sumar, multiplicar, mover o cambiar un caracter en los elementos de entre las filas de un `Dataframe` de `Pandas`. Para ello, nos veremos tentados a usar el método `iterrows`. **Mala idea**. Este método trabaja igual que un `for` built-in. Como podemos intuir, para bases pequeñas funciona bien. Pero cuando tenemos bases más apegadas a la realidad, nuestro `iterrows` podría tardar meses. Es por esto que es altamente recomendado usar los métodos que nos ofrece `pandas` para manipular los `Dataframes`. Algunos ejemplos son: \n",
    "\n",
    "    - DataFrame.add (Suma un float a un dataframe o a cierta parte de éste) \n",
    "    - DataFrame.mul (Multiplica por un float)\n",
    "    - DataFrame.pow (Eleva el Dataframe) \n",
    "    \n",
    "\n",
    "    "
   ]
  }
 ],
 "metadata": {
  "colab": {
   "name": "Ayudantía 1 - Programación vectorial.ipynb",
   "provenance": []
  },
  "kernelspec": {
   "display_name": "Python 3 (ipykernel)",
   "language": "python",
   "name": "python3"
  },
  "language_info": {
   "codemirror_mode": {
    "name": "ipython",
    "version": 3
   },
   "file_extension": ".py",
   "mimetype": "text/x-python",
   "name": "python",
   "nbconvert_exporter": "python",
   "pygments_lexer": "ipython3",
   "version": "3.8.10"
  }
 },
 "nbformat": 4,
 "nbformat_minor": 1
}
